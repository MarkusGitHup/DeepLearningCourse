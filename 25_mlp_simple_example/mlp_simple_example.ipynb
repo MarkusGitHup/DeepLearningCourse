{
 "cells": [
  {
   "cell_type": "markdown",
   "metadata": {
    "toc": true
   },
   "source": [
    "<h1>Table of Contents<span class=\"tocSkip\"></span></h1>\n",
    "<div class=\"toc\"><ul class=\"toc-item\"><li><span><a href=\"#Code-example:-A-MLP-in-Keras\" data-toc-modified-id=\"Code-example:-A-MLP-in-Keras-1\"><span class=\"toc-item-num\">1&nbsp;&nbsp;</span>Code example: A MLP in Keras</a></span></li><li><span><a href=\"#Generating-some-training-data\" data-toc-modified-id=\"Generating-some-training-data-2\"><span class=\"toc-item-num\">2&nbsp;&nbsp;</span>Generating some training data</a></span></li><li><span><a href=\"#Building-a-MLP-using-Keras\" data-toc-modified-id=\"Building-a-MLP-using-Keras-3\"><span class=\"toc-item-num\">3&nbsp;&nbsp;</span>Building a MLP using Keras</a></span></li><li><span><a href=\"#Training-the-MLP-using-the-training-data\" data-toc-modified-id=\"Training-the-MLP-using-the-training-data-4\"><span class=\"toc-item-num\">4&nbsp;&nbsp;</span>Training the MLP using the training data</a></span></li><li><span><a href=\"#Testing-the-trained-MLP-model\" data-toc-modified-id=\"Testing-the-trained-MLP-model-5\"><span class=\"toc-item-num\">5&nbsp;&nbsp;</span>Testing the trained MLP model</a></span></li></ul></div>"
   ]
  },
  {
   "cell_type": "markdown",
   "metadata": {},
   "source": [
    "# Code example: A MLP in Keras"
   ]
  },
  {
   "cell_type": "markdown",
   "metadata": {},
   "source": [
    "In this simple example you will see a first MLP implemented using Keras."
   ]
  },
  {
   "cell_type": "markdown",
   "metadata": {},
   "source": [
    "# Generating some training data"
   ]
  },
  {
   "cell_type": "markdown",
   "metadata": {},
   "source": [
    "The following code will generate a 2D matrix X with a random 2D point (x1,x2) in each row.\n",
    "The 1D matrix Y contains the desired labels. In Y, the corresponding value for (x1,x2) will be 1 if the point (x1,x2) is within a unit circle with radius 0.5 and 0 else."
   ]
  },
  {
   "cell_type": "code",
   "execution_count": 3,
   "metadata": {},
   "outputs": [
    {
     "name": "stdout",
     "output_type": "stream",
     "text": [
      "X has shape (1000, 2)\n",
      "Y has shape (1000,)\n",
      "First 10 rows of X:\n",
      " [[-0.00176132  0.89514804]\n",
      " [ 0.03715021 -0.04833937]\n",
      " [-0.99437344 -0.48209622]\n",
      " [-0.38431437  0.14380839]\n",
      " [-0.19129126  0.46814831]\n",
      " [-0.94755811 -0.90990575]\n",
      " [ 0.74477201  0.80427387]\n",
      " [-0.61008886  0.5417097 ]\n",
      " [-0.13969544  0.89397014]\n",
      " [ 0.01284563 -0.89134518]]\n",
      "First 10 entries of Y:\n",
      " [ 0.  1.  0.  1.  0.  0.  0.  0.  0.  0.]\n"
     ]
    },
    {
     "data": {
      "image/png": "[encoded data removed]",
      "text/plain": [
       "<matplotlib.figure.Figure at 0x24c3b832898>"
      ]
     },
     "metadata": {},
     "output_type": "display_data"
    }
   ],
   "source": [
    "import numpy as np\n",
    "import matplotlib.pyplot as plt\n",
    "\n",
    "X = np.random.uniform(low=-1.0, high=+1.0, size=(1000,2))\n",
    "\n",
    "Y = np.sqrt(X[:,0]**2 + X[:,1]**2) < 0.5\n",
    "Y = Y.astype(float)\n",
    "\n",
    "print(\"X has shape\", X.shape)\n",
    "print(\"Y has shape\", Y.shape)\n",
    "print(\"First 10 rows of X:\\n\", X[0:10])\n",
    "print(\"First 10 entries of Y:\\n\", Y[0:10])\n",
    "\n",
    "nr_samples = X.shape[0]\n",
    "for i in range(0,nr_samples):\n",
    "    if Y[i] == 1:\n",
    "        plt.plot(X[i,0], X[i,1], 'r+')\n",
    "    else:\n",
    "        plt.plot(X[i,0], X[i,1], 'bo')\n",
    "\n",
    "plt.show()"
   ]
  },
  {
   "cell_type": "markdown",
   "metadata": {},
   "source": [
    "# Building a MLP using Keras"
   ]
  },
  {
   "cell_type": "markdown",
   "metadata": {},
   "source": [
    "Here we generate a MLP with 3 neurons in the first hidden layer, 4 neurons in the second hidden layer, and 1 output neuron."
   ]
  },
  {
   "cell_type": "code",
   "execution_count": 4,
   "metadata": {},
   "outputs": [
    {
     "name": "stderr",
     "output_type": "stream",
     "text": [
      "Using TensorFlow backend.\n"
     ]
    },
    {
     "name": "stdout",
     "output_type": "stream",
     "text": [
      "_________________________________________________________________\n",
      "Layer (type)                 Output Shape              Param #   \n",
      "=================================================================\n",
      "dense_1 (Dense)              (None, 3)                 9         \n",
      "_________________________________________________________________\n",
      "dense_2 (Dense)              (None, 4)                 16        \n",
      "_________________________________________________________________\n",
      "dense_3 (Dense)              (None, 1)                 5         \n",
      "=================================================================\n",
      "Total params: 30\n",
      "Trainable params: 30\n",
      "Non-trainable params: 0\n",
      "_________________________________________________________________\n"
     ]
    }
   ],
   "source": [
    "from keras.models import Sequential\n",
    "from keras import layers\n",
    "from keras.layers.core import Dense\n",
    "\n",
    "model = Sequential()\n",
    "model.add(Dense(3, activation=\"relu\", input_dim=2))\n",
    "model.add(Dense(4, activation=\"relu\"))\n",
    "model.add(Dense(1, activation=\"linear\"))\n",
    "\n",
    "model.summary()"
   ]
  },
  {
   "cell_type": "markdown",
   "metadata": {},
   "source": [
    "# Training the MLP using the training data"
   ]
  },
  {
   "cell_type": "markdown",
   "metadata": {},
   "source": [
    "Now we will train the MLP using both the input matrix X and the desired output matrix Y."
   ]
  },
  {
   "cell_type": "code",
   "execution_count": 12,
   "metadata": {},
   "outputs": [
    {
     "data": {
      "text/plain": [
       "<keras.callbacks.History at 0x24c4131f9b0>"
      ]
     },
     "execution_count": 12,
     "metadata": {},
     "output_type": "execute_result"
    }
   ],
   "source": [
    "model.compile(loss='mean_squared_error', optimizer='sgd')\n",
    "model.fit(X,Y, epochs=500, verbose=0)"
   ]
  },
  {
   "cell_type": "markdown",
   "metadata": {},
   "source": [
    "# Testing the trained MLP model"
   ]
  },
  {
   "cell_type": "markdown",
   "metadata": {},
   "source": [
    "We will now use another 1000 new samples to test the MLP. Each of these 1000 examples is classified to be in class red or class blue."
   ]
  },
  {
   "cell_type": "code",
   "execution_count": 49,
   "metadata": {},
   "outputs": [
    {
     "data": {
      "image/png": "[encoded data removed]",
      "text/plain": [
       "<matplotlib.figure.Figure at 0x20621999278>"
      ]
     },
     "metadata": {},
     "output_type": "display_data"
    }
   ],
   "source": [
    "nr_test_samples = 1000\n",
    "\n",
    "for test_nr in range(0,nr_test_samples):\n",
    "    x1 = np.random.uniform(low=-1.0, high=+1.0)\n",
    "    x2 = np.random.uniform(low=-1.0, high=+1.0)   \n",
    "    vec_x = np.array([[x1, x2]]) \n",
    "                           \n",
    "    output_values = model.predict(vec_x)\n",
    "    #print(output_values)\n",
    "    \n",
    "    if (output_values[0][0] > 0.5):\n",
    "        plt.plot(x1,x2, 'r+')\n",
    "    else:\n",
    "        plt.plot(x1,x2, 'bo')\n",
    "        \n",
    "plt.show()    "
   ]
  },
  {
   "cell_type": "markdown",
   "metadata": {
    "collapsed": true
   },
   "source": [
    "The results show that the MLP has adapted the weights such that it can roughly classify new points (x1,x2)."
   ]
  },
  {
   "cell_type": "code",
   "execution_count": null,
   "metadata": {
    "collapsed": true
   },
   "outputs": [],
   "source": []
  }
 ],
 "metadata": {
  "kernelspec": {
   "display_name": "Python 3",
   "language": "python",
   "name": "python3"
  },
  "language_info": {
   "codemirror_mode": {
    "name": "ipython",
    "version": 3
   },
   "file_extension": ".py",
   "mimetype": "text/x-python",
   "name": "python",
   "nbconvert_exporter": "python",
   "pygments_lexer": "ipython3",
   "version": "3.5.4"
  },
  "toc": {
   "base_numbering": 1,
   "nav_menu": {},
   "number_sections": true,
   "sideBar": true,
   "skip_h1_title": false,
   "title_cell": "Table of Contents",
   "title_sidebar": "Contents",
   "toc_cell": true,
   "toc_position": {},
   "toc_section_display": true,
   "toc_window_display": true
  }
 },
 "nbformat": 4,
 "nbformat_minor": 2
}
