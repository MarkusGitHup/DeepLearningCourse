{
 "cells": [
  {
   "cell_type": "markdown",
   "metadata": {
    "toc": true
   },
   "source": [
    "<h1>Table of Contents<span class=\"tocSkip\"></span></h1>\n",
    "<div class=\"toc\"><ul class=\"toc-item\"><li><span><a href=\"#Code-example:-A-MLP-in-Keras\" data-toc-modified-id=\"Code-example:-A-MLP-in-Keras-1\"><span class=\"toc-item-num\">1&nbsp;&nbsp;</span>Code example: A MLP in Keras</a></span></li><li><span><a href=\"#Generating-some-training-data\" data-toc-modified-id=\"Generating-some-training-data-2\"><span class=\"toc-item-num\">2&nbsp;&nbsp;</span>Generating some training data</a></span></li><li><span><a href=\"#Building-a-MLP-using-Keras\" data-toc-modified-id=\"Building-a-MLP-using-Keras-3\"><span class=\"toc-item-num\">3&nbsp;&nbsp;</span>Building a MLP using Keras</a></span></li><li><span><a href=\"#Training-the-MLP-using-the-training-data\" data-toc-modified-id=\"Training-the-MLP-using-the-training-data-4\"><span class=\"toc-item-num\">4&nbsp;&nbsp;</span>Training the MLP using the training data</a></span></li><li><span><a href=\"#Testing-the-trained-MLP-model\" data-toc-modified-id=\"Testing-the-trained-MLP-model-5\"><span class=\"toc-item-num\">5&nbsp;&nbsp;</span>Testing the trained MLP model</a></span></li></ul></div>"
   ]
  },
  {
   "cell_type": "markdown",
   "metadata": {},
   "source": [
    "# Code example: A MLP in Keras"
   ]
  },
  {
   "cell_type": "markdown",
   "metadata": {},
   "source": [
    "In this simple example you will see a first MLP implemented using Keras."
   ]
  },
  {
   "cell_type": "markdown",
   "metadata": {},
   "source": [
    "# Generating some training data"
   ]
  },
  {
   "cell_type": "markdown",
   "metadata": {},
   "source": [
    "The following code will generate a 2D matrix X with a random 2D point (x1,x2) in each row.\n",
    "The 1D matrix Y contains the desired labels. In Y, the corresponding value for (x1,x2) will be 1 if the point (x1,x2) is within a unit circle with radius 0.5 and 0 else."
   ]
  },
  {
   "cell_type": "code",
   "execution_count": 1,
   "metadata": {},
   "outputs": [
    {
     "name": "stdout",
     "output_type": "stream",
     "text": [
      "X has shape (1000, 2)\n",
      "Y has shape (1000,)\n",
      "First 10 rows of X:\n",
      " [[-0.19690032  0.2444249 ]\n",
      " [-0.57818868  0.13176899]\n",
      " [-0.51356553 -0.87143699]\n",
      " [-0.53023496  0.07802696]\n",
      " [ 0.62915985 -0.62142535]\n",
      " [-0.26033208 -0.20242354]\n",
      " [ 0.5052009   0.86983976]\n",
      " [ 0.51486891  0.25775309]\n",
      " [ 0.88474416 -0.62540886]\n",
      " [ 0.31281605  0.35850497]]\n",
      "First 10 entries of Y:\n",
      " [ 1.  0.  0.  0.  0.  1.  0.  0.  0.  1.]\n"
     ]
    },
    {
     "data": {
      "image/png": "[encoded data removed]",
      "text/plain": [
       "<Figure size 432x288 with 1 Axes>"
      ]
     },
     "metadata": {},
     "output_type": "display_data"
    }
   ],
   "source": [
    "import numpy as np\n",
    "import matplotlib.pyplot as plt\n",
    "\n",
    "X = np.random.uniform(low=-1.0, high=+1.0, size=(1000,2))\n",
    "\n",
    "Y = np.sqrt(X[:,0]**2 + X[:,1]**2) < 0.5\n",
    "Y = Y.astype(float)\n",
    "\n",
    "print(\"X has shape\", X.shape)\n",
    "print(\"Y has shape\", Y.shape)\n",
    "print(\"First 10 rows of X:\\n\", X[0:10])\n",
    "print(\"First 10 entries of Y:\\n\", Y[0:10])\n",
    "\n",
    "nr_samples = X.shape[0]\n",
    "for i in range(0,nr_samples):\n",
    "    if Y[i] == 1:\n",
    "        plt.plot(X[i,0], X[i,1], 'r+')\n",
    "    else:\n",
    "        plt.plot(X[i,0], X[i,1], 'bo')\n",
    "\n",
    "plt.show()"
   ]
  },
  {
   "cell_type": "markdown",
   "metadata": {},
   "source": [
    "# Building a MLP using Keras"
   ]
  },
  {
   "cell_type": "markdown",
   "metadata": {},
   "source": [
    "Here we generate a MLP with 3 neurons in the first hidden layer, 4 neurons in the second hidden layer, and 1 output neuron."
   ]
  },
  {
   "cell_type": "code",
   "execution_count": 14,
   "metadata": {},
   "outputs": [
    {
     "name": "stdout",
     "output_type": "stream",
     "text": [
      "_________________________________________________________________\n",
      "Layer (type)                 Output Shape              Param #   \n",
      "=================================================================\n",
      "dense_13 (Dense)             (None, 3)                 9         \n",
      "_________________________________________________________________\n",
      "dense_14 (Dense)             (None, 4)                 16        \n",
      "_________________________________________________________________\n",
      "dense_15 (Dense)             (None, 1)                 5         \n",
      "=================================================================\n",
      "Total params: 30\n",
      "Trainable params: 30\n",
      "Non-trainable params: 0\n",
      "_________________________________________________________________\n"
     ]
    }
   ],
   "source": [
    "from keras.models import Sequential\n",
    "from keras import layers\n",
    "from keras.layers.core import Dense\n",
    "\n",
    "model = Sequential()\n",
    "model.add(Dense(3, activation=\"relu\", input_dim=2))\n",
    "model.add(Dense(4, activation=\"relu\"))\n",
    "model.add(Dense(1, activation=\"linear\"))\n",
    "\n",
    "model.summary()"
   ]
  },
  {
   "cell_type": "markdown",
   "metadata": {},
   "source": [
    "# Training the MLP using the training data"
   ]
  },
  {
   "cell_type": "markdown",
   "metadata": {},
   "source": [
    "Now we will train the MLP using both the input matrix X and the desired output matrix Y."
   ]
  },
  {
   "cell_type": "code",
   "execution_count": 15,
   "metadata": {},
   "outputs": [
    {
     "name": "stdout",
     "output_type": "stream",
     "text": [
      "Epoch 1/100\n",
      "1000/1000 [==============================] - 0s 221us/step - loss: 0.1760\n",
      "Epoch 2/100\n",
      "1000/1000 [==============================] - 0s 24us/step - loss: 0.1637\n",
      "Epoch 3/100\n",
      "1000/1000 [==============================] - 0s 25us/step - loss: 0.1588\n",
      "Epoch 4/100\n",
      "1000/1000 [==============================] - 0s 24us/step - loss: 0.1559\n",
      "Epoch 5/100\n",
      "1000/1000 [==============================] - 0s 25us/step - loss: 0.1537\n",
      "Epoch 6/100\n",
      "1000/1000 [==============================] - 0s 25us/step - loss: 0.1519\n",
      "Epoch 7/100\n",
      "1000/1000 [==============================] - 0s 25us/step - loss: 0.1503\n",
      "Epoch 8/100\n",
      "1000/1000 [==============================] - 0s 24us/step - loss: 0.1488\n",
      "Epoch 9/100\n",
      "1000/1000 [==============================] - 0s 27us/step - loss: 0.1474\n",
      "Epoch 10/100\n",
      "1000/1000 [==============================] - 0s 25us/step - loss: 0.1462\n",
      "Epoch 11/100\n",
      "1000/1000 [==============================] - 0s 26us/step - loss: 0.1448\n",
      "Epoch 12/100\n",
      "1000/1000 [==============================] - 0s 24us/step - loss: 0.1435\n",
      "Epoch 13/100\n",
      "1000/1000 [==============================] - 0s 24us/step - loss: 0.1423\n",
      "Epoch 14/100\n",
      "1000/1000 [==============================] - 0s 27us/step - loss: 0.1413\n",
      "Epoch 15/100\n",
      "1000/1000 [==============================] - 0s 26us/step - loss: 0.1402\n",
      "Epoch 16/100\n",
      "1000/1000 [==============================] - 0s 26us/step - loss: 0.1392\n",
      "Epoch 17/100\n",
      "1000/1000 [==============================] - 0s 26us/step - loss: 0.1383\n",
      "Epoch 18/100\n",
      "1000/1000 [==============================] - 0s 24us/step - loss: 0.1376\n",
      "Epoch 19/100\n",
      "1000/1000 [==============================] - 0s 26us/step - loss: 0.1368\n",
      "Epoch 20/100\n",
      "1000/1000 [==============================] - 0s 26us/step - loss: 0.1362\n",
      "Epoch 21/100\n",
      "1000/1000 [==============================] - 0s 26us/step - loss: 0.1354\n",
      "Epoch 22/100\n",
      "1000/1000 [==============================] - 0s 25us/step - loss: 0.1349\n",
      "Epoch 23/100\n",
      "1000/1000 [==============================] - 0s 25us/step - loss: 0.1343\n",
      "Epoch 24/100\n",
      "1000/1000 [==============================] - 0s 27us/step - loss: 0.1337\n",
      "Epoch 25/100\n",
      "1000/1000 [==============================] - 0s 26us/step - loss: 0.1330\n",
      "Epoch 26/100\n",
      "1000/1000 [==============================] - 0s 26us/step - loss: 0.1323\n",
      "Epoch 27/100\n",
      "1000/1000 [==============================] - 0s 25us/step - loss: 0.1319\n",
      "Epoch 28/100\n",
      "1000/1000 [==============================] - 0s 24us/step - loss: 0.1311\n",
      "Epoch 29/100\n",
      "1000/1000 [==============================] - 0s 28us/step - loss: 0.1305\n",
      "Epoch 30/100\n",
      "1000/1000 [==============================] - 0s 25us/step - loss: 0.1298\n",
      "Epoch 31/100\n",
      "1000/1000 [==============================] - 0s 24us/step - loss: 0.1293\n",
      "Epoch 32/100\n",
      "1000/1000 [==============================] - 0s 26us/step - loss: 0.1285\n",
      "Epoch 33/100\n",
      "1000/1000 [==============================] - 0s 25us/step - loss: 0.1278\n",
      "Epoch 34/100\n",
      "1000/1000 [==============================] - 0s 27us/step - loss: 0.1271\n",
      "Epoch 35/100\n",
      "1000/1000 [==============================] - 0s 25us/step - loss: 0.1263\n",
      "Epoch 36/100\n",
      "1000/1000 [==============================] - 0s 24us/step - loss: 0.1256\n",
      "Epoch 37/100\n",
      "1000/1000 [==============================] - 0s 31us/step - loss: 0.1248\n",
      "Epoch 38/100\n",
      "1000/1000 [==============================] - 0s 25us/step - loss: 0.1239\n",
      "Epoch 39/100\n",
      "1000/1000 [==============================] - 0s 28us/step - loss: 0.1231\n",
      "Epoch 40/100\n",
      "1000/1000 [==============================] - 0s 26us/step - loss: 0.1223\n",
      "Epoch 41/100\n",
      "1000/1000 [==============================] - 0s 25us/step - loss: 0.1213\n",
      "Epoch 42/100\n",
      "1000/1000 [==============================] - 0s 29us/step - loss: 0.1204\n",
      "Epoch 43/100\n",
      "1000/1000 [==============================] - 0s 31us/step - loss: 0.1193\n",
      "Epoch 44/100\n",
      "1000/1000 [==============================] - 0s 28us/step - loss: 0.1183\n",
      "Epoch 45/100\n",
      "1000/1000 [==============================] - 0s 28us/step - loss: 0.1173\n",
      "Epoch 46/100\n",
      "1000/1000 [==============================] - 0s 28us/step - loss: 0.1163\n",
      "Epoch 47/100\n",
      "1000/1000 [==============================] - 0s 30us/step - loss: 0.1152\n",
      "Epoch 48/100\n",
      "1000/1000 [==============================] - 0s 31us/step - loss: 0.1141\n",
      "Epoch 49/100\n",
      "1000/1000 [==============================] - 0s 29us/step - loss: 0.1131\n",
      "Epoch 50/100\n",
      "1000/1000 [==============================] - 0s 29us/step - loss: 0.1119\n",
      "Epoch 51/100\n",
      "1000/1000 [==============================] - 0s 28us/step - loss: 0.1107\n",
      "Epoch 52/100\n",
      "1000/1000 [==============================] - 0s 25us/step - loss: 0.1096\n",
      "Epoch 53/100\n",
      "1000/1000 [==============================] - 0s 26us/step - loss: 0.1083\n",
      "Epoch 54/100\n",
      "1000/1000 [==============================] - 0s 26us/step - loss: 0.1071\n",
      "Epoch 55/100\n",
      "1000/1000 [==============================] - 0s 26us/step - loss: 0.1058\n",
      "Epoch 56/100\n",
      "1000/1000 [==============================] - 0s 26us/step - loss: 0.1046\n",
      "Epoch 57/100\n",
      "1000/1000 [==============================] - 0s 25us/step - loss: 0.1034\n",
      "Epoch 58/100\n",
      "1000/1000 [==============================] - 0s 25us/step - loss: 0.1022\n",
      "Epoch 59/100\n",
      "1000/1000 [==============================] - 0s 28us/step - loss: 0.1009\n",
      "Epoch 60/100\n",
      "1000/1000 [==============================] - 0s 25us/step - loss: 0.0997\n",
      "Epoch 61/100\n",
      "1000/1000 [==============================] - 0s 31us/step - loss: 0.0985\n",
      "Epoch 62/100\n",
      "1000/1000 [==============================] - 0s 29us/step - loss: 0.0973\n",
      "Epoch 63/100\n",
      "1000/1000 [==============================] - 0s 24us/step - loss: 0.0960\n",
      "Epoch 64/100\n",
      "1000/1000 [==============================] - 0s 27us/step - loss: 0.0949\n",
      "Epoch 65/100\n",
      "1000/1000 [==============================] - 0s 27us/step - loss: 0.0937\n",
      "Epoch 66/100\n",
      "1000/1000 [==============================] - 0s 25us/step - loss: 0.0925\n",
      "Epoch 67/100\n",
      "1000/1000 [==============================] - 0s 27us/step - loss: 0.0915\n",
      "Epoch 68/100\n",
      "1000/1000 [==============================] - 0s 28us/step - loss: 0.0902\n",
      "Epoch 69/100\n",
      "1000/1000 [==============================] - 0s 24us/step - loss: 0.0891\n",
      "Epoch 70/100\n",
      "1000/1000 [==============================] - 0s 27us/step - loss: 0.0879\n",
      "Epoch 71/100\n",
      "1000/1000 [==============================] - 0s 26us/step - loss: 0.0868\n",
      "Epoch 72/100\n",
      "1000/1000 [==============================] - 0s 25us/step - loss: 0.0858\n",
      "Epoch 73/100\n",
      "1000/1000 [==============================] - 0s 27us/step - loss: 0.0848\n",
      "Epoch 74/100\n",
      "1000/1000 [==============================] - 0s 28us/step - loss: 0.0837\n",
      "Epoch 75/100\n",
      "1000/1000 [==============================] - 0s 25us/step - loss: 0.0827\n",
      "Epoch 76/100\n",
      "1000/1000 [==============================] - 0s 27us/step - loss: 0.0818\n",
      "Epoch 77/100\n",
      "1000/1000 [==============================] - 0s 27us/step - loss: 0.0808\n",
      "Epoch 78/100\n",
      "1000/1000 [==============================] - 0s 25us/step - loss: 0.0799\n",
      "Epoch 79/100\n",
      "1000/1000 [==============================] - 0s 30us/step - loss: 0.0790\n",
      "Epoch 80/100\n",
      "1000/1000 [==============================] - 0s 28us/step - loss: 0.0781\n",
      "Epoch 81/100\n",
      "1000/1000 [==============================] - 0s 27us/step - loss: 0.0772\n",
      "Epoch 82/100\n",
      "1000/1000 [==============================] - 0s 32us/step - loss: 0.0763\n",
      "Epoch 83/100\n",
      "1000/1000 [==============================] - 0s 29us/step - loss: 0.0756\n",
      "Epoch 84/100\n",
      "1000/1000 [==============================] - 0s 29us/step - loss: 0.0748\n",
      "Epoch 85/100\n",
      "1000/1000 [==============================] - 0s 35us/step - loss: 0.0740\n",
      "Epoch 86/100\n",
      "1000/1000 [==============================] - 0s 31us/step - loss: 0.0732\n",
      "Epoch 87/100\n",
      "1000/1000 [==============================] - 0s 29us/step - loss: 0.0727\n",
      "Epoch 88/100\n",
      "1000/1000 [==============================] - 0s 32us/step - loss: 0.0719\n",
      "Epoch 89/100\n",
      "1000/1000 [==============================] - 0s 29us/step - loss: 0.0712\n",
      "Epoch 90/100\n",
      "1000/1000 [==============================] - 0s 28us/step - loss: 0.0704\n",
      "Epoch 91/100\n",
      "1000/1000 [==============================] - 0s 31us/step - loss: 0.0698\n",
      "Epoch 92/100\n",
      "1000/1000 [==============================] - 0s 27us/step - loss: 0.0691\n",
      "Epoch 93/100\n",
      "1000/1000 [==============================] - 0s 26us/step - loss: 0.0686\n",
      "Epoch 94/100\n",
      "1000/1000 [==============================] - 0s 26us/step - loss: 0.0680\n",
      "Epoch 95/100\n",
      "1000/1000 [==============================] - 0s 29us/step - loss: 0.0675\n",
      "Epoch 96/100\n"
     ]
    },
    {
     "name": "stdout",
     "output_type": "stream",
     "text": [
      "1000/1000 [==============================] - 0s 29us/step - loss: 0.0670\n",
      "Epoch 97/100\n",
      "1000/1000 [==============================] - 0s 27us/step - loss: 0.0665\n",
      "Epoch 98/100\n",
      "1000/1000 [==============================] - 0s 26us/step - loss: 0.0658\n",
      "Epoch 99/100\n",
      "1000/1000 [==============================] - 0s 26us/step - loss: 0.0655\n",
      "Epoch 100/100\n",
      "1000/1000 [==============================] - 0s 25us/step - loss: 0.0652\n"
     ]
    },
    {
     "data": {
      "text/plain": [
       "<keras.callbacks.History at 0x21b057bf0f0>"
      ]
     },
     "execution_count": 15,
     "metadata": {},
     "output_type": "execute_result"
    }
   ],
   "source": [
    "model.compile(loss='mean_squared_error', optimizer='sgd')\n",
    "model.fit(X,Y, epochs=100, verbose=1)"
   ]
  },
  {
   "cell_type": "markdown",
   "metadata": {},
   "source": [
    "# Testing the trained MLP model"
   ]
  },
  {
   "cell_type": "markdown",
   "metadata": {},
   "source": [
    "We will now use another 1000 new samples to test the MLP. Each of these 1000 examples is classified to be in class red or class blue."
   ]
  },
  {
   "cell_type": "code",
   "execution_count": 16,
   "metadata": {},
   "outputs": [
    {
     "data": {
      "image/png": "[encoded data removed]",
      "text/plain": [
       "<Figure size 432x288 with 1 Axes>"
      ]
     },
     "metadata": {},
     "output_type": "display_data"
    }
   ],
   "source": [
    "nr_test_samples = 1000\n",
    "\n",
    "for test_nr in range(0,nr_test_samples):\n",
    "    x1 = np.random.uniform(low=-1.0, high=+1.0)\n",
    "    x2 = np.random.uniform(low=-1.0, high=+1.0)   \n",
    "    vec_x = np.array([[x1, x2]]) \n",
    "                           \n",
    "    output_values = model.predict(vec_x)\n",
    "    #print(output_values)\n",
    "    \n",
    "    if (output_values[0][0] > 0.5):\n",
    "        plt.plot(x1,x2, 'r+')\n",
    "    else:\n",
    "        plt.plot(x1,x2, 'bo')\n",
    "        \n",
    "plt.show()    "
   ]
  },
  {
   "cell_type": "markdown",
   "metadata": {
    "collapsed": true
   },
   "source": [
    "The results show that the MLP has adapted the weights such that it can roughly classify new points (x1,x2)."
   ]
  },
  {
   "cell_type": "code",
   "execution_count": null,
   "metadata": {
    "collapsed": true
   },
   "outputs": [],
   "source": []
  }
 ],
 "metadata": {
  "kernelspec": {
   "display_name": "Python 3",
   "language": "python",
   "name": "python3"
  },
  "language_info": {
   "codemirror_mode": {
    "name": "ipython",
    "version": 3
   },
   "file_extension": ".py",
   "mimetype": "text/x-python",
   "name": "python",
   "nbconvert_exporter": "python",
   "pygments_lexer": "ipython3",
   "version": "3.6.2"
  },
  "toc": {
   "base_numbering": 1,
   "nav_menu": {},
   "number_sections": true,
   "sideBar": true,
   "skip_h1_title": false,
   "title_cell": "Table of Contents",
   "title_sidebar": "Contents",
   "toc_cell": true,
   "toc_position": {
    "height": "calc(100% - 180px)",
    "left": "10px",
    "top": "150px",
    "width": "165px"
   },
   "toc_section_display": true,
   "toc_window_display": false
  }
 },
 "nbformat": 4,
 "nbformat_minor": 2
}
