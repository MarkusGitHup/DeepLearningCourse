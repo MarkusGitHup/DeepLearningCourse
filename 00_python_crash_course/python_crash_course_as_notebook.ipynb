{
 "cells": [
  {
   "cell_type": "markdown",
   "metadata": {},
   "source": [
    "# Python Crash Course\n",
    "\n",
    "by Prof. Dr.-Ing. Jürgen Brauer, http://www.juergenbrauer.org"
   ]
  },
  {
   "cell_type": "markdown",
   "metadata": {
    "toc": true
   },
   "source": [
    "<h1>Table of Contents<span class=\"tocSkip\"></span></h1>\n",
    "<div class=\"toc\"><ul class=\"toc-item\"><li><span><a href=\"#Python-Crash-Course\" data-toc-modified-id=\"Python-Crash-Course-1\"><span class=\"toc-item-num\">1&nbsp;&nbsp;</span>Python Crash Course</a></span><ul class=\"toc-item\"><li><span><a href=\"#Loops\" data-toc-modified-id=\"Loops-1.1\"><span class=\"toc-item-num\">1.1&nbsp;&nbsp;</span>Loops</a></span></li><li><span><a href=\"#Data-types\" data-toc-modified-id=\"Data-types-1.2\"><span class=\"toc-item-num\">1.2&nbsp;&nbsp;</span>Data types</a></span></li><li><span><a href=\"#Selections-and-user-input\" data-toc-modified-id=\"Selections-and-user-input-1.3\"><span class=\"toc-item-num\">1.3&nbsp;&nbsp;</span>Selections and user input</a></span></li><li><span><a href=\"#Functions\" data-toc-modified-id=\"Functions-1.4\"><span class=\"toc-item-num\">1.4&nbsp;&nbsp;</span>Functions</a></span></li><li><span><a href=\"#Classes\" data-toc-modified-id=\"Classes-1.5\"><span class=\"toc-item-num\">1.5&nbsp;&nbsp;</span>Classes</a></span></li><li><span><a href=\"#Keyword-&quot;global&quot;\" data-toc-modified-id=\"Keyword-&quot;global&quot;-1.6\"><span class=\"toc-item-num\">1.6&nbsp;&nbsp;</span>Keyword \"global\"</a></span></li><li><span><a href=\"#List-comprehension\" data-toc-modified-id=\"List-comprehension-1.7\"><span class=\"toc-item-num\">1.7&nbsp;&nbsp;</span>List comprehension</a></span></li></ul></li></ul></div>"
   ]
  },
  {
   "cell_type": "markdown",
   "metadata": {
    "collapsed": true
   },
   "source": [
    "## Loops"
   ]
  },
  {
   "cell_type": "markdown",
   "metadata": {},
   "source": [
    "Print numbers from 10 to 30 in steps of 3 with a for-loop:"
   ]
  },
  {
   "cell_type": "code",
   "execution_count": 1,
   "metadata": {},
   "outputs": [
    {
     "name": "stdout",
     "output_type": "stream",
     "text": [
      "10 13 16 19 22 25 28 "
     ]
    }
   ],
   "source": [
    "for i in range(10,30,3):\n",
    "    print(i, end=' ')"
   ]
  },
  {
   "cell_type": "markdown",
   "metadata": {},
   "source": [
    "Now let's do the same with a while-loop:"
   ]
  },
  {
   "cell_type": "code",
   "execution_count": 2,
   "metadata": {},
   "outputs": [
    {
     "name": "stdout",
     "output_type": "stream",
     "text": [
      "10 13 16 19 22 25 28 "
     ]
    }
   ],
   "source": [
    "i=10\n",
    "while i<30:\n",
    "    print(i, end=' ')\n",
    "    i += 3"
   ]
  },
  {
   "cell_type": "code",
   "execution_count": 10,
   "metadata": {},
   "outputs": [
    {
     "name": "stdout",
     "output_type": "stream",
     "text": [
      "some prime number: 1\n",
      "some prime number: 3\n",
      "some prime number: 5\n",
      "some prime number: 7\n",
      "some prime number: 11\n"
     ]
    }
   ],
   "source": [
    "for i in [1,3,5,7,11]:\n",
    "    print(\"some prime number:\", i)"
   ]
  },
  {
   "cell_type": "markdown",
   "metadata": {},
   "source": [
    "## Data types"
   ]
  },
  {
   "cell_type": "code",
   "execution_count": 3,
   "metadata": {},
   "outputs": [
    {
     "name": "stdout",
     "output_type": "stream",
     "text": [
      "<class 'int'>\n"
     ]
    }
   ],
   "source": [
    "a = 11\n",
    "print(type(a))"
   ]
  },
  {
   "cell_type": "code",
   "execution_count": 4,
   "metadata": {},
   "outputs": [
    {
     "name": "stdout",
     "output_type": "stream",
     "text": [
      "<class 'float'>\n"
     ]
    }
   ],
   "source": [
    "a = 11.123\n",
    "print(type(a))"
   ]
  },
  {
   "cell_type": "code",
   "execution_count": 5,
   "metadata": {},
   "outputs": [
    {
     "name": "stdout",
     "output_type": "stream",
     "text": [
      "<class 'str'>\n"
     ]
    }
   ],
   "source": [
    "a = \"11.123\"\n",
    "print(type(a))"
   ]
  },
  {
   "cell_type": "code",
   "execution_count": 6,
   "metadata": {},
   "outputs": [
    {
     "name": "stdout",
     "output_type": "stream",
     "text": [
      "<class 'str'>\n"
     ]
    }
   ],
   "source": [
    "a = '!'\n",
    "print(type(a))"
   ]
  },
  {
   "cell_type": "code",
   "execution_count": 7,
   "metadata": {},
   "outputs": [
    {
     "name": "stdout",
     "output_type": "stream",
     "text": [
      "<class 'list'>\n"
     ]
    }
   ],
   "source": [
    "a = [1, 2, 3]\n",
    "print(type(a))"
   ]
  },
  {
   "cell_type": "code",
   "execution_count": 8,
   "metadata": {},
   "outputs": [
    {
     "name": "stdout",
     "output_type": "stream",
     "text": [
      "[1, 2, 3, 4]\n"
     ]
    }
   ],
   "source": [
    "a.append(4)\n",
    "print(a)"
   ]
  },
  {
   "cell_type": "code",
   "execution_count": 9,
   "metadata": {},
   "outputs": [
    {
     "name": "stdout",
     "output_type": "stream",
     "text": [
      "[1, 3, 4]\n"
     ]
    }
   ],
   "source": [
    "a.remove(2)\n",
    "print(a)"
   ]
  },
  {
   "cell_type": "code",
   "execution_count": 17,
   "metadata": {},
   "outputs": [
    {
     "name": "stdout",
     "output_type": "stream",
     "text": [
      "[1, 2, 3, 4, 5, 6]\n"
     ]
    }
   ],
   "source": [
    "a1 = [1,2,3]\n",
    "a2 = [4,5,6]\n",
    "a = a1+a2\n",
    "print(a)"
   ]
  },
  {
   "cell_type": "code",
   "execution_count": 18,
   "metadata": {},
   "outputs": [
    {
     "name": "stdout",
     "output_type": "stream",
     "text": [
      "[1, 2, 3, 5, 6]\n"
     ]
    }
   ],
   "source": [
    "a.pop(3)\n",
    "print(a)"
   ]
  },
  {
   "cell_type": "code",
   "execution_count": 11,
   "metadata": {},
   "outputs": [
    {
     "name": "stdout",
     "output_type": "stream",
     "text": [
      "<class 'tuple'>\n"
     ]
    }
   ],
   "source": [
    "a = (1,2,3)\n",
    "print(type(a))"
   ]
  },
  {
   "cell_type": "code",
   "execution_count": 12,
   "metadata": {},
   "outputs": [
    {
     "ename": "AttributeError",
     "evalue": "'tuple' object has no attribute 'append'",
     "output_type": "error",
     "traceback": [
      "\u001b[1;31m---------------------------------------------------------------------------\u001b[0m",
      "\u001b[1;31mAttributeError\u001b[0m                            Traceback (most recent call last)",
      "\u001b[1;32m<ipython-input-12-6de0688dd2dd>\u001b[0m in \u001b[0;36m<module>\u001b[1;34m()\u001b[0m\n\u001b[1;32m----> 1\u001b[1;33m \u001b[0ma\u001b[0m\u001b[1;33m.\u001b[0m\u001b[0mappend\u001b[0m\u001b[1;33m(\u001b[0m\u001b[1;36m4\u001b[0m\u001b[1;33m)\u001b[0m\u001b[1;33m\u001b[0m\u001b[0m\n\u001b[0m",
      "\u001b[1;31mAttributeError\u001b[0m: 'tuple' object has no attribute 'append'"
     ]
    }
   ],
   "source": [
    "a.append(4)"
   ]
  },
  {
   "cell_type": "code",
   "execution_count": 13,
   "metadata": {},
   "outputs": [
    {
     "name": "stdout",
     "output_type": "stream",
     "text": [
      "(1, 2, 3, 4, 5, 6)\n"
     ]
    }
   ],
   "source": [
    "a1 = (1,2,3)\n",
    "a2 = (4,5,6)\n",
    "a = a1+a2\n",
    "print(a)"
   ]
  },
  {
   "cell_type": "code",
   "execution_count": 15,
   "metadata": {},
   "outputs": [
    {
     "name": "stdout",
     "output_type": "stream",
     "text": [
      "<class 'float'>\n",
      "<class 'str'>\n",
      "<class 'int'>\n"
     ]
    }
   ],
   "source": [
    "a = [3.14519, \"Some text.\", 42]\n",
    "print(type(a[0]))\n",
    "print(type(a[1]))\n",
    "print(type(a[2]))"
   ]
  },
  {
   "cell_type": "code",
   "execution_count": 16,
   "metadata": {},
   "outputs": [
    {
     "name": "stdout",
     "output_type": "stream",
     "text": [
      "[(1, 1), (5, 3), (2, 20), (3, 1)]\n"
     ]
    }
   ],
   "source": [
    "polygon = [ (1,1), (5,3), (2,20), (3,1) ]\n",
    "print(polygon)"
   ]
  },
  {
   "cell_type": "markdown",
   "metadata": {},
   "source": [
    "## Selections and user input"
   ]
  },
  {
   "cell_type": "code",
   "execution_count": 6,
   "metadata": {},
   "outputs": [
    {
     "name": "stdout",
     "output_type": "stream",
     "text": [
      "0\n",
      "<class 'str'>\n",
      "your input was zero\n"
     ]
    }
   ],
   "source": [
    "b = input()\n",
    "print(type(b))\n",
    "b = int(b)\n",
    "if b<0:\n",
    "    print(\"negative\")\n",
    "elif b>0:\n",
    "    print(\"positive\")\n",
    "else:\n",
    "    print(\"your input was zero\")"
   ]
  },
  {
   "cell_type": "markdown",
   "metadata": {},
   "source": [
    "## Functions"
   ]
  },
  {
   "cell_type": "code",
   "execution_count": 7,
   "metadata": {},
   "outputs": [
    {
     "name": "stdout",
     "output_type": "stream",
     "text": [
      "1.5\n"
     ]
    }
   ],
   "source": [
    "def avg(a,b):\n",
    "    return (a+b)/2\n",
    "print(avg(1,2))"
   ]
  },
  {
   "cell_type": "code",
   "execution_count": 8,
   "metadata": {},
   "outputs": [
    {
     "name": "stdout",
     "output_type": "stream",
     "text": [
      "(1.5, 3)\n"
     ]
    }
   ],
   "source": [
    "def avg_and_sum(a,b):\n",
    "    return ( (a+b)/2, a+b )\n",
    "print(avg_and_sum(1,2))"
   ]
  },
  {
   "cell_type": "code",
   "execution_count": 14,
   "metadata": {},
   "outputs": [
    {
     "name": "stdout",
     "output_type": "stream",
     "text": [
      "28.25\n"
     ]
    }
   ],
   "source": [
    "def avg(some_list):\n",
    "    sum = 0\n",
    "    for i in some_list:\n",
    "        sum = sum + i\n",
    "    return sum/len(some_list)\n",
    "print(avg( [1,3,4,105] ))\n",
    "        "
   ]
  },
  {
   "cell_type": "code",
   "execution_count": 17,
   "metadata": {},
   "outputs": [
    {
     "name": "stdout",
     "output_type": "stream",
     "text": [
      "1\n",
      "2\n",
      "3\n",
      "4\n",
      "5\n",
      "6\n",
      "7\n",
      "8\n",
      "9\n",
      "10\n"
     ]
    }
   ],
   "source": [
    "def f(i):\n",
    "    if i<=10:\n",
    "        print(i)\n",
    "        f(i+1)    \n",
    "f(1)"
   ]
  },
  {
   "cell_type": "markdown",
   "metadata": {},
   "source": [
    "Functions can be defined in functions"
   ]
  },
  {
   "cell_type": "code",
   "execution_count": 10,
   "metadata": {},
   "outputs": [
    {
     "data": {
      "text/plain": [
       "(36, 1030)"
      ]
     },
     "execution_count": 10,
     "metadata": {},
     "output_type": "execute_result"
    }
   ],
   "source": [
    "def some_complex_calculation(i1,i2):\n",
    "    \n",
    "    def complex_calculation_for_a(i1):\n",
    "        return i1*2+i1**5\n",
    "    \n",
    "    def complex_calculation_for_b(i2):\n",
    "        return i2*3+i2**10\n",
    "    \n",
    "    a = complex_calculation_for_a(i1)\n",
    "    b = complex_calculation_for_b(i2)\n",
    "    return (a,b)\n",
    "\n",
    "some_complex_calculation(2,2)"
   ]
  },
  {
   "cell_type": "markdown",
   "metadata": {},
   "source": [
    "## Classes"
   ]
  },
  {
   "cell_type": "code",
   "execution_count": 12,
   "metadata": {},
   "outputs": [
    {
     "name": "stdout",
     "output_type": "stream",
     "text": [
      "Car mileage: 500\n",
      "You cannot drive that fast!\n"
     ]
    }
   ],
   "source": [
    "class car:\n",
    "    \n",
    "    def __init__(self, maxspeed, mileage):\n",
    "        self.maxspeed = maxspeed\n",
    "        self.mileage  = mileage\n",
    "        \n",
    "    def drive(self, speed, time):\n",
    "        if speed > self.maxspeed:\n",
    "            print(\"You cannot drive that fast!\")\n",
    "        else:\n",
    "            self.mileage = self.mileage + speed*time\n",
    "        \n",
    "    def info(self):\n",
    "        print(\"Car mileage:\", self.mileage)\n",
    "        \n",
    "c1 = car(200,0)\n",
    "c1.drive(100, 5)\n",
    "c1.info()\n",
    "c1.drive(250, 5)"
   ]
  },
  {
   "cell_type": "code",
   "execution_count": 15,
   "metadata": {},
   "outputs": [
    {
     "name": "stdout",
     "output_type": "stream",
     "text": [
      "Car mileage: 0\n",
      "Time to open roof:  30\n"
     ]
    }
   ],
   "source": [
    "class convertible(car):\n",
    "\n",
    "    def __init__(self, time_to_open_roof, maxspeed, mileage):\n",
    "        car.__init__(self, maxspeed, mileage)\n",
    "        self.time_to_open_roof = time_to_open_roof\n",
    "\n",
    "    def info(self):\n",
    "        car.info(self)\n",
    "        print(\"Time to open roof: \", self.time_to_open_roof)\n",
    "        \n",
    "c2 = convertible(30, 200, 0)\n",
    "c2.info()"
   ]
  },
  {
   "cell_type": "markdown",
   "metadata": {},
   "source": [
    "## Keyword \"global\""
   ]
  },
  {
   "cell_type": "code",
   "execution_count": 5,
   "metadata": {},
   "outputs": [
    {
     "name": "stdout",
     "output_type": "stream",
     "text": [
      "1 2\n",
      "10 20\n"
     ]
    }
   ],
   "source": [
    "def foo():    \n",
    "    a = 1\n",
    "    b = 2\n",
    "    print(a,b)\n",
    "\n",
    "a=10\n",
    "b=20\n",
    "foo()\n",
    "print(a,b)\n"
   ]
  },
  {
   "cell_type": "code",
   "execution_count": 6,
   "metadata": {},
   "outputs": [
    {
     "name": "stdout",
     "output_type": "stream",
     "text": [
      "1 2\n",
      "1 2\n"
     ]
    }
   ],
   "source": [
    "def foo():\n",
    "    global a,b\n",
    "    a = 1\n",
    "    b = 2\n",
    "    print(a,b)\n",
    "\n",
    "a=10\n",
    "b=20\n",
    "foo()\n",
    "print(a,b)"
   ]
  },
  {
   "cell_type": "markdown",
   "metadata": {},
   "source": [
    "## List comprehension"
   ]
  },
  {
   "cell_type": "code",
   "execution_count": 11,
   "metadata": {},
   "outputs": [
    {
     "name": "stdout",
     "output_type": "stream",
     "text": [
      "[0, 1, 4, 9, 16, 25, 36, 49, 64, 81]\n"
     ]
    }
   ],
   "source": [
    "squares = []\n",
    "\n",
    "for x in range(10):\n",
    "    squares.append(x**2)\n",
    " \n",
    "print(squares)"
   ]
  },
  {
   "cell_type": "code",
   "execution_count": 13,
   "metadata": {},
   "outputs": [
    {
     "name": "stdout",
     "output_type": "stream",
     "text": [
      "[0, 1, 4, 9, 16, 25, 36, 49, 64, 81]\n"
     ]
    }
   ],
   "source": [
    "# much simpler:\n",
    "squares = [x**2 for x in range(10)]\n",
    "print(squares)"
   ]
  },
  {
   "cell_type": "code",
   "execution_count": 14,
   "metadata": {},
   "outputs": [
    {
     "name": "stdout",
     "output_type": "stream",
     "text": [
      "[3.1, 3.14, 3.142, 3.1416, 3.14159]\n"
     ]
    }
   ],
   "source": [
    "from math import pi\n",
    "list_pi_rounded = [(round(pi, i)) for i in range(1, 6)]\n",
    "print(list_pi_rounded)"
   ]
  },
  {
   "cell_type": "code",
   "execution_count": null,
   "metadata": {
    "collapsed": true
   },
   "outputs": [],
   "source": []
  }
 ],
 "metadata": {
  "kernelspec": {
   "display_name": "Python 3",
   "language": "python",
   "name": "python3"
  },
  "language_info": {
   "codemirror_mode": {
    "name": "ipython",
    "version": 3
   },
   "file_extension": ".py",
   "mimetype": "text/x-python",
   "name": "python",
   "nbconvert_exporter": "python",
   "pygments_lexer": "ipython3",
   "version": "3.5.4"
  },
  "toc": {
   "base_numbering": 1,
   "nav_menu": {},
   "number_sections": true,
   "sideBar": true,
   "skip_h1_title": false,
   "title_cell": "Table of Contents",
   "title_sidebar": "Contents",
   "toc_cell": true,
   "toc_position": {
    "height": "calc(100% - 180px)",
    "left": "10px",
    "top": "150px",
    "width": "165px"
   },
   "toc_section_display": true,
   "toc_window_display": true
  }
 },
 "nbformat": 4,
 "nbformat_minor": 2
}
