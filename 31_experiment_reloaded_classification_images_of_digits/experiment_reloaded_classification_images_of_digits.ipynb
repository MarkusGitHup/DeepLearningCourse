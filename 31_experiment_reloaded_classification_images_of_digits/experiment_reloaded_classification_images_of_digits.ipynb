{
 "cells": [
  {
   "cell_type": "markdown",
   "metadata": {
    "toc": true
   },
   "source": [
    "<h1>Table of Contents<span class=\"tocSkip\"></span></h1>\n",
    "<div class=\"toc\"><ul class=\"toc-item\"><li><span><a href=\"#MLP-vs.-CNN\" data-toc-modified-id=\"MLP-vs.-CNN-1\"><span class=\"toc-item-num\">1&nbsp;&nbsp;</span>MLP vs. CNN</a></span></li><li><span><a href=\"#Are-all-libraries-that-are-needed-available?\" data-toc-modified-id=\"Are-all-libraries-that-are-needed-available?-2\"><span class=\"toc-item-num\">2&nbsp;&nbsp;</span>Are all libraries that are needed available?</a></span></li><li><span><a href=\"#Prepare-an-image-provider-class\" data-toc-modified-id=\"Prepare-an-image-provider-class-3\"><span class=\"toc-item-num\">3&nbsp;&nbsp;</span>Prepare an image provider class</a></span></li><li><span><a href=\"#Build-a-MLP-model\" data-toc-modified-id=\"Build-a-MLP-model-4\"><span class=\"toc-item-num\">4&nbsp;&nbsp;</span>Build a MLP model</a></span></li><li><span><a href=\"#Train-the-MLP-with-images\" data-toc-modified-id=\"Train-the-MLP-with-images-5\"><span class=\"toc-item-num\">5&nbsp;&nbsp;</span>Train the MLP with images</a></span></li><li><span><a href=\"#Test-the-final-MLP-on-training-data\" data-toc-modified-id=\"Test-the-final-MLP-on-training-data-6\"><span class=\"toc-item-num\">6&nbsp;&nbsp;</span>Test the final MLP on training data</a></span></li><li><span><a href=\"#Testing-the-MLP-with-new-images\" data-toc-modified-id=\"Testing-the-MLP-with-new-images-7\"><span class=\"toc-item-num\">7&nbsp;&nbsp;</span>Testing the MLP with new images</a></span></li><li><span><a href=\"#Conclusions-for-the-MLP\" data-toc-modified-id=\"Conclusions-for-the-MLP-8\"><span class=\"toc-item-num\">8&nbsp;&nbsp;</span>Conclusions for the MLP</a></span></li><li><span><a href=\"#Build-a-CNN\" data-toc-modified-id=\"Build-a-CNN-9\"><span class=\"toc-item-num\">9&nbsp;&nbsp;</span>Build a CNN</a></span></li><li><span><a href=\"#Train-the-CNN\" data-toc-modified-id=\"Train-the-CNN-10\"><span class=\"toc-item-num\">10&nbsp;&nbsp;</span>Train the CNN</a></span></li><li><span><a href=\"#Test-the-CNN-on-training-data\" data-toc-modified-id=\"Test-the-CNN-on-training-data-11\"><span class=\"toc-item-num\">11&nbsp;&nbsp;</span>Test the CNN on training data</a></span></li><li><span><a href=\"#Test-the-CNN-on-new-images\" data-toc-modified-id=\"Test-the-CNN-on-new-images-12\"><span class=\"toc-item-num\">12&nbsp;&nbsp;</span>Test the CNN on new images</a></span></li></ul></div>"
   ]
  },
  {
   "cell_type": "markdown",
   "metadata": {},
   "source": [
    "# MLP vs. CNN\n",
    "\n",
    "The goal of this notebook is to show by simple means that a CNN is a much better model than a MLP for image classification due to its capability to establish representations of the image in the feature hierarchy that are invariant to translations."
   ]
  },
  {
   "cell_type": "markdown",
   "metadata": {},
   "source": [
    "# Are all libraries that are needed available?"
   ]
  },
  {
   "cell_type": "code",
   "execution_count": 1,
   "metadata": {},
   "outputs": [
    {
     "name": "stdout",
     "output_type": "stream",
     "text": [
      "Your NumPy version is: 1.16.2\n",
      "Your TensorFlow version is: 1.13.1\n",
      "Your Keras version is: 2.2.4\n",
      "Your OpenCV version is: 4.1.0\n"
     ]
    },
    {
     "name": "stderr",
     "output_type": "stream",
     "text": [
      "Using TensorFlow backend.\n"
     ]
    }
   ],
   "source": [
    "import numpy as np\n",
    "import tensorflow as tf\n",
    "import keras\n",
    "import cv2\n",
    "\n",
    "print( \"Your NumPy version is: \" + np.__version__ )\n",
    "print( \"Your TensorFlow version is: \" + tf.__version__)\n",
    "print( \"Your Keras version is: \" + keras.__version__ )\n",
    "print( \"Your OpenCV version is: \" + cv2.__version__ )"
   ]
  },
  {
   "cell_type": "markdown",
   "metadata": {},
   "source": [
    "# Prepare an image provider class"
   ]
  },
  {
   "cell_type": "code",
   "execution_count": 26,
   "metadata": {
    "collapsed": true
   },
   "outputs": [],
   "source": [
    "import os\n",
    "from os import listdir\n",
    "from os.path import isdir, isfile, join\n",
    "\n",
    "IMG_SIZE = (100,100)\n",
    "    \n",
    "class image_provider:\n",
    "    \n",
    "    #\n",
    "    # Traverses all subfolders of the specified root_folder\n",
    "    # and generates a list of the form:\n",
    "    #\n",
    "    # [ [\"data/bikes/jfksdj43.jpg\", \"bikes\",\n",
    "    #   [\"data/cars/bvcnm401.jpg\", \"cars\"],\n",
    "    #   ...\n",
    "    # ]\n",
    "    #\n",
    "    def __init__(self, root_folder):\n",
    "        \n",
    "        self.all_training_items = []\n",
    "       \n",
    "        class_names = \\\n",
    "            [d for d in listdir(root_folder)\n",
    "             if isdir(os.path.join(root_folder,d))]\n",
    "\n",
    "        print(\"Under folder\", root_folder,\n",
    "              \"I found the following subfolders/classes:\")\n",
    "        print(class_names)\n",
    "        \n",
    "        self.nr_classes = len(class_names)\n",
    "        \n",
    "        # For each subfolder ...\n",
    "        for class_id, class_name in enumerate(class_names):\n",
    "            \n",
    "            subfolder_name = root_folder + \"/\" + class_name + \"/\"\n",
    "            \n",
    "            filenames = \\\n",
    "                [subfolder_name + f\n",
    "                 for f in listdir(subfolder_name) if isfile(join(subfolder_name, f))]\n",
    "            \n",
    "            print(\"{} files in subfolder {}\".format(len(filenames), subfolder_name) )\n",
    "            \n",
    "            # For each image filename in current subfolder ...\n",
    "            for filename in filenames:\n",
    "                \n",
    "                teacher_vec = np.zeros( self.nr_classes )\n",
    "                teacher_vec[class_id] = 1.0\n",
    "                \n",
    "                self.all_training_items.append(\n",
    "                    [filename, class_id, class_name, teacher_vec] )              \n",
    "        \n",
    "        self.nr_images = len(self.all_training_items)\n",
    "        print(\"There are {} images in total available.\".format(self.nr_images))\n",
    "        \n",
    "    \n",
    "    \n",
    "    #   \n",
    "    # Given an absolute filename,\n",
    "    # load the image in using OpenCV,\n",
    "    # then convert it to usual RGB color channel order\n",
    "    # and scale values to be in range [0,1]\n",
    "    #\n",
    "    def load_image(self, absolute_filename):\n",
    "        \n",
    "        image = cv2.imread(absolute_filename)\n",
    "        image = cv2.cvtColor(image, cv2.COLOR_BGR2RGB)\n",
    "        \n",
    "        # invert image\n",
    "        image = 255 - image\n",
    "        \n",
    "        image = cv2.resize(image, IMG_SIZE, interpolation=cv2.INTER_AREA)\n",
    "        image = image * (1.0 / 255.0)\n",
    "        \n",
    "        return image\n",
    "        \n",
    "        \n",
    "       \n",
    "    #\n",
    "    # Return the image from the dataset\n",
    "    # with the specified index\n",
    "    #\n",
    "    def get_specific_image(self, idx):\n",
    "        \n",
    "        image_filename  = self.all_training_items[idx][0]\n",
    "        class_id        = self.all_training_items[idx][1]\n",
    "        class_name      = self.all_training_items[idx][2]\n",
    "        teacher_vec     = self.all_training_items[idx][3]\n",
    "        \n",
    "        image = self.load_image(image_filename)\n",
    "        \n",
    "        return image, class_id, class_name, teacher_vec\n",
    "    \n",
    "    \n",
    "    #\n",
    "    # Return an OpenCV image and the class label\n",
    "    # where the image is chosen randomly from the\n",
    "    # list of all images.\n",
    "    #\n",
    "    def get_random_image(self):\n",
    "        \n",
    "        rnd_idx = np.random.randint(0, self.nr_images)\n",
    "        return self.get_specific_image( rnd_idx )\n"
   ]
  },
  {
   "cell_type": "markdown",
   "metadata": {},
   "source": [
    "Let's test the image provider class:"
   ]
  },
  {
   "cell_type": "code",
   "execution_count": 27,
   "metadata": {},
   "outputs": [
    {
     "name": "stdout",
     "output_type": "stream",
     "text": [
      "Under folder data_digits I found the following subfolders/classes:\n",
      "['1', '2']\n",
      "10 files in subfolder data_digits/1/\n",
      "10 files in subfolder data_digits/2/\n",
      "There are 20 images in total available.\n"
     ]
    }
   ],
   "source": [
    "my_image_provider = image_provider( \"data_digits\" )"
   ]
  },
  {
   "cell_type": "markdown",
   "metadata": {},
   "source": [
    "Let us retrieve randomly one of the images and display it."
   ]
  },
  {
   "cell_type": "code",
   "execution_count": 28,
   "metadata": {},
   "outputs": [
    {
     "name": "stdout",
     "output_type": "stream",
     "text": [
      "image has type <class 'numpy.ndarray'>\n",
      "image has shape (100, 100, 3)\n",
      "teacher vec: [1. 0.]\n"
     ]
    },
    {
     "data": {
      "image/png": "[encoded data removed]",
      "text/plain": [
       "<matplotlib.figure.Figure at 0x1d93f6529b0>"
      ]
     },
     "metadata": {},
     "output_type": "display_data"
    }
   ],
   "source": [
    "import matplotlib.pyplot as plt\n",
    "\n",
    "image, class_id, class_name, teacher_vec = \\\n",
    "    my_image_provider.get_random_image()\n",
    "print(\"image has type\", type(image))\n",
    "print(\"image has shape\", image.shape)\n",
    "print(\"teacher vec:\", teacher_vec)\n",
    "plt.imshow(image)\n",
    "plt.title(\"One of the images with label {}\".format(class_name))\n",
    "plt.show()"
   ]
  },
  {
   "cell_type": "markdown",
   "metadata": {},
   "source": [
    "# Build a MLP model"
   ]
  },
  {
   "cell_type": "code",
   "execution_count": 103,
   "metadata": {},
   "outputs": [
    {
     "name": "stdout",
     "output_type": "stream",
     "text": [
      "Input vectors for this MLP will have length 30000\n",
      "_________________________________________________________________\n",
      "Layer (type)                 Output Shape              Param #   \n",
      "=================================================================\n",
      "dense_1 (Dense)              (None, 10)                300010    \n",
      "_________________________________________________________________\n",
      "dense_2 (Dense)              (None, 2)                 22        \n",
      "=================================================================\n",
      "Total params: 300,032\n",
      "Trainable params: 300,032\n",
      "Non-trainable params: 0\n",
      "_________________________________________________________________\n"
     ]
    }
   ],
   "source": [
    "from keras.models import Sequential\n",
    "from keras import layers\n",
    "from keras.layers.core import Dense\n",
    "from keras import backend as K\n",
    "\n",
    "nr_channels = 3\n",
    "input_vec_dim = IMG_SIZE[0] * IMG_SIZE[1] * nr_channels\n",
    "print(\"Input vectors for this MLP will have length\", input_vec_dim)\n",
    "\n",
    "def build_mlp_model():\n",
    "    \n",
    "    np.random.seed( 42 )\n",
    "    \n",
    "    K.clear_session()\n",
    "    \n",
    "    model = Sequential()\n",
    "    model.add(Dense(10, activation=\"relu\", input_dim=input_vec_dim))\n",
    "    model.add(Dense(2, activation=\"linear\"))\n",
    "\n",
    "    model.summary()\n",
    "\n",
    "    model.compile(loss='mean_squared_error', optimizer='sgd')\n",
    "    \n",
    "    return model\n",
    "\n",
    "my_mlp = build_mlp_model()"
   ]
  },
  {
   "cell_type": "markdown",
   "metadata": {},
   "source": [
    "# Train the MLP with images\n",
    "\n",
    "First let us define a helper function ``train_model`` that can train a model / image provider combination that is specified."
   ]
  },
  {
   "cell_type": "code",
   "execution_count": 104,
   "metadata": {},
   "outputs": [],
   "source": [
    "def transform_image_to_model_specific_input(model_type, image):\n",
    "    \n",
    "    # Prepare model specific input\n",
    "    if model_type==\"mlp\":\n",
    "\n",
    "        # the input for a MLP has to be a 2D array\n",
    "\n",
    "        # Flatten the 3D input image to a 1D input vector\n",
    "        input_vec = image.flatten()\n",
    "\n",
    "        #print(\"image has shape\", image.shape)\n",
    "        #print(\"input_vec has shape\", input_vec.shape)\n",
    "        #print(\"teacher_vec is\", teacher_vec)\n",
    "        #print(input_vec)\n",
    "\n",
    "        # now prepare a 2D array\n",
    "        X = input_vec.reshape( (1, input_vec.shape[0]) )\n",
    "\n",
    "    elif model_type==\"cnn\":\n",
    "\n",
    "        # put the image into a 4D array\n",
    "        # note: Keras expects a 4D array as input for\n",
    "        #       the training function fit() if the model is a CNN\n",
    "\n",
    "        height = image.shape[0]\n",
    "        width  = image.shape[1]\n",
    "        nr_channels = image.shape[2]\n",
    "        X = np.zeros( (1,height,width,nr_channels) )\n",
    "\n",
    "        X[0,:,:,:] = image\n",
    "        \n",
    "    return X\n",
    "\n",
    "\n",
    "def train_model(model_type, your_model, your_image_provider, nr_train_images):\n",
    "\n",
    "    for train_img_idx in range(0,nr_train_images):\n",
    "\n",
    "        if train_img_idx % 500 == 0:\n",
    "            print(\"Trained on {} images so far...\".\n",
    "                 format(train_img_idx))\n",
    "\n",
    "        # Get a random image from the image provider\n",
    "        image, class_id, class_name, teacher_vec = \\\n",
    "            your_image_provider.get_random_image()\n",
    "\n",
    "        # Show the training image?\n",
    "        if False:\n",
    "            plt.imshow(image)\n",
    "            plt.title(\"Training image with label {}\".format(class_name))\n",
    "            plt.show()\n",
    "        \n",
    "        X = transform_image_to_model_specific_input(model_type, image)\n",
    "\n",
    "        # the teacher value array expected by Keras\n",
    "        # is a 2D array        \n",
    "        Y = teacher_vec.reshape( (1, teacher_vec.shape[0]) )\n",
    "\n",
    "        your_model.fit(X, Y, epochs=1, verbose=0)\n",
    "\n",
    "    print(\"Training finished!\")"
   ]
  },
  {
   "cell_type": "markdown",
   "metadata": {},
   "source": [
    "Now let us train the MLP generated before:"
   ]
  },
  {
   "cell_type": "code",
   "execution_count": 105,
   "metadata": {},
   "outputs": [
    {
     "name": "stdout",
     "output_type": "stream",
     "text": [
      "Trained on 0 images so far...\n",
      "Trained on 500 images so far...\n",
      "Trained on 1000 images so far...\n",
      "Trained on 1500 images so far...\n",
      "Trained on 2000 images so far...\n",
      "Trained on 2500 images so far...\n",
      "Trained on 3000 images so far...\n",
      "Trained on 3500 images so far...\n",
      "Trained on 4000 images so far...\n",
      "Trained on 4500 images so far...\n",
      "Training finished!\n"
     ]
    }
   ],
   "source": [
    "train_model( \"mlp\", my_mlp, my_image_provider, 5000 )"
   ]
  },
  {
   "cell_type": "markdown",
   "metadata": {
    "collapsed": true
   },
   "source": [
    "# Test the final MLP on training data\n",
    "\n",
    "Now let us see how good the trained MLP performs on the same data on which we trained it: the training data.\n",
    "\n",
    "For this, we will define a test function that tests the specified model on the specified (training) data set."
   ]
  },
  {
   "cell_type": "code",
   "execution_count": 106,
   "metadata": {},
   "outputs": [],
   "source": [
    "def test_model_on_train_data(model_type, your_model, your_image_provider):\n",
    "\n",
    "    # No images correctly classified so far\n",
    "    correctly_classified = 0\n",
    "\n",
    "    for img_idx in range(0, your_image_provider.nr_images):\n",
    "\n",
    "        print(\"\\nTesting with training image {}\".\n",
    "                 format(img_idx))\n",
    "\n",
    "        # Get image from image provider\n",
    "        image, gt_class_id, gt_class_name, teacher_vec = \\\n",
    "            your_image_provider.get_specific_image( img_idx )\n",
    "\n",
    "        X = transform_image_to_model_specific_input(model_type, image)\n",
    "\n",
    "        # Let the MLP predict the class!\n",
    "        neuron_outputs = your_model.predict( X )\n",
    "        print(\"output neuron values are:\", neuron_outputs)\n",
    "\n",
    "        # Get final prediction result:\n",
    "        # Which of the n output neurons has the largest output?\n",
    "        predicted_class_id = np.argmax(neuron_outputs.reshape(-1))\n",
    "\n",
    "        # Show comparison of predicted vs. ground-truth label\n",
    "        print(\"predicted: {} vs. real: {}\".\n",
    "              format(predicted_class_id, gt_class_id))\n",
    "\n",
    "        # Compute correct classification rate\n",
    "        if predicted_class_id==gt_class_id:\n",
    "            correctly_classified += 1\n",
    "\n",
    "    print(\"\\n---\\nCorrectly classified {} of {} images.\".\n",
    "          format(correctly_classified, my_image_provider.nr_images))"
   ]
  },
  {
   "cell_type": "markdown",
   "metadata": {},
   "source": [
    "And now the test how good the trained MLP can classify the training data images:"
   ]
  },
  {
   "cell_type": "code",
   "execution_count": 107,
   "metadata": {},
   "outputs": [
    {
     "name": "stdout",
     "output_type": "stream",
     "text": [
      "\n",
      "Testing with training image 0\n",
      "output neuron values are: [[1.000000e+00 7.450581e-09]]\n",
      "predicted: 0 vs. real: 0\n",
      "\n",
      "Testing with training image 1\n",
      "output neuron values are: [[ 1.0000000e+00 -3.7252903e-09]]\n",
      "predicted: 0 vs. real: 0\n",
      "\n",
      "Testing with training image 2\n",
      "output neuron values are: [[1.0000000e+00 1.8626451e-08]]\n",
      "predicted: 0 vs. real: 0\n",
      "\n",
      "Testing with training image 3\n",
      "output neuron values are: [[1.0000000e+00 3.7252903e-09]]\n",
      "predicted: 0 vs. real: 0\n",
      "\n",
      "Testing with training image 4\n",
      "output neuron values are: [[1.0000000e+00 3.7252903e-09]]\n",
      "predicted: 0 vs. real: 0\n",
      "\n",
      "Testing with training image 5\n",
      "output neuron values are: [[ 1.0000000e+00 -3.7252903e-09]]\n",
      "predicted: 0 vs. real: 0\n",
      "\n",
      "Testing with training image 6\n",
      "output neuron values are: [[ 1.0000000e+00 -3.7252903e-09]]\n",
      "predicted: 0 vs. real: 0\n",
      "\n",
      "Testing with training image 7\n",
      "output neuron values are: [[ 1.0000000e+00 -2.2351742e-08]]\n",
      "predicted: 0 vs. real: 0\n",
      "\n",
      "Testing with training image 8\n",
      "output neuron values are: [[1.0000000e+00 4.8428774e-08]]\n",
      "predicted: 0 vs. real: 0\n",
      "\n",
      "Testing with training image 9\n",
      "output neuron values are: [[1.0000000e+00 2.2351742e-08]]\n",
      "predicted: 0 vs. real: 0\n",
      "\n",
      "Testing with training image 10\n",
      "output neuron values are: [[7.450581e-09 1.000000e+00]]\n",
      "predicted: 1 vs. real: 1\n",
      "\n",
      "Testing with training image 11\n",
      "output neuron values are: [[-2.2351742e-08  1.0000000e+00]]\n",
      "predicted: 1 vs. real: 1\n",
      "\n",
      "Testing with training image 12\n",
      "output neuron values are: [[7.450581e-09 1.000000e+00]]\n",
      "predicted: 1 vs. real: 1\n",
      "\n",
      "Testing with training image 13\n",
      "output neuron values are: [[7.450581e-09 1.000000e+00]]\n",
      "predicted: 1 vs. real: 1\n",
      "\n",
      "Testing with training image 14\n",
      "output neuron values are: [[7.450581e-09 1.000000e+00]]\n",
      "predicted: 1 vs. real: 1\n",
      "\n",
      "Testing with training image 15\n",
      "output neuron values are: [[7.450581e-09 1.000000e+00]]\n",
      "predicted: 1 vs. real: 1\n",
      "\n",
      "Testing with training image 16\n",
      "output neuron values are: [[7.450581e-09 1.000000e+00]]\n",
      "predicted: 1 vs. real: 1\n",
      "\n",
      "Testing with training image 17\n",
      "output neuron values are: [[7.450581e-09 1.000000e+00]]\n",
      "predicted: 1 vs. real: 1\n",
      "\n",
      "Testing with training image 18\n",
      "output neuron values are: [[7.450581e-09 1.000000e+00]]\n",
      "predicted: 1 vs. real: 1\n",
      "\n",
      "Testing with training image 19\n",
      "output neuron values are: [[7.450581e-09 1.000000e+00]]\n",
      "predicted: 1 vs. real: 1\n",
      "\n",
      "---\n",
      "Correctly classified 20 of 20 images.\n"
     ]
    }
   ],
   "source": [
    "test_model_on_train_data(\"mlp\", my_mlp, my_image_provider)"
   ]
  },
  {
   "cell_type": "markdown",
   "metadata": {
    "collapsed": true
   },
   "source": [
    "# Testing the MLP with new images\n",
    "\n",
    "In order to generate new test images, we just shift the digits some pixels to the right."
   ]
  },
  {
   "cell_type": "code",
   "execution_count": 112,
   "metadata": {},
   "outputs": [],
   "source": [
    "def test_model_on_new_data(model_type,\n",
    "                           your_model,\n",
    "                           your_image_provider,\n",
    "                           nr_test_images):\n",
    "\n",
    "    # No images correctly classified so far\n",
    "    correctly_classified = 0\n",
    "\n",
    "    for test_img_idx in range(0,nr_test_images):\n",
    "\n",
    "        if test_img_idx % 100 == 0:\n",
    "            print(\"Tested on {} test images so far...\".\n",
    "                 format(test_img_idx))\n",
    "\n",
    "        # Get a random image from the image provider\n",
    "        image, gt_class_id, gt_class_name, teacher_vec = \\\n",
    "            your_image_provider.get_random_image()\n",
    "\n",
    "        # Shift this original image a little bit to the right\n",
    "        # in order to generate a new random image\n",
    "        image2 = np.zeros( image.shape )\n",
    "        MIN_SHIFT = 5\n",
    "        MAX_SHIFT = 15\n",
    "        rnd_shiftx = np.random.randint(MIN_SHIFT, MAX_SHIFT)\n",
    "        rnd_shifty = np.random.randint(MIN_SHIFT, MAX_SHIFT)\n",
    "        nr_rows = image.shape[0]\n",
    "        nr_cols = image.shape[1]\n",
    "        for row_idx in range(rnd_shifty, nr_rows):\n",
    "            for col_idx in range(rnd_shiftx, nr_cols):\n",
    "                image2[row_idx][col_idx] =\\\n",
    "                    image[row_idx-rnd_shifty][col_idx-rnd_shiftx]\n",
    "\n",
    "        # Show the original and the new image?\n",
    "        # Only for the first 3 test images, else:\n",
    "        # too much output!\n",
    "        if test_img_idx < 3:\n",
    "            print(\"\\nTest image: {}\".format(test_img_idx))\n",
    "            plt.imshow(image)\n",
    "            plt.title(\"Original image with label {}\".format(gt_class_name))\n",
    "            plt.show()\n",
    "            plt.imshow(image2)\n",
    "            plt.title(\"Automatically generated test image with label {}\".\n",
    "                      format(gt_class_name))\n",
    "            plt.show()\n",
    "            \n",
    "        X = transform_image_to_model_specific_input(model_type, image2)\n",
    "        \n",
    "        # Let the MLP predict the class!\n",
    "        neuron_outputs = your_model.predict( X )\n",
    "        #print(\"output neuron values are:\", neuron_outputs)\n",
    "\n",
    "        # Get final prediction result:\n",
    "        # Which of the n output neurons has the largest output?\n",
    "        predicted_class_id = \\\n",
    "            np.argmax(neuron_outputs.reshape(-1))\n",
    "\n",
    "        # Show comparison of predicted vs. ground-truth label\n",
    "        #print(\"predicted: {} vs. real: {}\".\n",
    "        #      format(predicted_class_id, gt_class_id))\n",
    "\n",
    "        # Compute correct classification rate\n",
    "        if predicted_class_id==gt_class_id:\n",
    "            correctly_classified += 1\n",
    "\n",
    "    print(\"\\n---\\nCorrectly classified {} of {} images.\".\n",
    "          format(correctly_classified, nr_test_images))"
   ]
  },
  {
   "cell_type": "markdown",
   "metadata": {},
   "source": [
    "And now the final interesting test: how good can the MLP classify new images? (where the new images are just shifted versions of the original images)"
   ]
  },
  {
   "cell_type": "code",
   "execution_count": 113,
   "metadata": {},
   "outputs": [
    {
     "name": "stdout",
     "output_type": "stream",
     "text": [
      "Tested on 0 test images so far...\n",
      "\n",
      "Test image: 0\n"
     ]
    },
    {
     "data": {
      "image/png": "[encoded data removed]",
      "text/plain": [
       "<matplotlib.figure.Figure at 0x1d94115c470>"
      ]
     },
     "metadata": {},
     "output_type": "display_data"
    },
    {
     "data": {
      "image/png": "[encoded data removed]",
      "text/plain": [
       "<matplotlib.figure.Figure at 0x1d940aa8ba8>"
      ]
     },
     "metadata": {},
     "output_type": "display_data"
    },
    {
     "name": "stdout",
     "output_type": "stream",
     "text": [
      "\n",
      "Test image: 1\n"
     ]
    },
    {
     "data": {
      "image/png": "[encoded data removed]",
      "text/plain": [
       "<matplotlib.figure.Figure at 0x1d94119ac88>"
      ]
     },
     "metadata": {},
     "output_type": "display_data"
    },
    {
     "data": {
      "image/png": "[encoded data removed]",
      "text/plain": [
       "<matplotlib.figure.Figure at 0x1d9409eddd8>"
      ]
     },
     "metadata": {},
     "output_type": "display_data"
    },
    {
     "name": "stdout",
     "output_type": "stream",
     "text": [
      "\n",
      "Test image: 2\n"
     ]
    },
    {
     "data": {
      "image/png": "[encoded data removed]",
      "text/plain": [
       "<matplotlib.figure.Figure at 0x1d941746f98>"
      ]
     },
     "metadata": {},
     "output_type": "display_data"
    },
    {
     "data": {
      "image/png": "[encoded data removed]",
      "text/plain": [
       "<matplotlib.figure.Figure at 0x1d941725be0>"
      ]
     },
     "metadata": {},
     "output_type": "display_data"
    },
    {
     "name": "stdout",
     "output_type": "stream",
     "text": [
      "Tested on 100 test images so far...\n",
      "Tested on 200 test images so far...\n",
      "Tested on 300 test images so far...\n",
      "Tested on 400 test images so far...\n",
      "Tested on 500 test images so far...\n",
      "Tested on 600 test images so far...\n",
      "Tested on 700 test images so far...\n",
      "Tested on 800 test images so far...\n",
      "Tested on 900 test images so far...\n",
      "\n",
      "---\n",
      "Correctly classified 504 of 1000 images.\n"
     ]
    }
   ],
   "source": [
    "test_model_on_new_data(\"mlp\", my_mlp, my_image_provider, 1000)"
   ]
  },
  {
   "cell_type": "markdown",
   "metadata": {},
   "source": [
    "# Conclusions for the MLP\n",
    "\n",
    "The test of this MLP for image classification shows.\n",
    "\n",
    "It performs perfectly on the training data, since it used it huge sets of parameters to directly map the few input images to the desired output values.\n",
    "\n",
    "However, on new images (just translated variants of the original image), the MLP is not besser than randomly guessing the class of the image.\n",
    "\n",
    "By this we show that image classification with a MLP is not a good idea. Instead, we need another model that is able to come up with a representation of the image that is (mostly) invariant to translations (and all the other transformations, e.g. rotation).\n",
    "\n",
    "This will lead us to Convolutional Neural Networks (CNN).\n"
   ]
  },
  {
   "cell_type": "markdown",
   "metadata": {
    "collapsed": true
   },
   "source": [
    "# Build a CNN\n",
    "\n",
    "Now we build a CNN which has a feature hierarchy before the MLP part. And this feature hierarchy should help to map the pixel-representation of the image to a feature-representation of the image which is more translation-invariant.\n",
    "\n",
    "Let us see whether this really works as supposed to, i.e., can a CNN classify new images better compared to a MLP? (where we use the same 20 training images for training the CNN)"
   ]
  },
  {
   "cell_type": "code",
   "execution_count": 159,
   "metadata": {},
   "outputs": [
    {
     "name": "stdout",
     "output_type": "stream",
     "text": [
      "_________________________________________________________________\n",
      "Layer (type)                 Output Shape              Param #   \n",
      "=================================================================\n",
      "conv2d_1 (Conv2D)            (None, 48, 48, 16)        1216      \n",
      "_________________________________________________________________\n",
      "max_pooling2d_1 (MaxPooling2 (None, 16, 16, 16)        0         \n",
      "_________________________________________________________________\n",
      "conv2d_2 (Conv2D)            (None, 6, 6, 32)          12832     \n",
      "_________________________________________________________________\n",
      "max_pooling2d_2 (MaxPooling2 (None, 1, 1, 32)          0         \n",
      "_________________________________________________________________\n",
      "flatten_1 (Flatten)          (None, 32)                0         \n",
      "_________________________________________________________________\n",
      "dense_1 (Dense)              (None, 2)                 66        \n",
      "=================================================================\n",
      "Total params: 14,114\n",
      "Trainable params: 14,114\n",
      "Non-trainable params: 0\n",
      "_________________________________________________________________\n"
     ]
    }
   ],
   "source": [
    "from keras import Sequential\n",
    "from keras.layers.core import Dense, Dropout, Activation, Flatten\n",
    "from keras.layers.convolutional import Conv2D, MaxPooling2D\n",
    "from keras import backend as K\n",
    "\n",
    "image, class_id, class_name, teacher_vec = my_image_provider.get_random_image()\n",
    "input_shape_of_single_image = image.shape\n",
    "\n",
    "def build_cnn_model():\n",
    "    \n",
    "    np.random.seed( 42 )\n",
    "    \n",
    "    K.clear_session()\n",
    "\n",
    "    model = Sequential()\n",
    "    \n",
    "    # Layer 1\n",
    "    nr_filter       = 16\n",
    "    kernel_side_len = 5\n",
    "    kernel_stride   = 2\n",
    "    model.add(Conv2D(nr_filter,\n",
    "                     kernel_size=(kernel_side_len, kernel_side_len),\n",
    "                     strides=(kernel_stride, kernel_stride),\n",
    "                     activation='relu',\n",
    "                     input_shape=input_shape_of_single_image)\n",
    "             )\n",
    "    \n",
    "    # Layer 2\n",
    "    kernel_side_len = 3\n",
    "    kernel_stride   = 3\n",
    "    model.add(MaxPooling2D(pool_size=(kernel_side_len, kernel_side_len),\n",
    "                           strides=(kernel_stride, kernel_stride))\n",
    "             )\n",
    "    \n",
    "    # Layer 3\n",
    "    nr_filter       = 32\n",
    "    kernel_side_len = 5\n",
    "    kernel_stride   = 2\n",
    "    model.add(Conv2D(nr_filter,\n",
    "                     kernel_size=(kernel_side_len, kernel_side_len),\n",
    "                     strides=(kernel_stride, kernel_stride),\n",
    "                     activation='relu',\n",
    "                     input_shape=input_shape_of_single_image)\n",
    "             )\n",
    "    \n",
    "    # Layer 4\n",
    "    kernel_side_len = 4\n",
    "    kernel_stride   = 4\n",
    "    model.add(MaxPooling2D(pool_size=(kernel_side_len, kernel_side_len),\n",
    "                           strides=(kernel_stride, kernel_stride))\n",
    "             )\n",
    "    \n",
    "    # 2. Define the MLP part:\n",
    "    model.add(Flatten())\n",
    "    #model.add(Dense(10, activation=\"relu\"))\n",
    "    model.add(Dense(2, activation=\"linear\"))\n",
    "\n",
    "    model.summary()\n",
    "\n",
    "    model.compile(loss='mean_squared_error', optimizer='sgd')\n",
    "    \n",
    "    return model\n",
    "\n",
    "my_cnn = build_cnn_model()"
   ]
  },
  {
   "cell_type": "markdown",
   "metadata": {},
   "source": [
    "# Train the CNN"
   ]
  },
  {
   "cell_type": "code",
   "execution_count": 160,
   "metadata": {},
   "outputs": [
    {
     "name": "stdout",
     "output_type": "stream",
     "text": [
      "Trained on 0 images so far...\n",
      "Trained on 500 images so far...\n",
      "Training finished!\n"
     ]
    }
   ],
   "source": [
    "train_model(\"cnn\", my_cnn, my_image_provider, 1000)"
   ]
  },
  {
   "cell_type": "markdown",
   "metadata": {},
   "source": [
    "# Test the CNN on training data"
   ]
  },
  {
   "cell_type": "code",
   "execution_count": 161,
   "metadata": {},
   "outputs": [
    {
     "name": "stdout",
     "output_type": "stream",
     "text": [
      "\n",
      "Testing with training image 0\n",
      "output neuron values are: [[ 0.98310363 -0.00348513]]\n",
      "predicted: 0 vs. real: 0\n",
      "\n",
      "Testing with training image 1\n",
      "output neuron values are: [[1.021631   0.01477545]]\n",
      "predicted: 0 vs. real: 0\n",
      "\n",
      "Testing with training image 2\n",
      "output neuron values are: [[9.497481e-01 7.094741e-04]]\n",
      "predicted: 0 vs. real: 0\n",
      "\n",
      "Testing with training image 3\n",
      "output neuron values are: [[1.0009774  0.00863144]]\n",
      "predicted: 0 vs. real: 0\n",
      "\n",
      "Testing with training image 4\n",
      "output neuron values are: [[1.0086279  0.01171935]]\n",
      "predicted: 0 vs. real: 0\n",
      "\n",
      "Testing with training image 5\n",
      "output neuron values are: [[0.9954561  0.02513446]]\n",
      "predicted: 0 vs. real: 0\n",
      "\n",
      "Testing with training image 6\n",
      "output neuron values are: [[ 0.9745147  -0.00304782]]\n",
      "predicted: 0 vs. real: 0\n",
      "\n",
      "Testing with training image 7\n",
      "output neuron values are: [[ 0.9672529  -0.01353386]]\n",
      "predicted: 0 vs. real: 0\n",
      "\n",
      "Testing with training image 8\n",
      "output neuron values are: [[0.9799966  0.00099379]]\n",
      "predicted: 0 vs. real: 0\n",
      "\n",
      "Testing with training image 9\n",
      "output neuron values are: [[ 0.9634054  -0.01156417]]\n",
      "predicted: 0 vs. real: 0\n",
      "\n",
      "Testing with training image 10\n",
      "output neuron values are: [[0.01938539 1.013564  ]]\n",
      "predicted: 1 vs. real: 1\n",
      "\n",
      "Testing with training image 11\n",
      "output neuron values are: [[-0.01036487  1.0052869 ]]\n",
      "predicted: 1 vs. real: 1\n",
      "\n",
      "Testing with training image 12\n",
      "output neuron values are: [[0.00275355 1.0040154 ]]\n",
      "predicted: 1 vs. real: 1\n",
      "\n",
      "Testing with training image 13\n",
      "output neuron values are: [[-0.03992144  0.9998137 ]]\n",
      "predicted: 1 vs. real: 1\n",
      "\n",
      "Testing with training image 14\n",
      "output neuron values are: [[-0.00947829  0.99288857]]\n",
      "predicted: 1 vs. real: 1\n",
      "\n",
      "Testing with training image 15\n",
      "output neuron values are: [[-0.01834207  0.9970913 ]]\n",
      "predicted: 1 vs. real: 1\n",
      "\n",
      "Testing with training image 16\n",
      "output neuron values are: [[-0.01157623  1.0039272 ]]\n",
      "predicted: 1 vs. real: 1\n",
      "\n",
      "Testing with training image 17\n",
      "output neuron values are: [[0.01680585 0.9508648 ]]\n",
      "predicted: 1 vs. real: 1\n",
      "\n",
      "Testing with training image 18\n",
      "output neuron values are: [[0.01430342 1.0081285 ]]\n",
      "predicted: 1 vs. real: 1\n",
      "\n",
      "Testing with training image 19\n",
      "output neuron values are: [[-0.00860471  0.9990159 ]]\n",
      "predicted: 1 vs. real: 1\n",
      "\n",
      "---\n",
      "Correctly classified 20 of 20 images.\n"
     ]
    }
   ],
   "source": [
    "test_model_on_train_data(\"cnn\", my_cnn, my_image_provider)"
   ]
  },
  {
   "cell_type": "markdown",
   "metadata": {},
   "source": [
    "# Test the CNN on new images"
   ]
  },
  {
   "cell_type": "code",
   "execution_count": 163,
   "metadata": {},
   "outputs": [
    {
     "name": "stdout",
     "output_type": "stream",
     "text": [
      "Tested on 0 test images so far...\n",
      "\n",
      "Test image: 0\n"
     ]
    },
    {
     "data": {
      "image/png": "[encoded data removed]",
      "text/plain": [
       "<matplotlib.figure.Figure at 0x1d93e2225f8>"
      ]
     },
     "metadata": {},
     "output_type": "display_data"
    },
    {
     "data": {
      "image/png": "[encoded data removed]",
      "text/plain": [
       "<matplotlib.figure.Figure at 0x1d940c22a90>"
      ]
     },
     "metadata": {},
     "output_type": "display_data"
    },
    {
     "name": "stdout",
     "output_type": "stream",
     "text": [
      "\n",
      "Test image: 1\n"
     ]
    },
    {
     "data": {
      "image/png": "[encoded data removed]",
      "text/plain": [
       "<matplotlib.figure.Figure at 0x1d9410a04e0>"
      ]
     },
     "metadata": {},
     "output_type": "display_data"
    },
    {
     "data": {
      "image/png": "[encoded data removed]",
      "text/plain": [
       "<matplotlib.figure.Figure at 0x1d93e0f8a58>"
      ]
     },
     "metadata": {},
     "output_type": "display_data"
    },
    {
     "name": "stdout",
     "output_type": "stream",
     "text": [
      "\n",
      "Test image: 2\n"
     ]
    },
    {
     "data": {
      "image/png": "[encoded data removed]",
      "text/plain": [
       "<matplotlib.figure.Figure at 0x1d9412994a8>"
      ]
     },
     "metadata": {},
     "output_type": "display_data"
    },
    {
     "data": {
      "image/png": "[encoded data removed]",
      "text/plain": [
       "<matplotlib.figure.Figure at 0x1d93e1bae48>"
      ]
     },
     "metadata": {},
     "output_type": "display_data"
    },
    {
     "name": "stdout",
     "output_type": "stream",
     "text": [
      "Tested on 100 test images so far...\n",
      "Tested on 200 test images so far...\n",
      "Tested on 300 test images so far...\n",
      "Tested on 400 test images so far...\n",
      "Tested on 500 test images so far...\n",
      "Tested on 600 test images so far...\n",
      "Tested on 700 test images so far...\n",
      "Tested on 800 test images so far...\n",
      "Tested on 900 test images so far...\n",
      "\n",
      "---\n",
      "Correctly classified 917 of 1000 images.\n"
     ]
    }
   ],
   "source": [
    "test_model_on_new_data(\"cnn\", my_cnn, my_image_provider, 1000)"
   ]
  },
  {
   "cell_type": "code",
   "execution_count": null,
   "metadata": {
    "collapsed": true
   },
   "outputs": [],
   "source": []
  }
 ],
 "metadata": {
  "kernelspec": {
   "display_name": "Python 3",
   "language": "python",
   "name": "python3"
  },
  "language_info": {
   "codemirror_mode": {
    "name": "ipython",
    "version": 3
   },
   "file_extension": ".py",
   "mimetype": "text/x-python",
   "name": "python",
   "nbconvert_exporter": "python",
   "pygments_lexer": "ipython3",
   "version": "3.6.2"
  },
  "toc": {
   "base_numbering": 1,
   "nav_menu": {},
   "number_sections": true,
   "sideBar": true,
   "skip_h1_title": false,
   "title_cell": "Table of Contents",
   "title_sidebar": "Contents",
   "toc_cell": true,
   "toc_position": {
    "height": "calc(100% - 180px)",
    "left": "10px",
    "top": "150px",
    "width": "238px"
   },
   "toc_section_display": true,
   "toc_window_display": true
  }
 },
 "nbformat": 4,
 "nbformat_minor": 2
}
