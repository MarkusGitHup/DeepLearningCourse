{
 "cells": [
  {
   "cell_type": "markdown",
   "metadata": {
    "toc": true
   },
   "source": [
    "<h1>Table of Contents<span class=\"tocSkip\"></span></h1>\n",
    "<div class=\"toc\"><ul class=\"toc-item\"><li><span><a href=\"#Introduction\" data-toc-modified-id=\"Introduction-1\"><span class=\"toc-item-num\">1&nbsp;&nbsp;</span>Introduction</a></span></li><li><span><a href=\"#Are-all-libraries-that-are-needed-available?\" data-toc-modified-id=\"Are-all-libraries-that-are-needed-available?-2\"><span class=\"toc-item-num\">2&nbsp;&nbsp;</span>Are all libraries that are needed available?</a></span></li><li><span><a href=\"#Prepare-an-image-provider-class\" data-toc-modified-id=\"Prepare-an-image-provider-class-3\"><span class=\"toc-item-num\">3&nbsp;&nbsp;</span>Prepare an image provider class</a></span></li><li><span><a href=\"#Build-a-Convolutional-Neural-Network-(CNN)\" data-toc-modified-id=\"Build-a-Convolutional-Neural-Network-(CNN)-4\"><span class=\"toc-item-num\">4&nbsp;&nbsp;</span>Build a Convolutional Neural Network (CNN)</a></span></li><li><span><a href=\"#Testing-the-model-before-we-train-it\" data-toc-modified-id=\"Testing-the-model-before-we-train-it-5\"><span class=\"toc-item-num\">5&nbsp;&nbsp;</span>Testing the model before we train it</a></span></li><li><span><a href=\"#Training-the-CNN\" data-toc-modified-id=\"Training-the-CNN-6\"><span class=\"toc-item-num\">6&nbsp;&nbsp;</span>Training the CNN</a></span></li><li><span><a href=\"#Testing-the-model-after-we-have-trained-it\" data-toc-modified-id=\"Testing-the-model-after-we-have-trained-it-7\"><span class=\"toc-item-num\">7&nbsp;&nbsp;</span>Testing the model after we have trained it</a></span></li></ul></div>"
   ]
  },
  {
   "cell_type": "markdown",
   "metadata": {},
   "source": [
    "# Introduction\n",
    "\n",
    "The goal of this notebook is to show you how to build a simple Convolutional Neural Network (CNN) for classification in Keras.\n",
    "\n",
    "For this, first we need data! Search for open datasets of free images that show cars and bikes. E.g., Google has published the Open Image Dataset V4:\n",
    "\n",
    "https://storage.googleapis.com/openimages/web/visualizer/index.htm\n",
    "\n",
    "Prepare a folder data with the following structure:\n",
    "\n",
    "    data\n",
    "        train\n",
    "            car\n",
    "            bike\n",
    "        test\n",
    "            car\n",
    "            bike\n",
    "            \n",
    "and store at least some\n",
    "- hundreds-1000 of images for each object category in the training subfolders\n",
    "- some hundreds of images for each object category in the test subfolders\n"
   ]
  },
  {
   "cell_type": "markdown",
   "metadata": {
    "collapsed": true
   },
   "source": [
    "# Are all libraries that are needed available?"
   ]
  },
  {
   "cell_type": "code",
   "execution_count": 1,
   "metadata": {},
   "outputs": [
    {
     "name": "stderr",
     "output_type": "stream",
     "text": [
      "Using TensorFlow backend.\n"
     ]
    },
    {
     "name": "stdout",
     "output_type": "stream",
     "text": [
      "Your NumPy version is:      1.16.2\n",
      "Your TensorFlow version is: 1.13.1\n",
      "Your Keras version is:      2.2.4\n",
      "Your OpenCV version is:     4.1.0\n",
      "Your Matplotlib version is: 2.0.2\n"
     ]
    }
   ],
   "source": [
    "import numpy as np\n",
    "import tensorflow as tf\n",
    "import keras\n",
    "import cv2\n",
    "import matplotlib\n",
    "import matplotlib.pyplot as plt\n",
    "\n",
    "print( \"Your NumPy version is:      \" + np.__version__ )\n",
    "print( \"Your TensorFlow version is: \" + tf.__version__)\n",
    "print( \"Your Keras version is:      \" + keras.__version__ )\n",
    "print( \"Your OpenCV version is:     \" + cv2.__version__ )\n",
    "print( \"Your Matplotlib version is: \" + matplotlib.__version__)"
   ]
  },
  {
   "cell_type": "markdown",
   "metadata": {},
   "source": [
    "# Prepare an image provider class\n",
    "\n",
    "We define a class ``image_provider`` that will give us a convenient access to the images.\n",
    "\n",
    "Given a root folder (e.g. \"C:\\\\data\"), it automatically determines which subfolders are there (e.g. \"C:\\\\data\\\\car\" and \"C:\\\\data\\\\bike\"). Each subfolder is assumed to be one of the categories we are interested in (e.g. \"car\" and \"bike\").\n",
    "\n",
    "An image provide object then stores a list of all training items:\n",
    "    \n",
    "        [filename1, class_id, class_name, teacher_vec]\n",
    "        [filename2, class_id, class_name, teacher_vec]\n",
    "        ..."
   ]
  },
  {
   "cell_type": "code",
   "execution_count": 2,
   "metadata": {
    "collapsed": true
   },
   "outputs": [],
   "source": [
    "import os\n",
    "from os import listdir\n",
    "from os.path import isdir, isfile, join\n",
    "\n",
    "IMG_SIZE = (100,100)\n",
    "    \n",
    "class image_provider:\n",
    "    \n",
    "    #\n",
    "    # Traverses all subfolders of the specified root_folder\n",
    "    # and generates a list of the form:\n",
    "    #\n",
    "    # [ [\"data/bikes/jfksdj43.jpg\", \"bikes\",\n",
    "    #   [\"data/cars/bvcnm401.jpg\", \"cars\"],\n",
    "    #   ...\n",
    "    # ]\n",
    "    #\n",
    "    def __init__(self, root_folder):\n",
    "        \n",
    "        self.all_training_items = []\n",
    "       \n",
    "        self.class_names = \\\n",
    "            [d for d in listdir(root_folder)\n",
    "             if isdir(os.path.join(root_folder,d))]\n",
    "\n",
    "        print(\"Under folder\\n\\t\", root_folder,\n",
    "              \"\\nI found the following subfolders/classes:\")\n",
    "        print(self.class_names)\n",
    "        \n",
    "        self.nr_classes = len(self.class_names)\n",
    "        \n",
    "        # For each subfolder ...\n",
    "        for class_id, class_name in enumerate(self.class_names):\n",
    "            \n",
    "            subfolder_name = root_folder + \"/\" + class_name + \"/\"\n",
    "            \n",
    "            filenames = \\\n",
    "                [subfolder_name + f\n",
    "                 for f in listdir(subfolder_name)\n",
    "                 if isfile(join(subfolder_name, f))]\n",
    "            \n",
    "            print(\"{} files in subfolder {}\".format(len(filenames),\n",
    "                                                    subfolder_name) )\n",
    "            \n",
    "            # For each image filename in current subfolder ...\n",
    "            for filename in filenames:\n",
    "                \n",
    "                teacher_vec = np.zeros( self.nr_classes )\n",
    "                teacher_vec[class_id] = 1.0\n",
    "                \n",
    "                self.all_training_items.append(\n",
    "                    [filename, class_id, class_name, teacher_vec] )              \n",
    "        \n",
    "        self.nr_images = len(self.all_training_items)\n",
    "        print(\"There are {} images in total available.\".format(self.nr_images))\n",
    "        \n",
    "        print(\"Here are the first 3 entries of the training items list generated:\")\n",
    "        print(self.all_training_items[:3])\n",
    "        \n",
    "    \n",
    "    \n",
    "    #   \n",
    "    # Given an absolute filename,\n",
    "    # load the image in using OpenCV,\n",
    "    # then convert it to usual RGB color channel order\n",
    "    # and scale values to be in range [0,1]\n",
    "    #\n",
    "    def load_image(self, absolute_filename):\n",
    "        \n",
    "        image = cv2.imread(absolute_filename)\n",
    "        image = cv2.cvtColor(image, cv2.COLOR_BGR2RGB)\n",
    "                \n",
    "        image = cv2.resize(image, IMG_SIZE, interpolation=cv2.INTER_AREA)\n",
    "        image = image * (1.0 / 255.0)\n",
    "        \n",
    "        return image\n",
    "        \n",
    "        \n",
    "       \n",
    "    #\n",
    "    # Return the image from the dataset\n",
    "    # with the specified index\n",
    "    #\n",
    "    def get_specific_image(self, idx):\n",
    "        \n",
    "        image_filename  = self.all_training_items[idx][0]\n",
    "        class_id        = self.all_training_items[idx][1]\n",
    "        class_name      = self.all_training_items[idx][2]\n",
    "        teacher_vec     = self.all_training_items[idx][3]\n",
    "        \n",
    "        image = self.load_image(image_filename)\n",
    "        \n",
    "        return image, class_id, class_name, teacher_vec\n",
    "    \n",
    "    \n",
    "    #\n",
    "    # Return an OpenCV image and the class label\n",
    "    # where the image is chosen randomly from the\n",
    "    # list of all images.\n",
    "    #\n",
    "    def get_random_image(self):\n",
    "        \n",
    "        rnd_idx = np.random.randint(0, self.nr_images)\n",
    "        return self.get_specific_image( rnd_idx )"
   ]
  },
  {
   "cell_type": "markdown",
   "metadata": {},
   "source": [
    "Let's test the image provider class:"
   ]
  },
  {
   "cell_type": "code",
   "execution_count": 3,
   "metadata": {},
   "outputs": [
    {
     "name": "stdout",
     "output_type": "stream",
     "text": [
      "Under folder\n",
      "\t V:\\01_job\\12_datasets\\01_imagenet_cars_vs_bikes\\train \n",
      "I found the following subfolders/classes:\n",
      "['bikes', 'cars']\n",
      "1000 files in subfolder V:\\01_job\\12_datasets\\01_imagenet_cars_vs_bikes\\train/bikes/\n",
      "1000 files in subfolder V:\\01_job\\12_datasets\\01_imagenet_cars_vs_bikes\\train/cars/\n",
      "There are 2000 images in total available.\n",
      "Here are the first 3 entries of the training items list generated:\n",
      "[['V:\\\\01_job\\\\12_datasets\\\\01_imagenet_cars_vs_bikes\\\\train/bikes/0001.JPEG', 0, 'bikes', array([1., 0.])], ['V:\\\\01_job\\\\12_datasets\\\\01_imagenet_cars_vs_bikes\\\\train/bikes/0002.JPEG', 0, 'bikes', array([1., 0.])], ['V:\\\\01_job\\\\12_datasets\\\\01_imagenet_cars_vs_bikes\\\\train/bikes/0003.JPEG', 0, 'bikes', array([1., 0.])]]\n"
     ]
    }
   ],
   "source": [
    "train_folder = \"V:\\\\01_job\\\\12_datasets\\\\01_imagenet_cars_vs_bikes\\\\train\"\n",
    "train_img_provider = image_provider( train_folder )"
   ]
  },
  {
   "cell_type": "markdown",
   "metadata": {},
   "source": [
    "Let us retrieve randomly one of the images and display it."
   ]
  },
  {
   "cell_type": "code",
   "execution_count": 4,
   "metadata": {},
   "outputs": [
    {
     "name": "stdout",
     "output_type": "stream",
     "text": [
      "image has type <class 'numpy.ndarray'>\n",
      "image has shape (100, 100, 3)\n",
      "teacher vec: [0. 1.]\n"
     ]
    },
    {
     "data": {
      "image/png": "[encoded data removed]",
      "text/plain": [
       "<matplotlib.figure.Figure at 0x20c6266e400>"
      ]
     },
     "metadata": {},
     "output_type": "display_data"
    }
   ],
   "source": [
    "image, class_id, class_name, teacher_vec = \\\n",
    "    train_img_provider.get_random_image()\n",
    "    \n",
    "THE_INPUT_IMG_SHAPE = image.shape\n",
    "    \n",
    "print(\"image has type\", type(image))\n",
    "print(\"image has shape\", image.shape)\n",
    "print(\"teacher vec:\", teacher_vec)\n",
    "plt.imshow(image)\n",
    "plt.title(\"One of the images with label {}\".format(class_name))\n",
    "plt.show()"
   ]
  },
  {
   "cell_type": "markdown",
   "metadata": {},
   "source": [
    "# Build a Convolutional Neural Network (CNN)\n",
    "\n",
    "Now we define a simple CNN in Keras.\n",
    "\n",
    "What we need to specify is the input shape of a single image:\n",
    "\n",
    "    (image_height, image_width, nr_color_channels)\n",
    "    \n",
    "Further, we need to specify how many output neurons the CNN shall have. This corresponds to the number of object classes we want to discriminate (classifiy) with the CNN:\n",
    "\n",
    "    e.g., nr_output_neurons = 2 (\"car\" vs. \"bike\")\n",
    "    e.g., nr_output_neurons = 3 (\"car\" vs. \"bike\" vs. \"truck\")\n",
    "    \n",
    "And then there are a lot of \"hyperparameters\" (model parameters we have to set manually):\n",
    "\n",
    "- how many conv layers?\n",
    "- how many pooling layers?\n",
    "- order of layers?\n",
    "- for each conv layer:\n",
    "  - nr of filters?\n",
    "  - kernel side length?\n",
    "  - kernel stride?\n",
    "  - activation function to use?\n",
    "- for each max-pooling layer:\n",
    "  - kernel side length?\n",
    "  - kernel stride?\n",
    "- for the final MLP at the end:\n",
    "  - nr of layers?\n",
    "  - for each MLP layer:\n",
    "    - nr of neurons?\n",
    "    - activation function to use?"
   ]
  },
  {
   "cell_type": "code",
   "execution_count": 5,
   "metadata": {},
   "outputs": [
    {
     "name": "stdout",
     "output_type": "stream",
     "text": [
      "WARNING:tensorflow:From C:\\ProgramData\\Anaconda3\\envs\\objdet\\lib\\site-packages\\tensorflow\\python\\framework\\op_def_library.py:263: colocate_with (from tensorflow.python.framework.ops) is deprecated and will be removed in a future version.\n",
      "Instructions for updating:\n",
      "Colocations handled automatically by placer.\n",
      "_________________________________________________________________\n",
      "Layer (type)                 Output Shape              Param #   \n",
      "=================================================================\n",
      "conv2d_1 (Conv2D)            (None, 49, 49, 32)        1568      \n",
      "_________________________________________________________________\n",
      "max_pooling2d_1 (MaxPooling2 (None, 24, 24, 32)        0         \n",
      "_________________________________________________________________\n",
      "flatten_1 (Flatten)          (None, 18432)             0         \n",
      "_________________________________________________________________\n",
      "dense_1 (Dense)              (None, 2)                 36866     \n",
      "=================================================================\n",
      "Total params: 38,434\n",
      "Trainable params: 38,434\n",
      "Non-trainable params: 0\n",
      "_________________________________________________________________\n"
     ]
    }
   ],
   "source": [
    "from keras.utils import to_categorical\n",
    "from keras import Sequential\n",
    "from keras.layers.core import Dense, Dropout, Activation, Flatten\n",
    "from keras.layers.convolutional import Conv2D, MaxPooling2D, ZeroPadding2D\n",
    "from keras.layers.normalization import BatchNormalization\n",
    "from keras.models import load_model\n",
    "from keras import backend as K\n",
    "\n",
    "def build_cnn_model(input_shape_of_single_image, nr_output_neurons):\n",
    "    \n",
    "    \n",
    "    # clear the last Keras session\n",
    "    # this will clear the underlying TensorFlow graph\n",
    "    K.clear_session()\n",
    "\n",
    "    model = Sequential()\n",
    "\n",
    "    # 1. Define the feature hierarchy:\n",
    "    \n",
    "    # Layer 1\n",
    "    nr_filter       = 32\n",
    "    kernel_side_len = 4\n",
    "    kernel_stride   = 2\n",
    "    model.add(Conv2D(nr_filter,\n",
    "                     kernel_size=(kernel_side_len, kernel_side_len),\n",
    "                     strides=(kernel_stride, kernel_stride),\n",
    "                     activation='relu',\n",
    "                     input_shape=input_shape_of_single_image)\n",
    "             )\n",
    "    \n",
    "    # Layer 2\n",
    "    kernel_side_len = 2\n",
    "    kernel_stride   = 2\n",
    "    model.add(MaxPooling2D(pool_size=(kernel_side_len, kernel_side_len),\n",
    "                           strides=(kernel_stride, kernel_stride))\n",
    "             )\n",
    "\n",
    "    # 2. Define the MLP part:\n",
    "    model.add(Flatten())\n",
    "    model.add(Dense(nr_output_neurons, activation='softmax'))\n",
    "    \n",
    "    \n",
    "    # 3. Show the model\n",
    "    model.summary()\n",
    "\n",
    "\n",
    "    # 4. Build model and configure model for training\n",
    "    model.compile(optimizer='adam', loss='categorical_crossentropy')\n",
    "\n",
    "    return model\n",
    "\n",
    "# end build_a_cnn_model\n",
    "\n",
    "\n",
    "# create a CNN model\n",
    "my_cnn = build_cnn_model(THE_INPUT_IMG_SHAPE,\n",
    "                         train_img_provider.nr_classes)"
   ]
  },
  {
   "cell_type": "markdown",
   "metadata": {},
   "source": [
    "# Testing the model before we train it\n",
    "\n",
    "Here we define a simple test function for a CNN. It takes the CNN model and a test image provider and returns the correct classification rate.\n",
    "\n",
    "If we did not train so model so far, all the weights were initialized just randomly. For this, the correct classification rate should be somewhere around 0.5 (random guessing rate) for a two class classification problem."
   ]
  },
  {
   "cell_type": "code",
   "execution_count": 6,
   "metadata": {},
   "outputs": [],
   "source": [
    "def test_cnn(your_cnn,\n",
    "             test_img_provider,\n",
    "             show_example_predictions):\n",
    "    \n",
    "    nr_test_images = test_img_provider.nr_images\n",
    "    \n",
    "    correct_classified = 0\n",
    "    \n",
    "    print(\"I will test the CNN on {} test images\".\n",
    "          format(nr_test_images))\n",
    "    \n",
    "    for test_img_nr in range(0, nr_test_images):\n",
    "        \n",
    "        if test_img_nr % 100 == 0:\n",
    "            print(\"Tested {} images so far\".\n",
    "                  format(test_img_nr))\n",
    "        \n",
    "        # 1. \n",
    "        # get the next test image from the\n",
    "        # test image provider\n",
    "        img, gt_class_nr, class_label, teacher_vec = \\\n",
    "            test_img_provider.get_specific_image( test_img_nr )\n",
    "    \n",
    "        \n",
    "        # 2.\n",
    "        # reshape image (3D array) to a 4D array\n",
    "        # since Keras wants 4D arrays as input\n",
    "        X = img.reshape((-1,\n",
    "                         img.shape[0],\n",
    "                         img.shape[1],\n",
    "                         img.shape[2]\n",
    "                        )\n",
    "                       )\n",
    "        \n",
    "        # 3.\n",
    "        # let the CNN predict the image class\n",
    "        neuron_outputs = your_cnn.predict(X)\n",
    "        \n",
    "        # 4.\n",
    "        # determine the predicted class nr\n",
    "        predicted_class_nr = np.argmax(neuron_outputs.reshape(-1))\n",
    "        \n",
    "        # 5.\n",
    "        # Did the CNN correctly predict the class?\n",
    "        if predicted_class_nr == gt_class_nr:\n",
    "            correct_classified +=1\n",
    "        prediced_class_label = \\\n",
    "            test_img_provider.class_names[predicted_class_nr]\n",
    "            \n",
    "        # 6.\n",
    "        # Show image, predicted class and gt class?\n",
    "        if show_example_predictions and np.random.randint(50)==0:\n",
    "                        \n",
    "            plt.title(\"Is: {} vs. Predicted: {}\\nNeuron out: {}\"\n",
    "                      .format(class_label,\n",
    "                              prediced_class_label,\n",
    "                              neuron_outputs\n",
    "                             )\n",
    "                     )\n",
    "            plt.imshow( img )\n",
    "            plt.show()\n",
    "            \n",
    "        \n",
    "    # finally, compute the correct classification rate\n",
    "    corr_classification_rate = \\\n",
    "        float(correct_classified) / float(nr_test_images)\n",
    "        \n",
    "    print(\"Correctly classified: {} of {} images:\"\n",
    "          \" --> rate: {:.2f}\"\n",
    "          .format(correct_classified,\n",
    "                  nr_test_images,\n",
    "                  corr_classification_rate)\n",
    "         )   \n",
    "    \n",
    "    # return the correct classification rate\n",
    "    return corr_classification_rate\n",
    "    \n",
    "    "
   ]
  },
  {
   "cell_type": "markdown",
   "metadata": {},
   "source": [
    "Now let us test how good our model performs on the test data!"
   ]
  },
  {
   "cell_type": "code",
   "execution_count": 7,
   "metadata": {},
   "outputs": [
    {
     "name": "stdout",
     "output_type": "stream",
     "text": [
      "Under folder\n",
      "\t V:\\01_job\\12_datasets\\01_imagenet_cars_vs_bikes\\test \n",
      "I found the following subfolders/classes:\n",
      "['bikes', 'cars']\n",
      "344 files in subfolder V:\\01_job\\12_datasets\\01_imagenet_cars_vs_bikes\\test/bikes/\n",
      "307 files in subfolder V:\\01_job\\12_datasets\\01_imagenet_cars_vs_bikes\\test/cars/\n",
      "There are 651 images in total available.\n",
      "Here are the first 3 entries of the training items list generated:\n",
      "[['V:\\\\01_job\\\\12_datasets\\\\01_imagenet_cars_vs_bikes\\\\test/bikes/1001.JPEG', 0, 'bikes', array([1., 0.])], ['V:\\\\01_job\\\\12_datasets\\\\01_imagenet_cars_vs_bikes\\\\test/bikes/1002.JPEG', 0, 'bikes', array([1., 0.])], ['V:\\\\01_job\\\\12_datasets\\\\01_imagenet_cars_vs_bikes\\\\test/bikes/1003.JPEG', 0, 'bikes', array([1., 0.])]]\n",
      "I will test the CNN on 651 test images\n",
      "Tested 0 images so far\n",
      "Tested 100 images so far\n",
      "Tested 200 images so far\n",
      "Tested 300 images so far\n",
      "Tested 400 images so far\n",
      "Tested 500 images so far\n",
      "Tested 600 images so far\n",
      "Correctly classified: 307 of 651 images: --> rate: 0.47\n"
     ]
    }
   ],
   "source": [
    "test_folder = \"V:\\\\01_job\\\\12_datasets\\\\01_imagenet_cars_vs_bikes\\\\test\"\n",
    "test_img_provider = image_provider( test_folder )\n",
    "\n",
    "show_example_predictions = False\n",
    "corr_class_rate = test_cnn(my_cnn,\n",
    "                           test_img_provider,\n",
    "                           show_example_predictions)"
   ]
  },
  {
   "cell_type": "markdown",
   "metadata": {},
   "source": [
    "# Training the CNN\n",
    "\n",
    "Now we will train the CNN. We will use \"Stochastic Gradient Descent\" (SGD) with just one training image per training step for the sake of simplicity (corresponds to mini batch with batch size 1). \n",
    "\n",
    "But note, that training could also be done using the \"mini batch\" approach. This means that in each training step we approximate the gradient for gradient descent step using e.g. 16,32,or 64 images.\n",
    "\n",
    "This is normally much faster, however, it also means that we have to put all the images in one large 4D training array (img_nr, img_height, img_width, nr_channels). And this can make problems when we have a large dataset due to out-of-memory errors on the GPU or CPU being used."
   ]
  },
  {
   "cell_type": "code",
   "execution_count": 8,
   "metadata": {},
   "outputs": [
    {
     "name": "stdout",
     "output_type": "stream",
     "text": [
      "Training started. Steps to train: 5000\n",
      "training step  0\n",
      "WARNING:tensorflow:From C:\\ProgramData\\Anaconda3\\envs\\objdet\\lib\\site-packages\\tensorflow\\python\\ops\\math_ops.py:3066: to_int32 (from tensorflow.python.ops.math_ops) is deprecated and will be removed in a future version.\n",
      "Instructions for updating:\n",
      "Use tf.cast instead.\n",
      "training step  500\n",
      "training step  1000\n",
      "training step  1500\n",
      "training step  2000\n",
      "training step  2500\n",
      "training step  3000\n",
      "training step  3500\n",
      "training step  4000\n",
      "training step  4500\n",
      "Training finished!\n"
     ]
    }
   ],
   "source": [
    "def train_cnn(your_cnn, train_img_provider, nr_train_steps):\n",
    "    \n",
    "    height      = THE_INPUT_IMG_SHAPE[0]\n",
    "    width       = THE_INPUT_IMG_SHAPE[1]\n",
    "    nr_channels = THE_INPUT_IMG_SHAPE[2]\n",
    "\n",
    "    X = np.zeros( (1,height,width,nr_channels)     )\n",
    "    Y = np.zeros( (1,train_img_provider.nr_classes) )\n",
    "\n",
    "    print(\"Training started. Steps to train: {}\"\n",
    "          .format(nr_train_steps))\n",
    "    \n",
    "    for train_step in range(0,nr_train_steps):\n",
    "\n",
    "        if train_step % 500 == 0:\n",
    "            print(\"training step \", train_step)\n",
    "\n",
    "        # 1. get the next random image from the dataset\n",
    "        image, class_id, class_name, teacher_vec = \\\n",
    "            train_img_provider.get_random_image()\n",
    "\n",
    "        # 2. put the image into a 4D array\n",
    "        #    note: Keras expects a 4D array as input for\n",
    "        #          the training function fit()\n",
    "        X[0,:,:,:] = image\n",
    "\n",
    "        # 3. the teacher value array expected by Keras\n",
    "        #    is a 2D array\n",
    "        Y[0,:] = teacher_vec\n",
    "\n",
    "\n",
    "        # 3. train the model using this image    \n",
    "        my_cnn.fit(X,Y,verbose=0)        \n",
    "        \n",
    "    print(\"Training finished!\")\n",
    "        \n",
    "train_cnn(my_cnn, train_img_provider, 5000)"
   ]
  },
  {
   "cell_type": "markdown",
   "metadata": {},
   "source": [
    "# Testing the model after we have trained it\n",
    "\n",
    "Now let us see how good the correct classification rate is after adapting all the weights!\n",
    "\n",
    "If we really learned something, the correct classification rate should now be much larger than 0.5!"
   ]
  },
  {
   "cell_type": "code",
   "execution_count": 9,
   "metadata": {},
   "outputs": [
    {
     "name": "stdout",
     "output_type": "stream",
     "text": [
      "I will test the CNN on 651 test images\n",
      "Tested 0 images so far\n",
      "Tested 100 images so far\n",
      "Tested 200 images so far\n",
      "Tested 300 images so far\n",
      "Tested 400 images so far\n",
      "Tested 500 images so far\n",
      "Tested 600 images so far\n",
      "Correctly classified: 543 of 651 images: --> rate: 0.83\n"
     ]
    }
   ],
   "source": [
    "show_example_predictions = False\n",
    "corr_class_rate = test_cnn(my_cnn,\n",
    "                           test_img_provider,\n",
    "                           show_example_predictions)"
   ]
  },
  {
   "cell_type": "code",
   "execution_count": null,
   "metadata": {
    "collapsed": true
   },
   "outputs": [],
   "source": []
  }
 ],
 "metadata": {
  "kernelspec": {
   "display_name": "Python 3",
   "language": "python",
   "name": "python3"
  },
  "language_info": {
   "codemirror_mode": {
    "name": "ipython",
    "version": 3
   },
   "file_extension": ".py",
   "mimetype": "text/x-python",
   "name": "python",
   "nbconvert_exporter": "python",
   "pygments_lexer": "ipython3",
   "version": "3.6.2"
  },
  "toc": {
   "base_numbering": 1,
   "nav_menu": {},
   "number_sections": true,
   "sideBar": true,
   "skip_h1_title": false,
   "title_cell": "Table of Contents",
   "title_sidebar": "Contents",
   "toc_cell": true,
   "toc_position": {
    "height": "calc(100% - 180px)",
    "left": "10px",
    "top": "150px",
    "width": "165px"
   },
   "toc_section_display": true,
   "toc_window_display": true
  }
 },
 "nbformat": 4,
 "nbformat_minor": 2
}
