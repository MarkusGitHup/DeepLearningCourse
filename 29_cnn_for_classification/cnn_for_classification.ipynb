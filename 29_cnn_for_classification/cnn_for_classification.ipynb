{
 "cells": [
  {
   "cell_type": "markdown",
   "metadata": {
    "toc": true
   },
   "source": [
    "<h1>Table of Contents<span class=\"tocSkip\"></span></h1>\n",
    "<div class=\"toc\"><ul class=\"toc-item\"><li><span><a href=\"#Introduction\" data-toc-modified-id=\"Introduction-1\"><span class=\"toc-item-num\">1&nbsp;&nbsp;</span>Introduction</a></span></li><li><span><a href=\"#Are-all-libraries-that-are-needed-available?\" data-toc-modified-id=\"Are-all-libraries-that-are-needed-available?-2\"><span class=\"toc-item-num\">2&nbsp;&nbsp;</span>Are all libraries that are needed available?</a></span></li><li><span><a href=\"#Prepare-an-image-provider-class\" data-toc-modified-id=\"Prepare-an-image-provider-class-3\"><span class=\"toc-item-num\">3&nbsp;&nbsp;</span>Prepare an image provider class</a></span></li><li><span><a href=\"#Build-a-Convolutional-Neural-Network-(CNN)\" data-toc-modified-id=\"Build-a-Convolutional-Neural-Network-(CNN)-4\"><span class=\"toc-item-num\">4&nbsp;&nbsp;</span>Build a Convolutional Neural Network (CNN)</a></span></li></ul></div>"
   ]
  },
  {
   "cell_type": "markdown",
   "metadata": {},
   "source": [
    "# Introduction\n",
    "\n",
    "The goal of this notebook is to show you how to build a simple Convolutional Neural Network (CNN) for classification in Keras.\n",
    "\n",
    "For this, first we need data! Search for open datasets of free images that show cars and bikes. E.g., Google has published the Open Image Dataset V4:\n",
    "\n",
    "https://storage.googleapis.com/openimages/web/visualizer/index.htm\n",
    "\n",
    "Prepare a folder data with two subfolders:\n",
    "    car\n",
    "    bike\n",
    "and store some hundreds of training images for each object category in each of these folders.\n"
   ]
  },
  {
   "cell_type": "markdown",
   "metadata": {
    "collapsed": true
   },
   "source": [
    "# Are all libraries that are needed available?"
   ]
  },
  {
   "cell_type": "code",
   "execution_count": 15,
   "metadata": {},
   "outputs": [
    {
     "name": "stdout",
     "output_type": "stream",
     "text": [
      "Your NumPy version is:      1.16.2\n",
      "Your TensorFlow version is: 1.13.1\n",
      "Your Keras version is:      2.2.4\n",
      "Your OpenCV version is:     4.1.0\n",
      "Your Matplotlib version is: 2.0.2\n"
     ]
    }
   ],
   "source": [
    "import numpy as np\n",
    "import tensorflow as tf\n",
    "import keras\n",
    "import cv2\n",
    "import matplotlib\n",
    "import matplotlib.pyplot as plt\n",
    "\n",
    "print( \"Your NumPy version is:      \" + np.__version__ )\n",
    "print( \"Your TensorFlow version is: \" + tf.__version__)\n",
    "print( \"Your Keras version is:      \" + keras.__version__ )\n",
    "print( \"Your OpenCV version is:     \" + cv2.__version__ )\n",
    "print( \"Your Matplotlib version is: \" + matplotlib.__version__)"
   ]
  },
  {
   "cell_type": "markdown",
   "metadata": {},
   "source": [
    "# Prepare an image provider class\n",
    "\n",
    "We define a class ``image_provider`` that will give us a convenient access to the images.\n",
    "\n",
    "Given a root folder (e.g. \"C:\\\\data\"), it automatically determines which subfolders are there (e.g. \"C:\\\\data\\\\car\" and \"C:\\\\data\\\\bike\"). Each subfolder is assumed to be one of the categories we are interested in (e.g. \"car\" and \"bike\").\n",
    "\n",
    "An image provide object then stores a list of all training items:\n",
    "    \n",
    "        [filename1, class_id, class_name, teacher_vec]\n",
    "        [filename2, class_id, class_name, teacher_vec]\n",
    "        ..."
   ]
  },
  {
   "cell_type": "code",
   "execution_count": 36,
   "metadata": {
    "collapsed": true
   },
   "outputs": [],
   "source": [
    "import os\n",
    "from os import listdir\n",
    "from os.path import isdir, isfile, join\n",
    "\n",
    "IMG_SIZE = (100,100)\n",
    "    \n",
    "class image_provider:\n",
    "    \n",
    "    #\n",
    "    # Traverses all subfolders of the specified root_folder\n",
    "    # and generates a list of the form:\n",
    "    #\n",
    "    # [ [\"data/bikes/jfksdj43.jpg\", \"bikes\",\n",
    "    #   [\"data/cars/bvcnm401.jpg\", \"cars\"],\n",
    "    #   ...\n",
    "    # ]\n",
    "    #\n",
    "    def __init__(self, root_folder):\n",
    "        \n",
    "        self.all_training_items = []\n",
    "       \n",
    "        class_names = \\\n",
    "            [d for d in listdir(root_folder)\n",
    "             if isdir(os.path.join(root_folder,d))]\n",
    "\n",
    "        print(\"Under folder\\n\\t\", root_folder,\n",
    "              \"\\nI found the following subfolders/classes:\")\n",
    "        print(class_names)\n",
    "        \n",
    "        nr_classes = len(class_names)\n",
    "        \n",
    "        # For each subfolder ...\n",
    "        for class_id, class_name in enumerate(class_names):\n",
    "            \n",
    "            subfolder_name = root_folder + \"/\" + class_name + \"/\"\n",
    "            \n",
    "            filenames = \\\n",
    "                [subfolder_name + f\n",
    "                 for f in listdir(subfolder_name) if isfile(join(subfolder_name, f))]\n",
    "            \n",
    "            print(\"{} files in subfolder {}\".format(len(filenames), subfolder_name) )\n",
    "            \n",
    "            # For each image filename in current subfolder ...\n",
    "            for filename in filenames:\n",
    "                \n",
    "                teacher_vec = np.zeros( nr_classes )\n",
    "                teacher_vec[class_id] = 1.0\n",
    "                \n",
    "                self.all_training_items.append(\n",
    "                    [filename, class_id, class_name, teacher_vec] )              \n",
    "        \n",
    "        self.nr_images = len(self.all_training_items)\n",
    "        print(\"There are {} images in total available.\".format(self.nr_images))\n",
    "        \n",
    "        print(\"Here are the first 3 entries of the training items list generated:\")\n",
    "        print(self.all_training_items[:3])\n",
    "        \n",
    "    \n",
    "    \n",
    "    #   \n",
    "    # Given an absolute filename,\n",
    "    # load the image in using OpenCV,\n",
    "    # then convert it to usual RGB color channel order\n",
    "    # and scale values to be in range [0,1]\n",
    "    #\n",
    "    def load_image(self, absolute_filename):\n",
    "        \n",
    "        image = cv2.imread(absolute_filename)\n",
    "        image = cv2.cvtColor(image, cv2.COLOR_BGR2RGB)\n",
    "                \n",
    "        image = cv2.resize(image, IMG_SIZE, interpolation=cv2.INTER_AREA)\n",
    "        image = image * (1.0 / 255.0)\n",
    "        \n",
    "        return image\n",
    "        \n",
    "        \n",
    "       \n",
    "    #\n",
    "    # Return the image from the dataset\n",
    "    # with the specified index\n",
    "    #\n",
    "    def get_specific_image(self, idx):\n",
    "        \n",
    "        image_filename  = self.all_training_items[idx][0]\n",
    "        class_id        = self.all_training_items[idx][1]\n",
    "        class_name      = self.all_training_items[idx][2]\n",
    "        teacher_vec     = self.all_training_items[idx][3]\n",
    "        \n",
    "        image = self.load_image(image_filename)\n",
    "        \n",
    "        return image, class_id, class_name, teacher_vec\n",
    "    \n",
    "    \n",
    "    #\n",
    "    # Return an OpenCV image and the class label\n",
    "    # where the image is chosen randomly from the\n",
    "    # list of all images.\n",
    "    #\n",
    "    def get_random_image(self):\n",
    "        \n",
    "        rnd_idx = np.random.randint(0, self.nr_images)\n",
    "        return self.get_specific_image( rnd_idx )"
   ]
  },
  {
   "cell_type": "markdown",
   "metadata": {},
   "source": [
    "Let's test the image provider class:"
   ]
  },
  {
   "cell_type": "code",
   "execution_count": 37,
   "metadata": {},
   "outputs": [
    {
     "name": "stdout",
     "output_type": "stream",
     "text": [
      "Under folder\n",
      "\t V:\\01_job\\12_datasets\\01_imagenet_cars_vs_bikes \n",
      "I found the following subfolders/classes:\n",
      "['bikes', 'cars']\n",
      "1344 files in subfolder V:\\01_job\\12_datasets\\01_imagenet_cars_vs_bikes/bikes/\n",
      "1307 files in subfolder V:\\01_job\\12_datasets\\01_imagenet_cars_vs_bikes/cars/\n",
      "There are 2651 images in total available.\n",
      "Here are the first 3 entries of the training items list generated:\n",
      "[['V:\\\\01_job\\\\12_datasets\\\\01_imagenet_cars_vs_bikes/bikes/n02834778_10.JPEG', 0, 'bikes', array([1., 0.])], ['V:\\\\01_job\\\\12_datasets\\\\01_imagenet_cars_vs_bikes/bikes/n02834778_10025.JPEG', 0, 'bikes', array([1., 0.])], ['V:\\\\01_job\\\\12_datasets\\\\01_imagenet_cars_vs_bikes/bikes/n02834778_10027.JPEG', 0, 'bikes', array([1., 0.])]]\n"
     ]
    }
   ],
   "source": [
    "my_image_provider = image_provider( \"V:\\\\01_job\\\\12_datasets\\\\01_imagenet_cars_vs_bikes\" )"
   ]
  },
  {
   "cell_type": "markdown",
   "metadata": {},
   "source": [
    "Let us retrieve randomly one of the images and display it."
   ]
  },
  {
   "cell_type": "code",
   "execution_count": 38,
   "metadata": {},
   "outputs": [
    {
     "name": "stdout",
     "output_type": "stream",
     "text": [
      "image has type <class 'numpy.ndarray'>\n",
      "image has shape (100, 100, 3)\n",
      "teacher vec: [0. 1.]\n"
     ]
    },
    {
     "data": {
      "image/png": "[encoded data removed]",
      "text/plain": [
       "<matplotlib.figure.Figure at 0x202c080a668>"
      ]
     },
     "metadata": {},
     "output_type": "display_data"
    }
   ],
   "source": [
    "image, class_id, class_name, teacher_vec = \\\n",
    "    my_image_provider.get_random_image()\n",
    "print(\"image has type\", type(image))\n",
    "print(\"image has shape\", image.shape)\n",
    "print(\"teacher vec:\", teacher_vec)\n",
    "plt.imshow(image)\n",
    "plt.title(\"One of the images with label {}\".format(class_name))\n",
    "plt.show()"
   ]
  },
  {
   "cell_type": "markdown",
   "metadata": {},
   "source": [
    "# Build a Convolutional Neural Network (CNN)\n",
    "\n",
    "Now we define a simple CNN in Keras.\n",
    "\n",
    "What we need to specify is the input shape of a single image:\n",
    "\n",
    "    (image_height, image_width, nr_color_channels)\n",
    "    \n",
    "Further, we need to specify how many output neurons the CNN shall have. This corresponds to the number of object classes we want to discriminate (classifiy) with the CNN:\n",
    "\n",
    "    e.g., nr_output_neurons = 2 (\"car\" vs. \"bike\")\n",
    "    e.g., nr_output_neurons = 3 (\"car\" vs. \"bike\" vs. \"truck\")\n",
    "    \n",
    "And then there are a lot of \"hyperparameters\" (model parameters we have to set manually):\n",
    "\n",
    "- how many conv layers?\n",
    "- how many pooling layers?\n",
    "- order of layers?\n",
    "- for each conv layer:\n",
    "  - nr of filters?\n",
    "  - kernel side length?\n",
    "  - kernel stride?\n",
    "  - activation function to use?\n",
    "- for each max-pooling layer:\n",
    "  - kernel side length?\n",
    "  - kernel stride?\n",
    "- for the final MLP at the end:\n",
    "  - nr of layers?\n",
    "  - for each MLP layer:\n",
    "    - nr of neurons?\n",
    "    - activation function to use?"
   ]
  },
  {
   "cell_type": "code",
   "execution_count": 39,
   "metadata": {
    "collapsed": true
   },
   "outputs": [],
   "source": [
    "def build_a_cnn_model(input_shape_of_single_image, nr_output_neurons):\n",
    "\n",
    "    model = Sequential()\n",
    "\n",
    "    # 1. Define the feature hierarchy:\n",
    "    \n",
    "    # Layer 1\n",
    "    nr_filter       = 32\n",
    "    kernel_side_len = 4\n",
    "    kernel_stride   = 2\n",
    "    model.add(Conv2D(nr_filter,\n",
    "                     kernel_size=(kernel_side_len, kernel_side_len),\n",
    "                     strides=(kernel_stride, kernel_stride),\n",
    "                     activation='relu',\n",
    "                     input_shape=input_shape_of_single_image)\n",
    "             )\n",
    "    \n",
    "    # Layer 2\n",
    "    kernel_side_len = 2\n",
    "    kernel_stride   = 2\n",
    "    model.add(MaxPooling2D(pool_size=(kernel_side_len, kernel_side_len),\n",
    "                           strides=(kernel_stride, kernel_stride))\n",
    "             )\n",
    "\n",
    "    # 2. Define the MLP part:\n",
    "    model.add(Flatten())\n",
    "    model.add(Dense(nr_output_neurons, activation='softmax'))\n",
    "\n",
    "    return model\n",
    "\n",
    "# end build_a_cnn_model"
   ]
  },
  {
   "cell_type": "code",
   "execution_count": null,
   "metadata": {
    "collapsed": true
   },
   "outputs": [],
   "source": []
  }
 ],
 "metadata": {
  "kernelspec": {
   "display_name": "Python 3",
   "language": "python",
   "name": "python3"
  },
  "language_info": {
   "codemirror_mode": {
    "name": "ipython",
    "version": 3
   },
   "file_extension": ".py",
   "mimetype": "text/x-python",
   "name": "python",
   "nbconvert_exporter": "python",
   "pygments_lexer": "ipython3",
   "version": "3.6.2"
  },
  "toc": {
   "base_numbering": 1,
   "nav_menu": {},
   "number_sections": true,
   "sideBar": true,
   "skip_h1_title": false,
   "title_cell": "Table of Contents",
   "title_sidebar": "Contents",
   "toc_cell": true,
   "toc_position": {},
   "toc_section_display": true,
   "toc_window_display": false
  }
 },
 "nbformat": 4,
 "nbformat_minor": 2
}
