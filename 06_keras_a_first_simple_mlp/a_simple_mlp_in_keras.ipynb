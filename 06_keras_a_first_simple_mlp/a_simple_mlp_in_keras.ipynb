{
 "cells": [
  {
   "cell_type": "markdown",
   "metadata": {},
   "source": [
    "# A maximal simple MLP in Keras\n",
    "by Prof. Dr.-Ing. Jürgen Brauer, http://www.juergenbrauer.org\n",
    "\n",
    "The MLP will learn to add two numbers by using only 10 examples of (x1,x2,y) with y=x1+x2"
   ]
  },
  {
   "cell_type": "markdown",
   "metadata": {
    "toc": true
   },
   "source": [
    "<h1>Table of Contents<span class=\"tocSkip\"></span></h1>\n",
    "<div class=\"toc\"><ul class=\"toc-item\"><li><span><a href=\"#A-maximal-simple-MLP-in-Keras\" data-toc-modified-id=\"A-maximal-simple-MLP-in-Keras-1\"><span class=\"toc-item-num\">1&nbsp;&nbsp;</span>A maximal simple MLP in Keras</a></span></li><li><span><a href=\"#Import-all-libraries-that-are-needed.\" data-toc-modified-id=\"Import-all-libraries-that-are-needed.-2\"><span class=\"toc-item-num\">2&nbsp;&nbsp;</span>Import all libraries that are needed.</a></span></li><li><span><a href=\"#Prepare-some-training-data\" data-toc-modified-id=\"Prepare-some-training-data-3\"><span class=\"toc-item-num\">3&nbsp;&nbsp;</span>Prepare some training data</a></span></li><li><span><a href=\"#Build-the-MLP-model-using-Keras\" data-toc-modified-id=\"Build-the-MLP-model-using-Keras-4\"><span class=\"toc-item-num\">4&nbsp;&nbsp;</span>Build the MLP model using Keras</a></span></li><li><span><a href=\"#Prepare-the-optimizer\" data-toc-modified-id=\"Prepare-the-optimizer-5\"><span class=\"toc-item-num\">5&nbsp;&nbsp;</span>Prepare the optimizer</a></span></li><li><span><a href=\"#Training\" data-toc-modified-id=\"Training-6\"><span class=\"toc-item-num\">6&nbsp;&nbsp;</span>Training</a></span></li><li><span><a href=\"#Test-the-model\" data-toc-modified-id=\"Test-the-model-7\"><span class=\"toc-item-num\">7&nbsp;&nbsp;</span>Test the model</a></span></li></ul></div>"
   ]
  },
  {
   "cell_type": "markdown",
   "metadata": {},
   "source": [
    "# Import all libraries that are needed.\n",
    "\n",
    "First let us import all the libraries that we need in the following."
   ]
  },
  {
   "cell_type": "code",
   "execution_count": 7,
   "metadata": {
    "collapsed": true
   },
   "outputs": [],
   "source": [
    "from keras.models import Sequential\n",
    "from keras import layers\n",
    "from keras.layers.core import Dense\n",
    "import pandas as pd\n",
    "import numpy as np"
   ]
  },
  {
   "cell_type": "markdown",
   "metadata": {},
   "source": [
    "# Prepare some training data"
   ]
  },
  {
   "cell_type": "code",
   "execution_count": 8,
   "metadata": {},
   "outputs": [
    {
     "name": "stdout",
     "output_type": "stream",
     "text": [
      "X= [[0.02805375 0.18366565]\n",
      " [0.75295588 0.64418189]\n",
      " [0.87027016 0.61637263]\n",
      " [0.18781288 0.49775535]\n",
      " [0.87340713 0.17483487]\n",
      " [0.63288958 0.6196957 ]\n",
      " [0.6544118  0.75842931]\n",
      " [0.09306818 0.01188546]\n",
      " [0.97961525 0.90405001]\n",
      " [0.07609703 0.95109826]]\n",
      "Y= [0.2117194  1.39713777 1.48664279 0.68556824 1.048242   1.25258528\n",
      " 1.41284111 0.10495364 1.88366527 1.02719528]\n",
      "Type of X is <class 'numpy.ndarray'>\n",
      "Type of Y is <class 'numpy.ndarray'>\n",
      "Shape of X is (10, 2)\n",
      "Shape of Y is (10,)\n"
     ]
    }
   ],
   "source": [
    "X = np.random.rand(10,2)\n",
    "print(\"X=\",X)\n",
    "Y = X[:,0] + X[:,1]\n",
    "print(\"Y=\",Y)\n",
    "print(\"Type of X is\", type(X))\n",
    "print(\"Type of Y is\", type(Y))\n",
    "print(\"Shape of X is\", X.shape)\n",
    "print(\"Shape of Y is\", Y.shape)"
   ]
  },
  {
   "cell_type": "markdown",
   "metadata": {},
   "source": [
    "# Build the MLP model using Keras"
   ]
  },
  {
   "cell_type": "code",
   "execution_count": 9,
   "metadata": {},
   "outputs": [
    {
     "name": "stdout",
     "output_type": "stream",
     "text": [
      "<keras.engine.sequential.Sequential object at 0x0000027C69677DD8>\n"
     ]
    }
   ],
   "source": [
    "model = Sequential()\n",
    "model.add(Dense(10, activation=\"linear\", input_dim=2))\n",
    "model.add(Dense(5, activation=\"linear\"))\n",
    "model.add(Dense(1, activation=\"linear\"))\n",
    "print(model)"
   ]
  },
  {
   "cell_type": "markdown",
   "metadata": {},
   "source": [
    "# Prepare the optimizer"
   ]
  },
  {
   "cell_type": "code",
   "execution_count": 10,
   "metadata": {
    "collapsed": true
   },
   "outputs": [],
   "source": [
    "model.compile(loss='mean_squared_error', optimizer='sgd')"
   ]
  },
  {
   "cell_type": "markdown",
   "metadata": {},
   "source": [
    "# Training"
   ]
  },
  {
   "cell_type": "code",
   "execution_count": null,
   "metadata": {
    "collapsed": true
   },
   "outputs": [],
   "source": [
    "model.fit(X,Y, epochs=1000)"
   ]
  },
  {
   "cell_type": "markdown",
   "metadata": {},
   "source": [
    "# Test the model\n",
    "\n",
    "Let us now test the model, we have just trained!"
   ]
  },
  {
   "cell_type": "code",
   "execution_count": 12,
   "metadata": {},
   "outputs": [
    {
     "name": "stdout",
     "output_type": "stream",
     "text": [
      "0.34 + 0.26 = 0.60 and MLP says 0.60\n",
      "0.18 + 0.84 = 1.02 and MLP says 1.02\n",
      "0.97 + 0.87 = 1.84 and MLP says 1.84\n",
      "0.10 + 0.54 = 0.64 and MLP says 0.64\n",
      "0.38 + 0.54 = 0.92 and MLP says 0.92\n",
      "0.51 + 0.59 = 1.10 and MLP says 1.10\n",
      "0.78 + 0.79 = 1.57 and MLP says 1.57\n",
      "0.15 + 0.62 = 0.77 and MLP says 0.77\n",
      "0.80 + 0.65 = 1.45 and MLP says 1.45\n",
      "0.66 + 0.39 = 1.05 and MLP says 1.05\n"
     ]
    }
   ],
   "source": [
    "for test_nr in range(0,10):\n",
    "    x1 = np.random.rand()\n",
    "    x2 = np.random.rand()    \n",
    "    X_test = np.array([[x1, x2]])    \n",
    "    #print(\"X_test has shape\", X_test.shape)    \n",
    "    \n",
    "    predval = model.predict(X_test)\n",
    "    #print(\"predval has shape\", predval.shape)\n",
    "    predval = predval[0][0]\n",
    "    #print(predval)\n",
    "    \n",
    "    print(\"{0:0.2f}\".format(x1),\n",
    "          \"+\",\n",
    "          \"{0:0.2f}\".format(x2),\n",
    "          \"=\",\n",
    "          \"{0:0.2f}\".format(x1+x2),\n",
    "          \"and MLP says\",\n",
    "          \"{0:0.2f}\".format(predval)\n",
    "         )\n",
    "    "
   ]
  },
  {
   "cell_type": "code",
   "execution_count": null,
   "metadata": {
    "collapsed": true
   },
   "outputs": [],
   "source": []
  }
 ],
 "metadata": {
  "kernelspec": {
   "display_name": "Python 3",
   "language": "python",
   "name": "python3"
  },
  "language_info": {
   "codemirror_mode": {
    "name": "ipython",
    "version": 3
   },
   "file_extension": ".py",
   "mimetype": "text/x-python",
   "name": "python",
   "nbconvert_exporter": "python",
   "pygments_lexer": "ipython3",
   "version": "3.5.4"
  },
  "toc": {
   "base_numbering": 1,
   "nav_menu": {},
   "number_sections": true,
   "sideBar": true,
   "skip_h1_title": false,
   "title_cell": "Table of Contents",
   "title_sidebar": "Contents",
   "toc_cell": true,
   "toc_position": {},
   "toc_section_display": true,
   "toc_window_display": false
  }
 },
 "nbformat": 4,
 "nbformat_minor": 2
}
