{
 "cells": [
  {
   "cell_type": "markdown",
   "metadata": {},
   "source": [
    "# <p style=\"text-align: center;\">Long Short Term Memory (LSTM)<br>for time series prediction\n",
    "</p>\n",
    "<p style=\"text-align: center;\">here: number of passengers</p>\n",
    "\n",
    "<p style=\"text-align: center;\">\n",
    " by Prof. Dr.-Ing. Jürgen Brauer, http://www.juergenbrauer.org\n",
    "</p>"
   ]
  },
  {
   "cell_type": "markdown",
   "metadata": {},
   "source": [
    "## Table of contents\n",
    "\n",
    "1. Get the dataset\n",
    "2. Load the dataset\n",
    "3. Plot the time series\n",
    "4. Normalize the raw data\n",
    "5. Split data into training and test data\n",
    "6. Prepare sequence-to-sequence training/test data\n",
    "7. Prepare input to be fed into LSTM\n",
    "8. Build and train a first LSTM model\n",
    "9. Use the trained LSTM to predict values\n",
    "10. Plot the prediction results\n",
    "11. Putting all code for experiments together"
   ]
  },
  {
   "cell_type": "markdown",
   "metadata": {},
   "source": [
    "## 1. Get the dataset\n",
    "\n",
    "For training a LSTM model for time series prediction, we need a dataset.\n",
    "\n",
    "This notebook here is stronlgy inspired by [Jason Brownlee's LSTM blog](https://machinelearningmastery.com/time-series-prediction-lstm-recurrent-neural-networks-python-keras/ \"Time Series Prediction with LSTM Recurrent Neural Networks in Python with Keras\"). In this blog a real dataset is used that [can be downloaded from the DataMarket website](https://datamarket.com/data/set/22u3/international-airline-passengers-monthly-totals-in-thousands-jan-49-dec-60#!ds=22u3&display=line \"International airline passengers dataset\") and contains the number of international airline passengers on a monthly basis (specified in thousands) from Jan 1949 to December 1960.\n",
    "\n",
    "However, it seems that his website is outdated since DataMarket was acquired by a company called Qlik.\n",
    "\n",
    "For this it is good to see that the dataset [can now also available be downloaded from Kaggle](https://www.kaggle.com/andreazzini/international-airline-passengers) as a simple .csv file with 144 data rows.\n",
    "\n",
    "Note:\n",
    " - you should remove the last line from the .csv file which contains some explanatory text.\n",
    " - for the sake of simplicity when accessing data columns: rename the 2nd column of the dataset to \"Passengers\""
   ]
  },
  {
   "cell_type": "markdown",
   "metadata": {},
   "source": [
    "## 2. Load the dataset\n",
    "\n",
    "We can load in the dataset easily using Pandas."
   ]
  },
  {
   "cell_type": "code",
   "execution_count": 1,
   "metadata": {
    "collapsed": true
   },
   "outputs": [],
   "source": [
    "import pandas as pd\n",
    "filename = \"passengers_dataset/international-airline-passengers.csv\"\n",
    "table = pd.read_csv( filename )"
   ]
  },
  {
   "cell_type": "code",
   "execution_count": 2,
   "metadata": {},
   "outputs": [
    {
     "data": {
      "text/html": [
       "<div>\n",
       "<style>\n",
       "    .dataframe thead tr:only-child th {\n",
       "        text-align: right;\n",
       "    }\n",
       "\n",
       "    .dataframe thead th {\n",
       "        text-align: left;\n",
       "    }\n",
       "\n",
       "    .dataframe tbody tr th {\n",
       "        vertical-align: top;\n",
       "    }\n",
       "</style>\n",
       "<table border=\"1\" class=\"dataframe\">\n",
       "  <thead>\n",
       "    <tr style=\"text-align: right;\">\n",
       "      <th></th>\n",
       "      <th>Month</th>\n",
       "      <th>Passengers</th>\n",
       "    </tr>\n",
       "  </thead>\n",
       "  <tbody>\n",
       "    <tr>\n",
       "      <th>0</th>\n",
       "      <td>1949-01</td>\n",
       "      <td>112</td>\n",
       "    </tr>\n",
       "    <tr>\n",
       "      <th>1</th>\n",
       "      <td>1949-02</td>\n",
       "      <td>118</td>\n",
       "    </tr>\n",
       "    <tr>\n",
       "      <th>2</th>\n",
       "      <td>1949-03</td>\n",
       "      <td>132</td>\n",
       "    </tr>\n",
       "    <tr>\n",
       "      <th>3</th>\n",
       "      <td>1949-04</td>\n",
       "      <td>129</td>\n",
       "    </tr>\n",
       "    <tr>\n",
       "      <th>4</th>\n",
       "      <td>1949-05</td>\n",
       "      <td>121</td>\n",
       "    </tr>\n",
       "    <tr>\n",
       "      <th>5</th>\n",
       "      <td>1949-06</td>\n",
       "      <td>135</td>\n",
       "    </tr>\n",
       "    <tr>\n",
       "      <th>6</th>\n",
       "      <td>1949-07</td>\n",
       "      <td>148</td>\n",
       "    </tr>\n",
       "    <tr>\n",
       "      <th>7</th>\n",
       "      <td>1949-08</td>\n",
       "      <td>148</td>\n",
       "    </tr>\n",
       "    <tr>\n",
       "      <th>8</th>\n",
       "      <td>1949-09</td>\n",
       "      <td>136</td>\n",
       "    </tr>\n",
       "    <tr>\n",
       "      <th>9</th>\n",
       "      <td>1949-10</td>\n",
       "      <td>119</td>\n",
       "    </tr>\n",
       "    <tr>\n",
       "      <th>10</th>\n",
       "      <td>1949-11</td>\n",
       "      <td>104</td>\n",
       "    </tr>\n",
       "    <tr>\n",
       "      <th>11</th>\n",
       "      <td>1949-12</td>\n",
       "      <td>118</td>\n",
       "    </tr>\n",
       "    <tr>\n",
       "      <th>12</th>\n",
       "      <td>1950-01</td>\n",
       "      <td>115</td>\n",
       "    </tr>\n",
       "    <tr>\n",
       "      <th>13</th>\n",
       "      <td>1950-02</td>\n",
       "      <td>126</td>\n",
       "    </tr>\n",
       "    <tr>\n",
       "      <th>14</th>\n",
       "      <td>1950-03</td>\n",
       "      <td>141</td>\n",
       "    </tr>\n",
       "    <tr>\n",
       "      <th>15</th>\n",
       "      <td>1950-04</td>\n",
       "      <td>135</td>\n",
       "    </tr>\n",
       "    <tr>\n",
       "      <th>16</th>\n",
       "      <td>1950-05</td>\n",
       "      <td>125</td>\n",
       "    </tr>\n",
       "    <tr>\n",
       "      <th>17</th>\n",
       "      <td>1950-06</td>\n",
       "      <td>149</td>\n",
       "    </tr>\n",
       "    <tr>\n",
       "      <th>18</th>\n",
       "      <td>1950-07</td>\n",
       "      <td>170</td>\n",
       "    </tr>\n",
       "    <tr>\n",
       "      <th>19</th>\n",
       "      <td>1950-08</td>\n",
       "      <td>170</td>\n",
       "    </tr>\n",
       "    <tr>\n",
       "      <th>20</th>\n",
       "      <td>1950-09</td>\n",
       "      <td>158</td>\n",
       "    </tr>\n",
       "    <tr>\n",
       "      <th>21</th>\n",
       "      <td>1950-10</td>\n",
       "      <td>133</td>\n",
       "    </tr>\n",
       "    <tr>\n",
       "      <th>22</th>\n",
       "      <td>1950-11</td>\n",
       "      <td>114</td>\n",
       "    </tr>\n",
       "    <tr>\n",
       "      <th>23</th>\n",
       "      <td>1950-12</td>\n",
       "      <td>140</td>\n",
       "    </tr>\n",
       "    <tr>\n",
       "      <th>24</th>\n",
       "      <td>1951-01</td>\n",
       "      <td>145</td>\n",
       "    </tr>\n",
       "    <tr>\n",
       "      <th>25</th>\n",
       "      <td>1951-02</td>\n",
       "      <td>150</td>\n",
       "    </tr>\n",
       "    <tr>\n",
       "      <th>26</th>\n",
       "      <td>1951-03</td>\n",
       "      <td>178</td>\n",
       "    </tr>\n",
       "    <tr>\n",
       "      <th>27</th>\n",
       "      <td>1951-04</td>\n",
       "      <td>163</td>\n",
       "    </tr>\n",
       "    <tr>\n",
       "      <th>28</th>\n",
       "      <td>1951-05</td>\n",
       "      <td>172</td>\n",
       "    </tr>\n",
       "    <tr>\n",
       "      <th>29</th>\n",
       "      <td>1951-06</td>\n",
       "      <td>178</td>\n",
       "    </tr>\n",
       "    <tr>\n",
       "      <th>...</th>\n",
       "      <td>...</td>\n",
       "      <td>...</td>\n",
       "    </tr>\n",
       "    <tr>\n",
       "      <th>114</th>\n",
       "      <td>1958-07</td>\n",
       "      <td>491</td>\n",
       "    </tr>\n",
       "    <tr>\n",
       "      <th>115</th>\n",
       "      <td>1958-08</td>\n",
       "      <td>505</td>\n",
       "    </tr>\n",
       "    <tr>\n",
       "      <th>116</th>\n",
       "      <td>1958-09</td>\n",
       "      <td>404</td>\n",
       "    </tr>\n",
       "    <tr>\n",
       "      <th>117</th>\n",
       "      <td>1958-10</td>\n",
       "      <td>359</td>\n",
       "    </tr>\n",
       "    <tr>\n",
       "      <th>118</th>\n",
       "      <td>1958-11</td>\n",
       "      <td>310</td>\n",
       "    </tr>\n",
       "    <tr>\n",
       "      <th>119</th>\n",
       "      <td>1958-12</td>\n",
       "      <td>337</td>\n",
       "    </tr>\n",
       "    <tr>\n",
       "      <th>120</th>\n",
       "      <td>1959-01</td>\n",
       "      <td>360</td>\n",
       "    </tr>\n",
       "    <tr>\n",
       "      <th>121</th>\n",
       "      <td>1959-02</td>\n",
       "      <td>342</td>\n",
       "    </tr>\n",
       "    <tr>\n",
       "      <th>122</th>\n",
       "      <td>1959-03</td>\n",
       "      <td>406</td>\n",
       "    </tr>\n",
       "    <tr>\n",
       "      <th>123</th>\n",
       "      <td>1959-04</td>\n",
       "      <td>396</td>\n",
       "    </tr>\n",
       "    <tr>\n",
       "      <th>124</th>\n",
       "      <td>1959-05</td>\n",
       "      <td>420</td>\n",
       "    </tr>\n",
       "    <tr>\n",
       "      <th>125</th>\n",
       "      <td>1959-06</td>\n",
       "      <td>472</td>\n",
       "    </tr>\n",
       "    <tr>\n",
       "      <th>126</th>\n",
       "      <td>1959-07</td>\n",
       "      <td>548</td>\n",
       "    </tr>\n",
       "    <tr>\n",
       "      <th>127</th>\n",
       "      <td>1959-08</td>\n",
       "      <td>559</td>\n",
       "    </tr>\n",
       "    <tr>\n",
       "      <th>128</th>\n",
       "      <td>1959-09</td>\n",
       "      <td>463</td>\n",
       "    </tr>\n",
       "    <tr>\n",
       "      <th>129</th>\n",
       "      <td>1959-10</td>\n",
       "      <td>407</td>\n",
       "    </tr>\n",
       "    <tr>\n",
       "      <th>130</th>\n",
       "      <td>1959-11</td>\n",
       "      <td>362</td>\n",
       "    </tr>\n",
       "    <tr>\n",
       "      <th>131</th>\n",
       "      <td>1959-12</td>\n",
       "      <td>405</td>\n",
       "    </tr>\n",
       "    <tr>\n",
       "      <th>132</th>\n",
       "      <td>1960-01</td>\n",
       "      <td>417</td>\n",
       "    </tr>\n",
       "    <tr>\n",
       "      <th>133</th>\n",
       "      <td>1960-02</td>\n",
       "      <td>391</td>\n",
       "    </tr>\n",
       "    <tr>\n",
       "      <th>134</th>\n",
       "      <td>1960-03</td>\n",
       "      <td>419</td>\n",
       "    </tr>\n",
       "    <tr>\n",
       "      <th>135</th>\n",
       "      <td>1960-04</td>\n",
       "      <td>461</td>\n",
       "    </tr>\n",
       "    <tr>\n",
       "      <th>136</th>\n",
       "      <td>1960-05</td>\n",
       "      <td>472</td>\n",
       "    </tr>\n",
       "    <tr>\n",
       "      <th>137</th>\n",
       "      <td>1960-06</td>\n",
       "      <td>535</td>\n",
       "    </tr>\n",
       "    <tr>\n",
       "      <th>138</th>\n",
       "      <td>1960-07</td>\n",
       "      <td>622</td>\n",
       "    </tr>\n",
       "    <tr>\n",
       "      <th>139</th>\n",
       "      <td>1960-08</td>\n",
       "      <td>606</td>\n",
       "    </tr>\n",
       "    <tr>\n",
       "      <th>140</th>\n",
       "      <td>1960-09</td>\n",
       "      <td>508</td>\n",
       "    </tr>\n",
       "    <tr>\n",
       "      <th>141</th>\n",
       "      <td>1960-10</td>\n",
       "      <td>461</td>\n",
       "    </tr>\n",
       "    <tr>\n",
       "      <th>142</th>\n",
       "      <td>1960-11</td>\n",
       "      <td>390</td>\n",
       "    </tr>\n",
       "    <tr>\n",
       "      <th>143</th>\n",
       "      <td>1960-12</td>\n",
       "      <td>432</td>\n",
       "    </tr>\n",
       "  </tbody>\n",
       "</table>\n",
       "<p>144 rows × 2 columns</p>\n",
       "</div>"
      ],
      "text/plain": [
       "       Month  Passengers\n",
       "0    1949-01         112\n",
       "1    1949-02         118\n",
       "2    1949-03         132\n",
       "3    1949-04         129\n",
       "4    1949-05         121\n",
       "5    1949-06         135\n",
       "6    1949-07         148\n",
       "7    1949-08         148\n",
       "8    1949-09         136\n",
       "9    1949-10         119\n",
       "10   1949-11         104\n",
       "11   1949-12         118\n",
       "12   1950-01         115\n",
       "13   1950-02         126\n",
       "14   1950-03         141\n",
       "15   1950-04         135\n",
       "16   1950-05         125\n",
       "17   1950-06         149\n",
       "18   1950-07         170\n",
       "19   1950-08         170\n",
       "20   1950-09         158\n",
       "21   1950-10         133\n",
       "22   1950-11         114\n",
       "23   1950-12         140\n",
       "24   1951-01         145\n",
       "25   1951-02         150\n",
       "26   1951-03         178\n",
       "27   1951-04         163\n",
       "28   1951-05         172\n",
       "29   1951-06         178\n",
       "..       ...         ...\n",
       "114  1958-07         491\n",
       "115  1958-08         505\n",
       "116  1958-09         404\n",
       "117  1958-10         359\n",
       "118  1958-11         310\n",
       "119  1958-12         337\n",
       "120  1959-01         360\n",
       "121  1959-02         342\n",
       "122  1959-03         406\n",
       "123  1959-04         396\n",
       "124  1959-05         420\n",
       "125  1959-06         472\n",
       "126  1959-07         548\n",
       "127  1959-08         559\n",
       "128  1959-09         463\n",
       "129  1959-10         407\n",
       "130  1959-11         362\n",
       "131  1959-12         405\n",
       "132  1960-01         417\n",
       "133  1960-02         391\n",
       "134  1960-03         419\n",
       "135  1960-04         461\n",
       "136  1960-05         472\n",
       "137  1960-06         535\n",
       "138  1960-07         622\n",
       "139  1960-08         606\n",
       "140  1960-09         508\n",
       "141  1960-10         461\n",
       "142  1960-11         390\n",
       "143  1960-12         432\n",
       "\n",
       "[144 rows x 2 columns]"
      ]
     },
     "execution_count": 2,
     "metadata": {},
     "output_type": "execute_result"
    }
   ],
   "source": [
    "table"
   ]
  },
  {
   "cell_type": "markdown",
   "metadata": {},
   "source": [
    "## 3. Plot the time series\n",
    "\n",
    "We can use MatplobLib for dislaying the time series as a graph."
   ]
  },
  {
   "cell_type": "code",
   "execution_count": 3,
   "metadata": {},
   "outputs": [
    {
     "name": "stdout",
     "output_type": "stream",
     "text": [
      "table has type <class 'pandas.core.frame.DataFrame'>\n",
      "time_series has type <class 'numpy.ndarray'>\n"
     ]
    },
    {
     "data": {
      "image/png": "[encoded data removed]",
      "text/plain": [
       "<matplotlib.figure.Figure at 0x22ec1122828>"
      ]
     },
     "metadata": {},
     "output_type": "display_data"
    }
   ],
   "source": [
    "import matplotlib.pyplot as plt\n",
    "\n",
    "print(\"table has type\", type(table))\n",
    "time_series_raw = table[\"Passengers\"].values\n",
    "print(\"time_series has type\", type(time_series_raw))\n",
    "\n",
    "plt.plot(time_series_raw)\n",
    "plt.show()"
   ]
  },
  {
   "cell_type": "markdown",
   "metadata": {},
   "source": [
    "## 4. Normalize the raw data\n",
    "\n",
    "For Neural Networks it is always good, if the input data is scaled. This makes it easier for the network to find suitable weights.\n",
    "\n",
    "We can use [Scikit-learn's MinMaxScaler](https://scikit-learn.org/stable/modules/generated/sklearn.preprocessing.MinMaxScaler.html) to do this job.\n",
    "\n"
   ]
  },
  {
   "cell_type": "code",
   "execution_count": 4,
   "metadata": {},
   "outputs": [
    {
     "name": "stderr",
     "output_type": "stream",
     "text": [
      "C:\\Users\\Juergen Brauer\\AppData\\Local\\conda\\conda\\envs\\env_mss\\lib\\site-packages\\sklearn\\utils\\validation.py:444: DataConversionWarning: Data with input dtype int64 was converted to float64 by MinMaxScaler.\n",
      "  warnings.warn(msg, DataConversionWarning)\n"
     ]
    }
   ],
   "source": [
    "from sklearn.preprocessing import MinMaxScaler\n",
    "\n",
    "scaler = MinMaxScaler(feature_range=(0, 1))\n",
    "time_series_scaled_as_matrix = scaler.fit_transform( time_series_raw.reshape(-1,1) )\n",
    "time_series_scaled = time_series_scaled_as_matrix.reshape(-1)"
   ]
  },
  {
   "cell_type": "code",
   "execution_count": 5,
   "metadata": {},
   "outputs": [
    {
     "data": {
      "text/plain": [
       "array([0.01544402, 0.02702703, 0.05405405, 0.04826255, 0.03281853,\n",
       "       0.05984556, 0.08494208, 0.08494208, 0.06177606, 0.02895753,\n",
       "       0.        , 0.02702703, 0.02123552, 0.04247104, 0.07142857,\n",
       "       0.05984556, 0.04054054, 0.08687259, 0.12741313, 0.12741313,\n",
       "       0.1042471 , 0.05598456, 0.01930502, 0.06949807, 0.07915058,\n",
       "       0.08880309, 0.14285714, 0.11389961, 0.13127413, 0.14285714,\n",
       "       0.18339768, 0.18339768, 0.15444015, 0.11196911, 0.08108108,\n",
       "       0.11969112, 0.12934363, 0.14671815, 0.17181467, 0.14864865,\n",
       "       0.15250965, 0.22007722, 0.24324324, 0.26640927, 0.2027027 ,\n",
       "       0.16795367, 0.13127413, 0.17374517, 0.17760618, 0.17760618,\n",
       "       0.25482625, 0.25289575, 0.24131274, 0.26833977, 0.30888031,\n",
       "       0.32432432, 0.25675676, 0.20656371, 0.14671815, 0.18725869,\n",
       "       0.19305019, 0.16216216, 0.25289575, 0.23745174, 0.25096525,\n",
       "       0.30888031, 0.38223938, 0.36486486, 0.2992278 , 0.24131274,\n",
       "       0.19111969, 0.24131274, 0.26640927, 0.24903475, 0.31467181,\n",
       "       0.31853282, 0.32046332, 0.40733591, 0.5019305 , 0.46911197,\n",
       "       0.4015444 , 0.32818533, 0.25675676, 0.33590734, 0.34749035,\n",
       "       0.33397683, 0.41119691, 0.4034749 , 0.41312741, 0.52123552,\n",
       "       0.5965251 , 0.58108108, 0.48455598, 0.38996139, 0.32239382,\n",
       "       0.38996139, 0.40733591, 0.38030888, 0.48648649, 0.47104247,\n",
       "       0.48455598, 0.61389961, 0.6969112 , 0.7007722 , 0.57915058,\n",
       "       0.46911197, 0.38803089, 0.44787645, 0.45559846, 0.41312741,\n",
       "       0.4980695 , 0.47104247, 0.5       , 0.63899614, 0.74710425,\n",
       "       0.77413127, 0.57915058, 0.49227799, 0.3976834 , 0.44980695,\n",
       "       0.49420849, 0.45945946, 0.58301158, 0.56370656, 0.61003861,\n",
       "       0.71042471, 0.85714286, 0.87837838, 0.69305019, 0.58494208,\n",
       "       0.4980695 , 0.58108108, 0.6042471 , 0.55405405, 0.60810811,\n",
       "       0.68918919, 0.71042471, 0.83204633, 1.        , 0.96911197,\n",
       "       0.77992278, 0.68918919, 0.55212355, 0.63320463])"
      ]
     },
     "execution_count": 5,
     "metadata": {},
     "output_type": "execute_result"
    }
   ],
   "source": [
    "time_series_scaled"
   ]
  },
  {
   "cell_type": "code",
   "execution_count": 6,
   "metadata": {},
   "outputs": [
    {
     "data": {
      "image/png": "[encoded data removed]",
      "text/plain": [
       "<matplotlib.figure.Figure at 0x22ec10e3588>"
      ]
     },
     "metadata": {},
     "output_type": "display_data"
    }
   ],
   "source": [
    "plt.plot(time_series_scaled)\n",
    "plt.show()"
   ]
  },
  {
   "cell_type": "markdown",
   "metadata": {},
   "source": [
    "## 5. Split data into training and test data\n",
    "\n",
    "There is only one time series. So what is the training and what is the test data?\n",
    "\n",
    "The solution is: we can use some part of the time series for the training data and some part for the test data."
   ]
  },
  {
   "cell_type": "code",
   "execution_count": 7,
   "metadata": {},
   "outputs": [
    {
     "name": "stdout",
     "output_type": "stream",
     "text": [
      "train_series has length 96\n",
      "test_series has length 48\n"
     ]
    }
   ],
   "source": [
    "ratio_of_data_to_use_for_training = 0.67\n",
    "len_dataset = len(time_series_scaled)\n",
    "train_size = int(len_dataset * ratio_of_data_to_use_for_training)\n",
    "test_size = len_dataset - train_size\n",
    "\n",
    "train_series = time_series_scaled[0:train_size]\n",
    "test_series  = time_series_scaled[train_size:]\n",
    "\n",
    "print(\"train_series has length\", len(train_series))\n",
    "print(\"test_series has length\", len(test_series))"
   ]
  },
  {
   "cell_type": "code",
   "execution_count": 8,
   "metadata": {},
   "outputs": [
    {
     "data": {
      "image/png": "[encoded data removed]",
      "text/plain": [
       "<matplotlib.figure.Figure at 0x22ec54cc5c0>"
      ]
     },
     "metadata": {},
     "output_type": "display_data"
    }
   ],
   "source": [
    "plt.plot(train_series, 'b')\n",
    "plt.plot(test_series, 'r')\n",
    "plt.show()"
   ]
  },
  {
   "cell_type": "markdown",
   "metadata": {},
   "source": [
    "## 6. Prepare sequence-to-sequence training/test data\n",
    "\n",
    "We have split the time series into a training and a test time series.\n",
    "\n",
    "However, for training the LSTM we need to prepare the training data for example as following if we want to predict for a sequence of 3 values the next time series value:\n",
    "\n",
    "    [value_t-2, value_t-1, value_t  ] --> value_t+1\n",
    "    [value_t-1, value_t  , value_t+1] --> value_t+2\n",
    "    [value_t  , value_t+1, value_t+2] --> value_t+3\n",
    "    ...\n",
    "    etc.\n",
    "\n",
    "So in general for a sequence-to-sequence prediction task we need to prepare the input for the LSTM to have the form:\n",
    "\n",
    "n = nr_inputs, m=nr_outputs\n",
    "\n",
    "    [value_0, value_1, ..., value_n-1] -> [value_n+0, ..., value_n+m-1]\n",
    "    [value_1, value_2, ..., value_n  ] -> [value_n+1, ..., value_n+1+m-1]\n",
    "    etc.\n"
   ]
  },
  {
   "cell_type": "code",
   "execution_count": 9,
   "metadata": {
    "collapsed": true
   },
   "outputs": [],
   "source": [
    "import numpy as np\n",
    "\n",
    "def to_sequence_data(dataset, n=1, m=1):\n",
    "    dataX, dataY = [], []\n",
    "    for i in range( len(dataset)-n-1 ):\n",
    "        a = dataset[ i : i+n ]\n",
    "        dataX.append( a )\n",
    "        dataY.append( dataset[ i+n : i+n+m ] )\n",
    "    return np.array(dataX), np.array(dataY)"
   ]
  },
  {
   "cell_type": "code",
   "execution_count": 10,
   "metadata": {},
   "outputs": [],
   "source": [
    "nr_inp_time_steps=3\n",
    "nr_out_time_steps=1\n",
    "trainX, trainY = to_sequence_data(train_series,\n",
    "                                  nr_inp_time_steps,\n",
    "                                  nr_out_time_steps)\n",
    "testX, testY = to_sequence_data(test_series,\n",
    "                                nr_inp_time_steps,\n",
    "                                nr_out_time_steps)"
   ]
  },
  {
   "cell_type": "code",
   "execution_count": 11,
   "metadata": {},
   "outputs": [
    {
     "name": "stdout",
     "output_type": "stream",
     "text": [
      "[0.01544402 0.02702703 0.05405405] --> [0.04826255]\n",
      "[0.02702703 0.05405405 0.04826255] --> [0.03281853]\n",
      "[0.05405405 0.04826255 0.03281853] --> [0.05984556]\n"
     ]
    }
   ],
   "source": [
    "print(trainX[0], \"-->\", trainY[0])\n",
    "print(trainX[1], \"-->\", trainY[1])\n",
    "print(trainX[2], \"-->\", trainY[2])"
   ]
  },
  {
   "cell_type": "markdown",
   "metadata": {},
   "source": [
    "## 7. Prepare input to be fed into LSTM\n",
    "\n",
    "Preparing the input to a LSTM can be a little bit tricky!\n",
    "\n",
    "However, Jason Brownlee has a blog which provides a\n",
    "gentle introduction into the topic:\n",
    "\n",
    "\"The input to every LSTM layer must be three-dimensional.\n",
    "\n",
    "The three dimensions of this input are:\n",
    "\n",
    "    - Samples. One sequence is one sample. A batch is comprised of one or more samples.\n",
    "    - Time Steps. One time step is one point of observation in the sample.\n",
    "    - Features. One feature is one observation at a time step.\n",
    "    \n",
    "When defining the input layer of your LSTM network,\n",
    "the network assumes you have 1 or more samples and\n",
    "requires that you specify the number of time steps and\n",
    "the number of features. You can do this by specifying\n",
    "a tuple to the “input_shape” argument.\n",
    "\n",
    "For example, the model below defines an input layer\n",
    "that expects 1 or more samples, 50 time steps, and 2 features.\n",
    "\n",
    "    model = Sequential()\n",
    "    model.add(LSTM(32, input_shape=(50, 2)))\n",
    "    model.add(Dense(1))\"\n",
    "\n",
    "Quotation source:\n",
    "https://machinelearningmastery.com/reshape-input-data-long-short-term-memory-networks-keras/"
   ]
  },
  {
   "cell_type": "markdown",
   "metadata": {},
   "source": [
    "Currently trainX has the following shape:"
   ]
  },
  {
   "cell_type": "code",
   "execution_count": 12,
   "metadata": {},
   "outputs": [
    {
     "name": "stdout",
     "output_type": "stream",
     "text": [
      "trainX shape is (92, 3)\n",
      "trainY shape is (92, 1)\n",
      "testX.shape is (44, 3)\n",
      "testY shape is (44, 1)\n"
     ]
    }
   ],
   "source": [
    "print(\"trainX shape is\", trainX.shape)\n",
    "print(\"trainY shape is\", trainY.shape)\n",
    "\n",
    "print(\"testX.shape is\", testX.shape)\n",
    "print(\"testY shape is\", testY.shape)"
   ]
  },
  {
   "cell_type": "code",
   "execution_count": 13,
   "metadata": {},
   "outputs": [],
   "source": [
    "# reshape input to be [samples, time steps, features]\n",
    "#\n",
    "# this is the shape of the input that is needed for\n",
    "# the Keras LSTM as input!\n",
    "\n",
    "trainX = np.reshape(trainX,(trainX.shape[0], nr_inp_time_steps, 1))\n",
    "testX  = np.reshape(testX, (testX.shape[0], nr_inp_time_steps, 1))"
   ]
  },
  {
   "cell_type": "code",
   "execution_count": 14,
   "metadata": {},
   "outputs": [
    {
     "name": "stdout",
     "output_type": "stream",
     "text": [
      "trainX shape is (92, 3, 1)\n",
      "trainY shape is (92, 1)\n",
      "testX.shape is (44, 3, 1)\n",
      "testY shape is (44, 1)\n"
     ]
    }
   ],
   "source": [
    "print(\"trainX shape is\", trainX.shape)\n",
    "print(\"trainY shape is\", trainY.shape)\n",
    "\n",
    "print(\"testX.shape is\", testX.shape)\n",
    "print(\"testY shape is\", testY.shape)"
   ]
  },
  {
   "cell_type": "markdown",
   "metadata": {},
   "source": [
    "## 8. Build and train a first LSTM model"
   ]
  },
  {
   "cell_type": "code",
   "execution_count": 42,
   "metadata": {},
   "outputs": [
    {
     "name": "stdout",
     "output_type": "stream",
     "text": [
      "_________________________________________________________________\n",
      "Layer (type)                 Output Shape              Param #   \n",
      "=================================================================\n",
      "lstm_5 (LSTM)                (None, 4)                 96        \n",
      "_________________________________________________________________\n",
      "dense_5 (Dense)              (None, 1)                 5         \n",
      "=================================================================\n",
      "Total params: 101\n",
      "Trainable params: 101\n",
      "Non-trainable params: 0\n",
      "_________________________________________________________________\n",
      "Epoch 1/100\n",
      " - 1s - loss: 0.0764\n",
      "Epoch 2/100\n",
      " - 0s - loss: 0.0648\n",
      "Epoch 3/100\n",
      " - 0s - loss: 0.0539\n",
      "Epoch 4/100\n",
      " - 0s - loss: 0.0452\n",
      "Epoch 5/100\n",
      " - 0s - loss: 0.0377\n",
      "Epoch 6/100\n",
      " - 0s - loss: 0.0314\n",
      "Epoch 7/100\n",
      " - 0s - loss: 0.0265\n",
      "Epoch 8/100\n",
      " - 0s - loss: 0.0227\n",
      "Epoch 9/100\n",
      " - 0s - loss: 0.0201\n",
      "Epoch 10/100\n",
      " - 0s - loss: 0.0184\n",
      "Epoch 11/100\n",
      " - 0s - loss: 0.0175\n",
      "Epoch 12/100\n",
      " - 0s - loss: 0.0167\n",
      "Epoch 13/100\n",
      " - 0s - loss: 0.0163\n",
      "Epoch 14/100\n",
      " - 0s - loss: 0.0159\n",
      "Epoch 15/100\n",
      " - 0s - loss: 0.0155\n",
      "Epoch 16/100\n",
      " - 0s - loss: 0.0152\n",
      "Epoch 17/100\n",
      " - 0s - loss: 0.0150\n",
      "Epoch 18/100\n",
      " - 0s - loss: 0.0144\n",
      "Epoch 19/100\n",
      " - 0s - loss: 0.0141\n",
      "Epoch 20/100\n",
      " - 0s - loss: 0.0138\n",
      "Epoch 21/100\n",
      " - 0s - loss: 0.0133\n",
      "Epoch 22/100\n",
      " - 0s - loss: 0.0130\n",
      "Epoch 23/100\n",
      " - 0s - loss: 0.0126\n",
      "Epoch 24/100\n",
      " - 0s - loss: 0.0122\n",
      "Epoch 25/100\n",
      " - 0s - loss: 0.0119\n",
      "Epoch 26/100\n",
      " - 0s - loss: 0.0114\n",
      "Epoch 27/100\n",
      " - 0s - loss: 0.0111\n",
      "Epoch 28/100\n",
      " - 0s - loss: 0.0107\n",
      "Epoch 29/100\n",
      " - 0s - loss: 0.0103\n",
      "Epoch 30/100\n",
      " - 0s - loss: 0.0100\n",
      "Epoch 31/100\n",
      " - 0s - loss: 0.0096\n",
      "Epoch 32/100\n",
      " - 0s - loss: 0.0093\n",
      "Epoch 33/100\n",
      " - 0s - loss: 0.0089\n",
      "Epoch 34/100\n",
      " - 0s - loss: 0.0086\n",
      "Epoch 35/100\n",
      " - 0s - loss: 0.0082\n",
      "Epoch 36/100\n",
      " - 0s - loss: 0.0079\n",
      "Epoch 37/100\n",
      " - 0s - loss: 0.0076\n",
      "Epoch 38/100\n",
      " - 0s - loss: 0.0073\n",
      "Epoch 39/100\n",
      " - 0s - loss: 0.0070\n",
      "Epoch 40/100\n",
      " - 0s - loss: 0.0067\n",
      "Epoch 41/100\n",
      " - 0s - loss: 0.0064\n",
      "Epoch 42/100\n",
      " - 0s - loss: 0.0062\n",
      "Epoch 43/100\n",
      " - 0s - loss: 0.0060\n",
      "Epoch 44/100\n",
      " - 0s - loss: 0.0058\n",
      "Epoch 45/100\n",
      " - 0s - loss: 0.0056\n",
      "Epoch 46/100\n",
      " - 0s - loss: 0.0054\n",
      "Epoch 47/100\n",
      " - 0s - loss: 0.0052\n",
      "Epoch 48/100\n",
      " - 0s - loss: 0.0050\n",
      "Epoch 49/100\n",
      " - 0s - loss: 0.0049\n",
      "Epoch 50/100\n",
      " - 0s - loss: 0.0048\n",
      "Epoch 51/100\n",
      " - 0s - loss: 0.0047\n",
      "Epoch 52/100\n",
      " - 0s - loss: 0.0046\n",
      "Epoch 53/100\n",
      " - 0s - loss: 0.0046\n",
      "Epoch 54/100\n",
      " - 0s - loss: 0.0044\n",
      "Epoch 55/100\n",
      " - 0s - loss: 0.0044\n",
      "Epoch 56/100\n",
      " - 0s - loss: 0.0043\n",
      "Epoch 57/100\n",
      " - 0s - loss: 0.0043\n",
      "Epoch 58/100\n",
      " - 0s - loss: 0.0042\n",
      "Epoch 59/100\n",
      " - 0s - loss: 0.0042\n",
      "Epoch 60/100\n",
      " - 0s - loss: 0.0042\n",
      "Epoch 61/100\n",
      " - 0s - loss: 0.0042\n",
      "Epoch 62/100\n",
      " - 0s - loss: 0.0041\n",
      "Epoch 63/100\n",
      " - 0s - loss: 0.0041\n",
      "Epoch 64/100\n",
      " - 0s - loss: 0.0041\n",
      "Epoch 65/100\n",
      " - 0s - loss: 0.0041\n",
      "Epoch 66/100\n",
      " - 0s - loss: 0.0041\n",
      "Epoch 67/100\n",
      " - 0s - loss: 0.0041\n",
      "Epoch 68/100\n",
      " - 0s - loss: 0.0041\n",
      "Epoch 69/100\n",
      " - 0s - loss: 0.0041\n",
      "Epoch 70/100\n",
      " - 0s - loss: 0.0041\n",
      "Epoch 71/100\n",
      " - 0s - loss: 0.0041\n",
      "Epoch 72/100\n",
      " - 0s - loss: 0.0040\n",
      "Epoch 73/100\n",
      " - 0s - loss: 0.0040\n",
      "Epoch 74/100\n",
      " - 0s - loss: 0.0040\n",
      "Epoch 75/100\n",
      " - 0s - loss: 0.0040\n",
      "Epoch 76/100\n",
      " - 0s - loss: 0.0040\n",
      "Epoch 77/100\n",
      " - 0s - loss: 0.0040\n",
      "Epoch 78/100\n",
      " - 0s - loss: 0.0040\n",
      "Epoch 79/100\n",
      " - 0s - loss: 0.0041\n",
      "Epoch 80/100\n",
      " - 0s - loss: 0.0039\n",
      "Epoch 81/100\n",
      " - 0s - loss: 0.0040\n",
      "Epoch 82/100\n",
      " - 0s - loss: 0.0039\n",
      "Epoch 83/100\n",
      " - 0s - loss: 0.0039\n",
      "Epoch 84/100\n",
      " - 0s - loss: 0.0039\n",
      "Epoch 85/100\n",
      " - 0s - loss: 0.0039\n",
      "Epoch 86/100\n",
      " - 0s - loss: 0.0040\n",
      "Epoch 87/100\n",
      " - 0s - loss: 0.0039\n",
      "Epoch 88/100\n",
      " - 0s - loss: 0.0039\n",
      "Epoch 89/100\n",
      " - 0s - loss: 0.0039\n",
      "Epoch 90/100\n",
      " - 0s - loss: 0.0039\n",
      "Epoch 91/100\n",
      " - 0s - loss: 0.0039\n",
      "Epoch 92/100\n",
      " - 0s - loss: 0.0039\n",
      "Epoch 93/100\n",
      " - 0s - loss: 0.0039\n",
      "Epoch 94/100\n",
      " - 0s - loss: 0.0039\n",
      "Epoch 95/100\n",
      " - 0s - loss: 0.0039\n",
      "Epoch 96/100\n",
      " - 0s - loss: 0.0039\n",
      "Epoch 97/100\n",
      " - 0s - loss: 0.0039\n",
      "Epoch 98/100\n",
      " - 0s - loss: 0.0038\n",
      "Epoch 99/100\n",
      " - 0s - loss: 0.0039\n",
      "Epoch 100/100\n",
      " - 0s - loss: 0.0038\n"
     ]
    },
    {
     "data": {
      "text/plain": [
       "<keras.callbacks.History at 0x22ed1680a58>"
      ]
     },
     "execution_count": 42,
     "metadata": {},
     "output_type": "execute_result"
    }
   ],
   "source": [
    "from keras.models import Sequential\n",
    "from keras.layers import Dense\n",
    "from keras.layers import LSTM\n",
    "\n",
    "model = Sequential()\n",
    "model.add(LSTM(4, input_shape=(nr_inp_time_steps, 1)))\n",
    "model.add(Dense(1))\n",
    "model.compile(loss='mean_squared_error', optimizer='adam')\n",
    "model.summary()\n",
    "model.fit(trainX, trainY, epochs=100, batch_size=8, verbose=2)\n"
   ]
  },
  {
   "cell_type": "markdown",
   "metadata": {},
   "source": [
    "## 9. Use the trained LSTM to predict values"
   ]
  },
  {
   "cell_type": "code",
   "execution_count": 43,
   "metadata": {
    "collapsed": true
   },
   "outputs": [],
   "source": [
    "# make predictions\n",
    "trainPredict = model.predict(trainX)\n",
    "testPredict = model.predict(testX)"
   ]
  },
  {
   "cell_type": "code",
   "execution_count": 44,
   "metadata": {},
   "outputs": [
    {
     "name": "stdout",
     "output_type": "stream",
     "text": [
      "trainPredict has shape (92, 1)\n",
      "testPredict has shape (44, 1)\n"
     ]
    }
   ],
   "source": [
    "print(\"trainPredict has shape\", trainPredict.shape)\n",
    "print(\"testPredict has shape\", testPredict.shape)"
   ]
  },
  {
   "cell_type": "code",
   "execution_count": 45,
   "metadata": {},
   "outputs": [
    {
     "name": "stdout",
     "output_type": "stream",
     "text": [
      "[[0.07367494]\n",
      " [0.08114587]\n",
      " [0.08144643]\n",
      " [0.08373951]\n",
      " [0.09386668]]\n",
      "[[0.4219566 ]\n",
      " [0.4429603 ]\n",
      " [0.47557065]\n",
      " [0.5264982 ]\n",
      " [0.6083228 ]]\n"
     ]
    }
   ],
   "source": [
    "# show the first five predicted passenger numbers\n",
    "# on the train and test data\n",
    "print(trainPredict[0:5,])\n",
    "print(testPredict[0:5,])"
   ]
  },
  {
   "cell_type": "code",
   "execution_count": 46,
   "metadata": {},
   "outputs": [
    {
     "name": "stdout",
     "output_type": "stream",
     "text": [
      "[[142.16362]\n",
      " [146.03357]\n",
      " [146.18925]\n",
      " [147.37708]\n",
      " [152.62294]]\n",
      "[[129.]\n",
      " [121.]\n",
      " [135.]\n",
      " [148.]\n",
      " [148.]]\n",
      "[[322.57352]\n",
      " [333.45343]\n",
      " [350.34558]\n",
      " [376.72607]\n",
      " [419.11124]]\n",
      "[[348.]\n",
      " [355.]\n",
      " [422.]\n",
      " [465.]\n",
      " [467.]]\n"
     ]
    }
   ],
   "source": [
    "# rescale predictions and ground truth to original scale\n",
    "trainPredict_origscale = scaler.inverse_transform(trainPredict)\n",
    "trainY_origscale = scaler.inverse_transform(trainY)\n",
    "testPredict_origscale = scaler.inverse_transform(testPredict)\n",
    "testY_origscale = scaler.inverse_transform(testY)\n",
    "\n",
    "print(trainPredict_origscale[0:5,])\n",
    "print(trainY_origscale[0:5,])\n",
    "\n",
    "print(testPredict_origscale[0:5,])\n",
    "print(testY_origscale[0:5,])"
   ]
  },
  {
   "cell_type": "code",
   "execution_count": 47,
   "metadata": {},
   "outputs": [
    {
     "name": "stdout",
     "output_type": "stream",
     "text": [
      "[-13.16362    -17.03356934 -17.18925476 -18.3770752  -23.62294006\n",
      " -30.00621033 -29.56925964 -21.87036133 -11.11695862  -7.6245575\n",
      "  -6.98054504 -12.13136292 -18.17262268 -22.62672424 -21.71733093\n",
      " -24.52894592 -34.24264526 -45.25160217 -46.67539978 -36.28941345]\n",
      "Avg train error: 88.99\n",
      "[  25.42648315   14.54656982   -2.34558105  -28.72607422  -71.11123657\n",
      " -107.55273438  -95.65103149  -52.07098389    2.88729858   22.07913208\n",
      "   23.02310181   20.77737427    9.85565186    7.37277222   -7.33551025\n",
      "  -36.6468811   -88.66772461 -135.87734985 -115.98678589  -68.53973389]\n",
      "Avg test error: 74.21\n"
     ]
    }
   ],
   "source": [
    "# calculate prediction error on train and test data\n",
    "a1 = trainY_origscale[0]\n",
    "a2 = trainPredict_origscale[:,0]\n",
    "diff_train = a1-a2\n",
    "print(diff_train[0:20])\n",
    "train_error = np.average(np.abs(diff_train))\n",
    "print(\"Avg train error: %.2f\" % train_error)\n",
    "\n",
    "a3 = testY_origscale[0]\n",
    "a4 = testPredict_origscale[:,0]\n",
    "diff_test = a3-a4\n",
    "print(diff_test[0:20])\n",
    "test_error = np.average(np.abs(diff_test))\n",
    "print(\"Avg test error: %.2f\" % test_error)\n"
   ]
  },
  {
   "cell_type": "markdown",
   "metadata": {},
   "source": [
    "## 10. Plot the prediction results"
   ]
  },
  {
   "cell_type": "code",
   "execution_count": 33,
   "metadata": {},
   "outputs": [
    {
     "data": {
      "image/png": "[encoded data removed]",
      "text/plain": [
       "<matplotlib.figure.Figure at 0x22ec97af9e8>"
      ]
     },
     "metadata": {},
     "output_type": "display_data"
    }
   ],
   "source": [
    "# Plot prediction results on train data\n",
    "plt.plot(time_series_raw, \"blue\")\n",
    "\n",
    "graph_pred_train = np.zeros(nr_inp_time_steps+len(a2))\n",
    "graph_pred_train[nr_inp_time_steps:] = a2\n",
    "plt.plot(graph_pred_train, \"red\")\n",
    "\n",
    "plt.show()"
   ]
  },
  {
   "cell_type": "code",
   "execution_count": 36,
   "metadata": {},
   "outputs": [
    {
     "data": {
      "image/png": "[encoded data removed]",
      "text/plain": [
       "<matplotlib.figure.Figure at 0x22eca9a2780>"
      ]
     },
     "metadata": {},
     "output_type": "display_data"
    }
   ],
   "source": [
    "# Plot prediction results on test data\n",
    "test_series_origscale = time_series_raw[train_size:]\n",
    "plt.plot(test_series_origscale, \"blue\")\n",
    "\n",
    "graph_pred_test = np.zeros(nr_inp_time_steps+len(a4))\n",
    "graph_pred_test[nr_inp_time_steps:] = a4\n",
    "plt.plot(graph_pred_test, \"red\")\n",
    "\n",
    "plt.show()"
   ]
  },
  {
   "cell_type": "markdown",
   "metadata": {},
   "source": [
    "## 11. Putting all code for experiments together\n",
    "\n",
    "Now that we have seen how to load in the data, split it into training and testing data, prepare it as input for a Keras LSTM, build a LSTM model, how to train it and use it for time series prediction, we put all the code together in one code snippet in order to be able to conduct different experiments."
   ]
  },
  {
   "cell_type": "markdown",
   "metadata": {},
   "source": [
    "Now let us conduct a first experiment where we train the LSTM model 200 epochs instead of 100:"
   ]
  },
  {
   "cell_type": "code",
   "execution_count": 72,
   "metadata": {},
   "outputs": [],
   "source": [
    "def do_lstm_experiment(exp_nr,\n",
    "                       nr_inp_time_steps,\n",
    "                       nr_out_time_steps,\n",
    "                       nr_lstm_cells,\n",
    "                       nr_train_epochs,\n",
    "                       batch_size_to_use,\n",
    "                       show_plots=False):\n",
    "    \n",
    "    # Fix random seed for making\n",
    "    # sure, we always start with the same weights\n",
    "    np.random.seed(123)\n",
    "    \n",
    "    print(\"\\n\", exp_nr, \". Experiment with:\", sep='')\n",
    "    print(\"\\t nr_inp_time_steps=\", nr_inp_time_steps)\n",
    "    print(\"\\t nr_out_time_steps=\", nr_out_time_steps)\n",
    "    print(\"\\t nr_lstm_cells=\", nr_lstm_cells)\n",
    "    print(\"\\t nr_train_epochs=\", nr_train_epochs)\n",
    "    print(\"\\t batch_size_to_use=\", batch_size_to_use)\n",
    "        \n",
    "\n",
    "    # 1.\n",
    "    # We need to re-prepare the train and test data\n",
    "    # depending on the number of input time steps\n",
    "    # used and depending on how many time steps shall\n",
    "    # be predicted\n",
    "    trainX, trainY = to_sequence_data(train_series,\n",
    "                                      nr_inp_time_steps,\n",
    "                                      nr_out_time_steps)\n",
    "    testX, testY = to_sequence_data(test_series,\n",
    "                                    nr_inp_time_steps,\n",
    "                                    nr_out_time_steps)\n",
    "\n",
    "\n",
    "    # 2.\n",
    "    # Reshape input to be [samples, time steps, features]\n",
    "    # this is the shape of the input that is needed for\n",
    "    # the Keras LSTM as input!\n",
    "    trainX = np.reshape(trainX,(trainX.shape[0], nr_inp_time_steps, 1))\n",
    "    testX  = np.reshape(testX, (testX.shape[0], nr_inp_time_steps, 1))\n",
    "\n",
    "\n",
    "    # 3.\n",
    "    # Build a Keras LSTM model and train it\n",
    "    model = Sequential()\n",
    "    model.add(LSTM(nr_lstm_cells, input_shape=(nr_inp_time_steps, 1)))\n",
    "    model.add(Dense(1))\n",
    "    model.compile(loss='mean_squared_error', optimizer='adam')    \n",
    "    model.fit(trainX,\n",
    "              trainY,\n",
    "              epochs=nr_train_epochs,\n",
    "              batch_size=batch_size_to_use,\n",
    "              verbose=0)\n",
    "\n",
    "\n",
    "    # 4.\n",
    "    # Make predictions\n",
    "    trainPredict = model.predict(trainX)\n",
    "    testPredict = model.predict(testX)\n",
    "\n",
    "\n",
    "    # 5.\n",
    "    # Rescale predictions and ground truth to original scale\n",
    "    trainPredict_origscale = scaler.inverse_transform(trainPredict)\n",
    "    trainY_origscale = scaler.inverse_transform(trainY)\n",
    "    testPredict_origscale = scaler.inverse_transform(testPredict)\n",
    "    testY_origscale = scaler.inverse_transform(testY)\n",
    "\n",
    "\n",
    "    # 6.\n",
    "    # Calculate prediction error on train data\n",
    "    a1 = trainY_origscale[0]\n",
    "    a2 = trainPredict_origscale[:,0]\n",
    "    diff_train = a1-a2    \n",
    "    train_error = np.average(np.abs(diff_train))\n",
    "    \n",
    "    # Calculate prediction error on test data\n",
    "    a3 = testY_origscale[0]\n",
    "    a4 = testPredict_origscale[:,0]\n",
    "    diff_test = a3-a4    \n",
    "    test_error = np.average(np.abs(diff_test))\n",
    "    \n",
    "\n",
    "    # 7.\n",
    "    # If user wants, plot the predictions\n",
    "    # compared to the ground truth data\n",
    "    if show_plots:\n",
    "        # Plot prediction results on train data\n",
    "        plt.plot(time_series_raw, \"blue\")\n",
    "        graph_pred_train = np.zeros(nr_inp_time_steps+len(a2))\n",
    "        graph_pred_train[nr_inp_time_steps:] = a2\n",
    "        plt.plot(graph_pred_train, \"red\")\n",
    "        plt.show()\n",
    "        # Plot prediction results on test data\n",
    "        test_series_origscale = time_series_raw[train_size:]\n",
    "        plt.plot(test_series_origscale, \"blue\")\n",
    "        graph_pred_test = np.zeros(nr_inp_time_steps+len(a4))\n",
    "        graph_pred_test[nr_inp_time_steps:] = a4\n",
    "        plt.plot(graph_pred_test, \"red\")\n",
    "        plt.show()\n",
    "        \n",
    "    # 8.\n",
    "    # Show experiment results\n",
    "    print(\"\\t Avg train error: %.2f\" % train_error)\n",
    "    print(\"\\t Avg test error: %.2f\" % test_error)"
   ]
  },
  {
   "cell_type": "markdown",
   "metadata": {},
   "source": [
    "## 12. Experiments"
   ]
  },
  {
   "cell_type": "code",
   "execution_count": 73,
   "metadata": {},
   "outputs": [
    {
     "name": "stdout",
     "output_type": "stream",
     "text": [
      "\n",
      "1. Experiment with:\n",
      "\t nr_inp_time_steps= 3\n",
      "\t nr_out_time_steps= 1\n",
      "\t nr_lstm_cells= 4\n",
      "\t nr_train_epochs= 100\n",
      "\t batch_size_to_use= 8\n",
      "\t Avg train error: 88.86\n",
      "\t Avg test error: 64.38\n",
      "\n",
      "2. Experiment with:\n",
      "\t nr_inp_time_steps= 3\n",
      "\t nr_out_time_steps= 1\n",
      "\t nr_lstm_cells= 8\n",
      "\t nr_train_epochs= 100\n",
      "\t batch_size_to_use= 8\n",
      "\t Avg train error: 86.81\n",
      "\t Avg test error: 58.88\n",
      "\n",
      "3. Experiment with:\n",
      "\t nr_inp_time_steps= 3\n",
      "\t nr_out_time_steps= 1\n",
      "\t nr_lstm_cells= 8\n",
      "\t nr_train_epochs= 300\n",
      "\t batch_size_to_use= 8\n",
      "\t Avg train error: 85.35\n",
      "\t Avg test error: 54.69\n",
      "\n",
      "4. Experiment with:\n",
      "\t nr_inp_time_steps= 3\n",
      "\t nr_out_time_steps= 1\n",
      "\t nr_lstm_cells= 8\n",
      "\t nr_train_epochs= 600\n",
      "\t batch_size_to_use= 8\n",
      "\t Avg train error: 87.45\n",
      "\t Avg test error: 61.31\n",
      "\n",
      "5. Experiment with:\n",
      "\t nr_inp_time_steps= 3\n",
      "\t nr_out_time_steps= 1\n",
      "\t nr_lstm_cells= 4\n",
      "\t nr_train_epochs= 100\n",
      "\t batch_size_to_use= 1\n",
      "\t Avg train error: 84.93\n",
      "\t Avg test error: 56.45\n"
     ]
    }
   ],
   "source": [
    "# The same experiments as above again\n",
    "do_lstm_experiment(1, 3,1,4,100,8)\n",
    "\n",
    "# More LSTM cells\n",
    "do_lstm_experiment(2, 3,1,8,100,8)\n",
    "\n",
    "# More LSTM cells and more training time\n",
    "do_lstm_experiment(3, 3,1,8,300,8)\n",
    "\n",
    "# More LSTM cells and even more training time\n",
    "do_lstm_experiment(4, 3,1,8,600,8)\n",
    "\n",
    "# Smaller batch size\n",
    "do_lstm_experiment(5, 3,1,4,100,1)"
   ]
  },
  {
   "cell_type": "code",
   "execution_count": null,
   "metadata": {
    "collapsed": true
   },
   "outputs": [],
   "source": []
  },
  {
   "cell_type": "code",
   "execution_count": null,
   "metadata": {
    "collapsed": true
   },
   "outputs": [],
   "source": []
  }
 ],
 "metadata": {
  "kernelspec": {
   "display_name": "Python 3",
   "language": "python",
   "name": "python3"
  },
  "language_info": {
   "codemirror_mode": {
    "name": "ipython",
    "version": 3
   },
   "file_extension": ".py",
   "mimetype": "text/x-python",
   "name": "python",
   "nbconvert_exporter": "python",
   "pygments_lexer": "ipython3",
   "version": "3.5.4"
  }
 },
 "nbformat": 4,
 "nbformat_minor": 2
}
