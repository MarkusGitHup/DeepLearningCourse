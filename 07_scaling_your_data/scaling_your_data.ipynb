{
 "cells": [
  {
   "cell_type": "markdown",
   "metadata": {},
   "source": [
    "## Scaling of data using scikit-learn\n",
    "\n",
    "[scikit-learn](https://scikit-learn.org/) is a very helpful Open-source, commercial usable machine learning library. It comes with a so called [`MinMaxScaler`](https://scikit-learn.org/stable/modules/preprocessing.html#scaling-features-to-a-range) that allows to scale features to a certain range.\n",
    "\n",
    "by Prof. Dr.-Ing. Jürgen Brauer, www.juergenbrauer.org"
   ]
  },
  {
   "cell_type": "markdown",
   "metadata": {},
   "source": [
    "## 1. Prepare some example data to scale"
   ]
  },
  {
   "cell_type": "code",
   "execution_count": 3,
   "metadata": {},
   "outputs": [
    {
     "name": "stdout",
     "output_type": "stream",
     "text": [
      "[[10. 20.]\n",
      " [15. 40.]\n",
      " [20. 60.]]\n",
      "Type of data is <class 'numpy.ndarray'>\n"
     ]
    }
   ],
   "source": [
    "import numpy as np\n",
    "data = np.array([ [10.0, 20.0],\n",
    "                  [15.0, 40.0],\n",
    "                  [20.0, 60.0]])\n",
    "print(data)\n",
    "print(\"Type of data is\", type(data))"
   ]
  },
  {
   "cell_type": "markdown",
   "metadata": {},
   "source": [
    "## 2. Scale the data to a certain range"
   ]
  },
  {
   "cell_type": "code",
   "execution_count": 4,
   "metadata": {},
   "outputs": [
    {
     "name": "stdout",
     "output_type": "stream",
     "text": [
      "[[0.  0. ]\n",
      " [0.5 0.5]\n",
      " [1.  1. ]]\n"
     ]
    }
   ],
   "source": [
    "from sklearn.preprocessing import MinMaxScaler\n",
    "\n",
    "# 2. create a MinMaxScaler with feature range [0,1]\n",
    "scaler = MinMaxScaler(feature_range=(0, 1))\n",
    "transformed_data = scaler.fit_transform(data)\n",
    "print(transformed_data)"
   ]
  },
  {
   "cell_type": "markdown",
   "metadata": {},
   "source": [
    "## 3. Now use the scaler to transform new data"
   ]
  },
  {
   "cell_type": "code",
   "execution_count": 6,
   "metadata": {},
   "outputs": [
    {
     "name": "stdout",
     "output_type": "stream",
     "text": [
      "[[0. 0.]\n",
      " [1. 1.]\n",
      " [2. 2.]]\n"
     ]
    }
   ],
   "source": [
    "data2 = np.array( [[10.0, 20.0],\n",
    "                   [20.0, 60.0],\n",
    "                   [30.0, 100.0]])\n",
    "transformed_data2 = scaler.transform(data2)\n",
    "print(transformed_data2)"
   ]
  },
  {
   "cell_type": "markdown",
   "metadata": {},
   "source": [
    "## 4. Use the scaler to undo a transformation"
   ]
  },
  {
   "cell_type": "code",
   "execution_count": 7,
   "metadata": {},
   "outputs": [
    {
     "name": "stdout",
     "output_type": "stream",
     "text": [
      "[[0.  0. ]\n",
      " [0.5 0.5]\n",
      " [1.  1. ]]\n",
      "[[10. 20.]\n",
      " [15. 40.]\n",
      " [20. 60.]]\n"
     ]
    }
   ],
   "source": [
    "print(transformed_data)\n",
    "original_data = scaler.inverse_transform(transformed_data)\n",
    "print(original_data)"
   ]
  }
 ],
 "metadata": {
  "kernelspec": {
   "display_name": "Python 3",
   "language": "python",
   "name": "python3"
  },
  "language_info": {
   "codemirror_mode": {
    "name": "ipython",
    "version": 3
   },
   "file_extension": ".py",
   "mimetype": "text/x-python",
   "name": "python",
   "nbconvert_exporter": "python",
   "pygments_lexer": "ipython3",
   "version": "3.5.4"
  }
 },
 "nbformat": 4,
 "nbformat_minor": 2
}
