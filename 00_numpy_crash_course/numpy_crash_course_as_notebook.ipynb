{
 "cells": [
  {
   "cell_type": "markdown",
   "metadata": {},
   "source": [
    "NumPy Crash Course\n",
    "\n",
    "by Prof. Dr.-Ing. Jürgen Brauer, http://www.juergenbrauer.org"
   ]
  },
  {
   "cell_type": "markdown",
   "metadata": {
    "toc": true
   },
   "source": [
    "<h1>Table of Contents<span class=\"tocSkip\"></span></h1>\n",
    "<div class=\"toc\"><ul class=\"toc-item\"><li><span><a href=\"#Version-check\" data-toc-modified-id=\"Version-check-1\"><span class=\"toc-item-num\">1&nbsp;&nbsp;</span>Version check</a></span></li><li><span><a href=\"#Generating-arrays\" data-toc-modified-id=\"Generating-arrays-2\"><span class=\"toc-item-num\">2&nbsp;&nbsp;</span>Generating arrays</a></span></li><li><span><a href=\"#Accessing-array-elements,-rows,-columns\" data-toc-modified-id=\"Accessing-array-elements,-rows,-columns-3\"><span class=\"toc-item-num\">3&nbsp;&nbsp;</span>Accessing array elements, rows, columns</a></span></li><li><span><a href=\"#Reshaping-arrays\" data-toc-modified-id=\"Reshaping-arrays-4\"><span class=\"toc-item-num\">4&nbsp;&nbsp;</span>Reshaping arrays</a></span></li><li><span><a href=\"#Linear-algebra-with-arrays\" data-toc-modified-id=\"Linear-algebra-with-arrays-5\"><span class=\"toc-item-num\">5&nbsp;&nbsp;</span>Linear algebra with arrays</a></span></li><li><span><a href=\"#Random-arrays\" data-toc-modified-id=\"Random-arrays-6\"><span class=\"toc-item-num\">6&nbsp;&nbsp;</span>Random arrays</a></span></li></ul></div>"
   ]
  },
  {
   "cell_type": "markdown",
   "metadata": {},
   "source": [
    "# Version check"
   ]
  },
  {
   "cell_type": "code",
   "execution_count": 3,
   "metadata": {},
   "outputs": [
    {
     "name": "stdout",
     "output_type": "stream",
     "text": [
      "Your NumPy version is 1.14.2\n"
     ]
    }
   ],
   "source": [
    "import numpy as np\n",
    "print(\"Your NumPy version is\", np.version.version)"
   ]
  },
  {
   "cell_type": "markdown",
   "metadata": {},
   "source": [
    "# Generating arrays"
   ]
  },
  {
   "cell_type": "code",
   "execution_count": 6,
   "metadata": {},
   "outputs": [
    {
     "name": "stdout",
     "output_type": "stream",
     "text": [
      "[ 2  4  6  8 10]\n",
      "Numbers in a1 are stored using data type int32\n"
     ]
    }
   ],
   "source": [
    "a1 = np.array([2,4,6,8,10])\n",
    "print(a1)\n",
    "print(\"Numbers in a1 are stored using data type\", a1.dtype)\n"
   ]
  },
  {
   "cell_type": "code",
   "execution_count": 7,
   "metadata": {},
   "outputs": [
    {
     "name": "stdout",
     "output_type": "stream",
     "text": [
      "Numbers in a1 are now stored using data type float32\n"
     ]
    }
   ],
   "source": [
    "a1 = a1.astype(np.float32)\n",
    "print(\"Numbers in a1 are now stored using data type\", a1.dtype)"
   ]
  },
  {
   "cell_type": "code",
   "execution_count": 10,
   "metadata": {},
   "outputs": [
    {
     "name": "stdout",
     "output_type": "stream",
     "text": [
      "a2=\n",
      " [[1 2]\n",
      " [3 4]\n",
      " [5 6]\n",
      " [7 8]]\n",
      "number of dimensions of a2:  2\n",
      "number of rows    of a2: 4\n",
      "number of columns of a2: 2\n"
     ]
    }
   ],
   "source": [
    "a2 = np.array([[1,2],[3,4],[5,6], [7,8]])\n",
    "print(\"a2=\\n\",a2)\n",
    "print(\"number of dimensions of a2: \", a2.ndim )\n",
    "print(\"number of rows    of a2:\", a2.shape[0])\n",
    "print(\"number of columns of a2:\", a2.shape[1])"
   ]
  },
  {
   "cell_type": "code",
   "execution_count": 13,
   "metadata": {},
   "outputs": [
    {
     "name": "stdout",
     "output_type": "stream",
     "text": [
      "a3=\n",
      " [[[1 2]\n",
      "  [3 4]\n",
      "  [5 6]\n",
      "  [7 8]]\n",
      "\n",
      " [[1 2]\n",
      "  [3 4]\n",
      "  [5 6]\n",
      "  [7 8]]\n",
      "\n",
      " [[1 2]\n",
      "  [3 4]\n",
      "  [5 6]\n",
      "  [7 8]]\n",
      "\n",
      " [[1 2]\n",
      "  [3 4]\n",
      "  [5 6]\n",
      "  [7 8]]\n",
      "\n",
      " [[1 2]\n",
      "  [3 4]\n",
      "  [5 6]\n",
      "  [7 8]]\n",
      "\n",
      " [[1 2]\n",
      "  [3 4]\n",
      "  [5 6]\n",
      "  [7 8]]]\n",
      "number of dimensions of a3:  3\n",
      "number of slices of a3: 6\n",
      "number of rows of a3: 4\n",
      "number of cols of a3: 2\n"
     ]
    }
   ],
   "source": [
    "a3 = np.array( [a2, a2, a2, a2, a2, a2] )\n",
    "print(\"a3=\\n\",a3)\n",
    "print(\"number of dimensions of a3: \", a3.ndim )\n",
    "print(\"number of slices of a3:\", a3.shape[0])\n",
    "print(\"number of rows of a3:\", a3.shape[1])\n",
    "print(\"number of cols of a3:\", a3.shape[2])"
   ]
  },
  {
   "cell_type": "code",
   "execution_count": 14,
   "metadata": {},
   "outputs": [
    {
     "name": "stdout",
     "output_type": "stream",
     "text": [
      "nr of bytes needed to store one a3 array element : 4\n",
      "nr of bytes needed to store all a3 array elements: 192\n"
     ]
    }
   ],
   "source": [
    "print(\"nr of bytes needed to store one a3 array element :\", a3.itemsize)\n",
    "print(\"nr of bytes needed to store all a3 array elements:\", a3.nbytes)"
   ]
  },
  {
   "cell_type": "code",
   "execution_count": 17,
   "metadata": {},
   "outputs": [
    {
     "name": "stdout",
     "output_type": "stream",
     "text": [
      "[[0. 0.]\n",
      " [0. 0.]\n",
      " [0. 0.]\n",
      " [0. 0.]]\n"
     ]
    }
   ],
   "source": [
    "a4 = np.zeros((4,2))\n",
    "print(a4)"
   ]
  },
  {
   "cell_type": "code",
   "execution_count": 18,
   "metadata": {},
   "outputs": [
    {
     "name": "stdout",
     "output_type": "stream",
     "text": [
      "[[1. 1.]\n",
      " [1. 1.]\n",
      " [1. 1.]\n",
      " [1. 1.]]\n"
     ]
    }
   ],
   "source": [
    "a5 = np.ones((4,2))\n",
    "print(a5)"
   ]
  },
  {
   "cell_type": "code",
   "execution_count": 20,
   "metadata": {},
   "outputs": [
    {
     "name": "stdout",
     "output_type": "stream",
     "text": [
      "[[1. 0. 0. 0. 0.]\n",
      " [0. 1. 0. 0. 0.]\n",
      " [0. 0. 1. 0. 0.]\n",
      " [0. 0. 0. 1. 0.]\n",
      " [0. 0. 0. 0. 1.]]\n"
     ]
    }
   ],
   "source": [
    "a6 = np.eye(5)\n",
    "print(a6)"
   ]
  },
  {
   "cell_type": "markdown",
   "metadata": {},
   "source": [
    "# Accessing array elements, rows, columns"
   ]
  },
  {
   "cell_type": "code",
   "execution_count": 23,
   "metadata": {},
   "outputs": [
    {
     "name": "stdout",
     "output_type": "stream",
     "text": [
      "Value of that element is  42.0\n",
      "Value of that element is now 42.0\n",
      "[[ 1.  0.  0.  0.  0.]\n",
      " [ 0.  1.  0.  0.  0.]\n",
      " [ 0.  0.  1.  0.  0.]\n",
      " [ 0.  0.  0.  1.  0.]\n",
      " [ 0. 42.  0.  0.  1.]]\n"
     ]
    }
   ],
   "source": [
    "print(\"Value of that element is \", a6[4,1])\n",
    "a6[4,1]=42\n",
    "print(\"Value of that element is now\", a6[4,1])\n",
    "print(a6)"
   ]
  },
  {
   "cell_type": "code",
   "execution_count": 24,
   "metadata": {},
   "outputs": [
    {
     "name": "stdout",
     "output_type": "stream",
     "text": [
      "[[0. 0. 0. 1. 0.]]\n"
     ]
    }
   ],
   "source": [
    "print(a6[3:4])"
   ]
  },
  {
   "cell_type": "code",
   "execution_count": 25,
   "metadata": {},
   "outputs": [
    {
     "name": "stdout",
     "output_type": "stream",
     "text": [
      "[[ 0.  0.  0.  1.  0.]\n",
      " [ 0. 42.  0.  0.  1.]]\n"
     ]
    }
   ],
   "source": [
    "print(a6[3:5])"
   ]
  },
  {
   "cell_type": "code",
   "execution_count": 29,
   "metadata": {},
   "outputs": [
    {
     "name": "stdout",
     "output_type": "stream",
     "text": [
      "[ 0.  1.  0.  0. 42.]\n"
     ]
    }
   ],
   "source": [
    "print(a6[:,1])"
   ]
  },
  {
   "cell_type": "code",
   "execution_count": 31,
   "metadata": {},
   "outputs": [
    {
     "name": "stdout",
     "output_type": "stream",
     "text": [
      "[[ 1.  0.  0.  0.  0.]\n",
      " [ 0.  1.  0.  0.  0.]\n",
      " [ 0.  0.  1.  0.  0.]\n",
      " [ 0.  0.  0.  1.  0.]\n",
      " [10. 11. 12. 13. 14.]]\n"
     ]
    }
   ],
   "source": [
    "a6[4] = [10,11,12,13,14]\n",
    "print(a6)"
   ]
  },
  {
   "cell_type": "markdown",
   "metadata": {},
   "source": [
    "# Reshaping arrays"
   ]
  },
  {
   "cell_type": "code",
   "execution_count": 36,
   "metadata": {},
   "outputs": [
    {
     "name": "stdout",
     "output_type": "stream",
     "text": [
      "[ 1  2  3  4  5  6  7  8  9 10]\n"
     ]
    }
   ],
   "source": [
    "a7 = np.arange(1,11)\n",
    "print(a7)"
   ]
  },
  {
   "cell_type": "code",
   "execution_count": 38,
   "metadata": {},
   "outputs": [
    {
     "data": {
      "text/plain": [
       "array([[ 1,  2],\n",
       "       [ 3,  4],\n",
       "       [ 5,  6],\n",
       "       [ 7,  8],\n",
       "       [ 9, 10]])"
      ]
     },
     "execution_count": 38,
     "metadata": {},
     "output_type": "execute_result"
    }
   ],
   "source": [
    "a7.reshape((5,2))"
   ]
  },
  {
   "cell_type": "code",
   "execution_count": 39,
   "metadata": {},
   "outputs": [
    {
     "data": {
      "text/plain": [
       "array([[ 1,  2,  3,  4,  5],\n",
       "       [ 6,  7,  8,  9, 10]])"
      ]
     },
     "execution_count": 39,
     "metadata": {},
     "output_type": "execute_result"
    }
   ],
   "source": [
    "a7.reshape((2,5))"
   ]
  },
  {
   "cell_type": "code",
   "execution_count": 44,
   "metadata": {},
   "outputs": [
    {
     "name": "stdout",
     "output_type": "stream",
     "text": [
      "[[1 2]\n",
      " [3 4]\n",
      " [5 6]]\n",
      "[1 2 3 4 5 6]\n",
      "[1 2 3 4 5 6]\n"
     ]
    }
   ],
   "source": [
    "a8 = np.array([[1,2], [3,4], [5,6]])\n",
    "print(a8)\n",
    "print(a8.reshape(-1))\n",
    "print(a8.flatten())"
   ]
  },
  {
   "cell_type": "code",
   "execution_count": 46,
   "metadata": {},
   "outputs": [
    {
     "name": "stdout",
     "output_type": "stream",
     "text": [
      "[1 3 5 2 4 6]\n"
     ]
    }
   ],
   "source": [
    "# flatten in column-major order (\"F\"ortran style)\n",
    "print(a8.flatten(\"F\"))"
   ]
  },
  {
   "cell_type": "markdown",
   "metadata": {},
   "source": [
    "# Linear algebra with arrays"
   ]
  },
  {
   "cell_type": "code",
   "execution_count": 47,
   "metadata": {},
   "outputs": [
    {
     "name": "stdout",
     "output_type": "stream",
     "text": [
      "A=\n",
      " [[1 1]\n",
      " [0 1]]\n",
      "B=\n",
      " [[2 0]\n",
      " [3 4]]\n",
      "A+B=\n",
      " [[3 1]\n",
      " [3 5]]\n",
      "elementwise multiplication A*B=\n",
      " [[2 0]\n",
      " [0 4]]\n",
      "matrix multiplication A*B=\n",
      " [[5 4]\n",
      " [3 4]]\n"
     ]
    }
   ],
   "source": [
    "A = np.array( [[1,1],\n",
    "               [0,1]])\n",
    "B = np.array( [[2,0],\n",
    "               [3,4]])\n",
    "print(\"A=\\n\",A)\n",
    "print(\"B=\\n\",B)\n",
    "print(\"A+B=\\n\", A+B)\n",
    "print(\"elementwise multiplication A*B=\\n\", A*B)\n",
    "print(\"matrix multiplication A*B=\\n\", np.matmul(A,B))"
   ]
  },
  {
   "cell_type": "code",
   "execution_count": 48,
   "metadata": {},
   "outputs": [
    {
     "name": "stdout",
     "output_type": "stream",
     "text": [
      "A=\n",
      " [[1. 2.]\n",
      " [3. 4.]]\n",
      "A_inv=\n",
      " [[-2.   1. ]\n",
      " [ 1.5 -0.5]]\n",
      "A * A_inv=\n",
      " [[1.0000000e+00 0.0000000e+00]\n",
      " [8.8817842e-16 1.0000000e+00]]\n"
     ]
    }
   ],
   "source": [
    "# computing the inverse of a matrix\n",
    "A = np.array([[1.0, 2.0],\n",
    "              [3.0, 4.0]])\n",
    "print(\"A=\\n\",A)\n",
    "A_inv = np.linalg.inv(A)\n",
    "print(\"A_inv=\\n\", A_inv )\n",
    "print(\"A * A_inv=\\n\", np.matmul(A,A_inv))"
   ]
  },
  {
   "cell_type": "code",
   "execution_count": 50,
   "metadata": {},
   "outputs": [
    {
     "name": "stdout",
     "output_type": "stream",
     "text": [
      "A=\n",
      " [[0 0]\n",
      " [0 0]]\n"
     ]
    },
    {
     "ename": "LinAlgError",
     "evalue": "Singular matrix",
     "output_type": "error",
     "traceback": [
      "\u001b[1;31m---------------------------------------------------------------------------\u001b[0m",
      "\u001b[1;31mLinAlgError\u001b[0m                               Traceback (most recent call last)",
      "\u001b[1;32m<ipython-input-50-77f7320b272d>\u001b[0m in \u001b[0;36m<module>\u001b[1;34m()\u001b[0m\n\u001b[0;32m      2\u001b[0m               [0,0]])\n\u001b[0;32m      3\u001b[0m \u001b[0mprint\u001b[0m\u001b[1;33m(\u001b[0m\u001b[1;34m\"A=\\n\"\u001b[0m\u001b[1;33m,\u001b[0m\u001b[0mA\u001b[0m\u001b[1;33m)\u001b[0m\u001b[1;33m\u001b[0m\u001b[0m\n\u001b[1;32m----> 4\u001b[1;33m \u001b[0mA_inv\u001b[0m \u001b[1;33m=\u001b[0m \u001b[0mnp\u001b[0m\u001b[1;33m.\u001b[0m\u001b[0mlinalg\u001b[0m\u001b[1;33m.\u001b[0m\u001b[0minv\u001b[0m\u001b[1;33m(\u001b[0m\u001b[0mA\u001b[0m\u001b[1;33m)\u001b[0m\u001b[1;33m\u001b[0m\u001b[0m\n\u001b[0m\u001b[0;32m      5\u001b[0m \u001b[0mprint\u001b[0m\u001b[1;33m(\u001b[0m\u001b[1;34m\"A_inv=\\n\"\u001b[0m\u001b[1;33m,\u001b[0m \u001b[0mA_inv\u001b[0m \u001b[1;33m)\u001b[0m\u001b[1;33m\u001b[0m\u001b[0m\n\u001b[0;32m      6\u001b[0m \u001b[0mprint\u001b[0m\u001b[1;33m(\u001b[0m\u001b[1;34m\"A * A_inv=\\n\"\u001b[0m\u001b[1;33m,\u001b[0m \u001b[0mnp\u001b[0m\u001b[1;33m.\u001b[0m\u001b[0mmatmul\u001b[0m\u001b[1;33m(\u001b[0m\u001b[0mA\u001b[0m\u001b[1;33m,\u001b[0m\u001b[0mA_inv\u001b[0m\u001b[1;33m)\u001b[0m\u001b[1;33m)\u001b[0m\u001b[1;33m\u001b[0m\u001b[0m\n",
      "\u001b[1;32m~\\AppData\\Local\\conda\\conda\\envs\\env_mss\\lib\\site-packages\\numpy\\linalg\\linalg.py\u001b[0m in \u001b[0;36minv\u001b[1;34m(a)\u001b[0m\n\u001b[0;32m    526\u001b[0m     \u001b[0msignature\u001b[0m \u001b[1;33m=\u001b[0m \u001b[1;34m'D->D'\u001b[0m \u001b[1;32mif\u001b[0m \u001b[0misComplexType\u001b[0m\u001b[1;33m(\u001b[0m\u001b[0mt\u001b[0m\u001b[1;33m)\u001b[0m \u001b[1;32melse\u001b[0m \u001b[1;34m'd->d'\u001b[0m\u001b[1;33m\u001b[0m\u001b[0m\n\u001b[0;32m    527\u001b[0m     \u001b[0mextobj\u001b[0m \u001b[1;33m=\u001b[0m \u001b[0mget_linalg_error_extobj\u001b[0m\u001b[1;33m(\u001b[0m\u001b[0m_raise_linalgerror_singular\u001b[0m\u001b[1;33m)\u001b[0m\u001b[1;33m\u001b[0m\u001b[0m\n\u001b[1;32m--> 528\u001b[1;33m     \u001b[0mainv\u001b[0m \u001b[1;33m=\u001b[0m \u001b[0m_umath_linalg\u001b[0m\u001b[1;33m.\u001b[0m\u001b[0minv\u001b[0m\u001b[1;33m(\u001b[0m\u001b[0ma\u001b[0m\u001b[1;33m,\u001b[0m \u001b[0msignature\u001b[0m\u001b[1;33m=\u001b[0m\u001b[0msignature\u001b[0m\u001b[1;33m,\u001b[0m \u001b[0mextobj\u001b[0m\u001b[1;33m=\u001b[0m\u001b[0mextobj\u001b[0m\u001b[1;33m)\u001b[0m\u001b[1;33m\u001b[0m\u001b[0m\n\u001b[0m\u001b[0;32m    529\u001b[0m     \u001b[1;32mreturn\u001b[0m \u001b[0mwrap\u001b[0m\u001b[1;33m(\u001b[0m\u001b[0mainv\u001b[0m\u001b[1;33m.\u001b[0m\u001b[0mastype\u001b[0m\u001b[1;33m(\u001b[0m\u001b[0mresult_t\u001b[0m\u001b[1;33m,\u001b[0m \u001b[0mcopy\u001b[0m\u001b[1;33m=\u001b[0m\u001b[1;32mFalse\u001b[0m\u001b[1;33m)\u001b[0m\u001b[1;33m)\u001b[0m\u001b[1;33m\u001b[0m\u001b[0m\n\u001b[0;32m    530\u001b[0m \u001b[1;33m\u001b[0m\u001b[0m\n",
      "\u001b[1;32m~\\AppData\\Local\\conda\\conda\\envs\\env_mss\\lib\\site-packages\\numpy\\linalg\\linalg.py\u001b[0m in \u001b[0;36m_raise_linalgerror_singular\u001b[1;34m(err, flag)\u001b[0m\n\u001b[0;32m     87\u001b[0m \u001b[1;33m\u001b[0m\u001b[0m\n\u001b[0;32m     88\u001b[0m \u001b[1;32mdef\u001b[0m \u001b[0m_raise_linalgerror_singular\u001b[0m\u001b[1;33m(\u001b[0m\u001b[0merr\u001b[0m\u001b[1;33m,\u001b[0m \u001b[0mflag\u001b[0m\u001b[1;33m)\u001b[0m\u001b[1;33m:\u001b[0m\u001b[1;33m\u001b[0m\u001b[0m\n\u001b[1;32m---> 89\u001b[1;33m     \u001b[1;32mraise\u001b[0m \u001b[0mLinAlgError\u001b[0m\u001b[1;33m(\u001b[0m\u001b[1;34m\"Singular matrix\"\u001b[0m\u001b[1;33m)\u001b[0m\u001b[1;33m\u001b[0m\u001b[0m\n\u001b[0m\u001b[0;32m     90\u001b[0m \u001b[1;33m\u001b[0m\u001b[0m\n\u001b[0;32m     91\u001b[0m \u001b[1;32mdef\u001b[0m \u001b[0m_raise_linalgerror_nonposdef\u001b[0m\u001b[1;33m(\u001b[0m\u001b[0merr\u001b[0m\u001b[1;33m,\u001b[0m \u001b[0mflag\u001b[0m\u001b[1;33m)\u001b[0m\u001b[1;33m:\u001b[0m\u001b[1;33m\u001b[0m\u001b[0m\n",
      "\u001b[1;31mLinAlgError\u001b[0m: Singular matrix"
     ]
    }
   ],
   "source": [
    "A = np.array([[0,0],\n",
    "              [0,0]])\n",
    "print(\"A=\\n\",A)\n",
    "A_inv = np.linalg.inv(A)\n",
    "print(\"A_inv=\\n\", A_inv )\n",
    "print(\"A * A_inv=\\n\", np.matmul(A,A_inv))"
   ]
  },
  {
   "cell_type": "markdown",
   "metadata": {},
   "source": [
    "# Random arrays"
   ]
  },
  {
   "cell_type": "code",
   "execution_count": 53,
   "metadata": {},
   "outputs": [
    {
     "name": "stdout",
     "output_type": "stream",
     "text": [
      "[0.25941907 0.03625837 0.24546514 0.2108199  0.98099767]\n"
     ]
    }
   ],
   "source": [
    "rndA = np.random.uniform(low=-1.0, high=1.0, size=(5,))\n",
    "print(rndA)"
   ]
  },
  {
   "cell_type": "code",
   "execution_count": 54,
   "metadata": {},
   "outputs": [
    {
     "name": "stdout",
     "output_type": "stream",
     "text": [
      "[[-0.49906598 -0.4043385   0.47138931 -0.98255589 -0.62342691]\n",
      " [ 0.95154474 -0.09850517  0.22192702  0.84818331  0.46568723]\n",
      " [-0.38026324  0.41789863  0.86218251  0.89053717 -0.44426108]\n",
      " [-0.99906289 -0.9671204   0.73805878 -0.86124319  0.38181115]\n",
      " [-0.02843629  0.05481628 -0.81460061  0.9496874   0.43303116]]\n"
     ]
    }
   ],
   "source": [
    "rndB = np.random.uniform(low=-1.0, high=1.0, size=(5,5))\n",
    "print(rndB)"
   ]
  },
  {
   "cell_type": "code",
   "execution_count": 56,
   "metadata": {},
   "outputs": [
    {
     "name": "stdout",
     "output_type": "stream",
     "text": [
      "[[-2  9  6]\n",
      " [-1 13  9]\n",
      " [ 7  0 16]\n",
      " [11  0  4]\n",
      " [-3 16  9]]\n"
     ]
    }
   ],
   "source": [
    "rndC = np.random.randint(low=-5, high=17, size=(5,3))\n",
    "print(rndC)"
   ]
  },
  {
   "cell_type": "code",
   "execution_count": 57,
   "metadata": {},
   "outputs": [
    {
     "name": "stdout",
     "output_type": "stream",
     "text": [
      "[5.29891944 4.48932656 4.6965192  4.44174082 3.07930378 4.67775893\n",
      " 6.28972244 7.59837155 3.43733001 4.96901278 6.47746464 3.83086112\n",
      " 6.37104827 6.67842475 5.45098556 4.32232603 4.16282866 5.23877745\n",
      " 5.72853152 5.14168412 4.73272004 4.1446847  5.22394609 4.13881248\n",
      " 5.12945118 7.69537502 4.45007093 5.33059041 5.36527796 4.13591433\n",
      " 4.91554032 4.167888   4.00642527 4.38304281 4.71928556 5.27945698\n",
      " 5.32079604 3.19935121 5.2011083  3.4528945  4.63227953 5.05799129\n",
      " 4.00998877 6.39749409 4.62031433 5.70080479 5.21941379 6.05114371\n",
      " 6.21147799 4.51521795 3.59165824 7.78265701 5.12034487 6.525422\n",
      " 4.64089439 4.15881777 7.2177551  6.69485895 5.24061366 6.12951761\n",
      " 3.96945097 4.67319793 6.26518694 3.66530115 4.59517444 4.79115771\n",
      " 3.28987857 5.54636295 2.68935776 4.12042427 3.78199148 5.78361052\n",
      " 3.51356727 5.19356044 4.13025565 6.26715755 4.235412   3.39934856\n",
      " 5.95648497 7.08858693 3.79919269 5.041218   6.01706007 5.85514645\n",
      " 3.20506099 5.35660476 4.29931745 4.15671665 5.18786478 5.60774288\n",
      " 5.46244392 5.25292333 4.68956856 3.57314653 4.27217852 5.99762852\n",
      " 4.04721375 4.9764524  4.66748801 3.79491581 5.10936289 4.75160435\n",
      " 4.30937755 5.428363   1.99156573 5.21429965 4.74014999 6.15644142\n",
      " 6.07191296 5.29985029 4.65193003 5.43718917 3.71859307 5.57891641\n",
      " 4.05560831 4.67608376 5.06244518 4.68025795 5.7605094  6.05595629\n",
      " 4.81194265 4.43680991 4.41839461 4.13138177 6.11462356 5.63025389\n",
      " 4.24149866 4.33965257 4.98170724 4.03205033 5.54575286 3.97203495\n",
      " 5.97362421 4.20252841 5.57627842 4.36478477 5.77730499 6.34404341\n",
      " 4.57266606 7.85302819 6.55460555 5.10778825 2.76173589 6.52064179\n",
      " 4.98115554 5.44316137 6.35630949 6.81044227 2.730972   4.78485666\n",
      " 7.68534141 4.09418338 5.22214564 5.69188388 3.47132024 3.75510332\n",
      " 6.49359115 6.0851235  6.40440316 4.29160046 5.0419121  5.27191214\n",
      " 3.54097298 6.05124864 5.54900718 5.24707147 5.96279186 4.59916293\n",
      " 4.97092252 1.67697542 5.28343529 5.24512332 3.96730748 5.21332473\n",
      " 4.15012313 6.42183043 4.6476869  4.69750673 6.00380435 3.76756453\n",
      " 3.89972654 4.55961322 3.72995178 5.67303594 4.88961156 5.24625639\n",
      " 6.08652696 6.35898158 3.96379859 4.63280369 5.82937581 3.99624522\n",
      " 4.82265655 5.77855779 4.89568474 4.6171103  6.84089621 4.94519591\n",
      " 4.70113812 4.48299443 5.45698996 6.10220164 5.3385     5.19891087\n",
      " 5.28419502 3.6190374  5.35441746 4.51121169 5.65484147 4.45468464\n",
      " 3.83313931 6.18323868 8.5888231  3.93073214 4.23755887 7.53010544\n",
      " 3.21895237 3.32671717 4.99767299 3.20821932 6.79945323 5.02690399\n",
      " 5.77039251 3.44908364 7.08553962 5.92708561 6.36523526 2.85638441\n",
      " 2.76134978 4.63229156 4.18429413 5.46285084 4.9265291  4.03911756\n",
      " 6.98041879 3.77572511 3.66753348 3.94762813 4.70521245 5.0051367\n",
      " 4.17195289 5.60710455 4.70262536 5.30187697 6.20298845 5.68039843\n",
      " 4.98080793 5.85164618 4.31901902 6.35311946 5.51572174 3.28601839\n",
      " 6.23629409 4.18668593 4.57673935 5.9852795  3.59538727 5.49860075\n",
      " 5.88759272 4.79521452 4.88086096 5.77700221 2.74220364 4.29960963\n",
      " 4.58000409 5.45596423 4.8938887  4.02102551 4.21965345 6.93581086\n",
      " 4.59618976 3.08781866 3.93532381 5.80106085 4.57952088 4.59281439\n",
      " 4.74762466 5.50438534 5.0966858  4.63920873 5.02288682 3.36042974\n",
      " 4.49500401 4.24522331 5.15065839 3.28613199 3.76563699 7.86030788\n",
      " 6.67323305 3.30458586 4.86568523 5.78221757 4.9857707  4.64478174\n",
      " 4.29165907 5.27069339 4.86267384 2.94418746 5.4083476  5.30054322\n",
      " 2.86491075 4.72009537 4.93975567 3.5359641  6.05052262 5.60443014\n",
      " 6.85497289 5.94792185 5.71308365 4.47812835 4.63008261 4.13016748\n",
      " 3.54408932 4.88553595 5.07982913 6.76611395 4.1185711  4.34816163\n",
      " 5.98238258 3.90466108 5.30915036 4.72597798 4.8387904  4.99210919\n",
      " 5.28166943 5.71825279 5.52765688 4.41161163 5.4195978  5.86673575\n",
      " 5.57288206 5.16632323 3.93974284 5.50303661 3.16537009 5.35444411\n",
      " 3.66098693 5.74496295 5.66325428 3.59064479 4.93025145 6.45654558\n",
      " 5.1749926  5.16288745 6.05635388 5.01490641 4.86778838 3.41615357\n",
      " 2.63968757 5.70969019 6.6303246  6.10699556 3.96389671 4.03050502\n",
      " 5.3288352  5.5703666  4.29363173 6.31219648 3.82537247 7.13392801\n",
      " 4.80464733 5.81705593 5.90812309 6.06272699 6.38946724 5.92161921\n",
      " 4.06842738 5.90736688 6.98292513 4.13808236 4.86876079 3.38070013\n",
      " 5.56465497 4.53030183 4.69406907 4.66954699 5.80682376 3.78033085\n",
      " 5.6525352  5.3362204  6.78845176 5.38767235 6.55885449 5.97501561\n",
      " 5.31326315 4.91272708 3.59579847 5.28377776 5.32307168 3.26671755\n",
      " 6.37866059 3.06039423 4.70096022 4.34896295 5.23534451 6.15821232\n",
      " 5.04558669 6.60888959 5.55273658 4.19784024 6.78412602 5.89180055\n",
      " 3.21804995 5.8073572  6.68799078 7.61893977 5.65663264 3.86462424\n",
      " 3.52499022 4.70825696 6.51393624 5.68163015 5.35053056 4.56703645\n",
      " 5.27373336 4.95142459 5.93260341 4.26910198 5.45830531 4.21963317\n",
      " 3.99209458 4.39271877 5.73670228 5.09588713 5.22622776 4.45988075\n",
      " 4.70200004 5.84100089 6.19372154 7.31497961 4.74079261 5.41711465\n",
      " 4.93343759 5.75742831 6.26403534 5.00388035 5.06803098 4.26719448\n",
      " 5.57771282 4.51826044 6.06592627 3.38447398 6.65332661 5.3415799\n",
      " 4.28651789 5.11355471 4.74845773 6.11206907 6.04429686 6.03829125\n",
      " 5.77030292 4.87939177 4.4120745  3.6746874  4.87440997 5.22503757\n",
      " 3.66052394 3.65450335 3.61801924 4.82898614 6.22173879 4.51221923\n",
      " 4.37810741 5.69034959 5.56463301 5.88555572 4.07443858 3.72420855\n",
      " 2.87484303 3.00435718 6.81505308 3.50539795 6.20541214 4.0749319\n",
      " 6.06237844 2.77099028 3.96805668 3.87582181 5.76137848 6.4143086\n",
      " 3.79032482 3.97053755 7.10568528 6.14337392 3.87898739 5.11306816\n",
      " 4.54046206 4.45519585 3.41960218 3.82044106 5.97505117 3.69578703\n",
      " 5.88094478 5.61368971 4.69726677 4.87671098 3.88621359 5.36083777\n",
      " 5.03673687 3.84341788 4.58416681 5.71675142 4.85441645 5.16937569\n",
      " 4.94383888 4.86636391 4.01076449 4.71739782 6.90549614 6.12657278\n",
      " 5.23660477 6.46195806 5.00830549 3.41048516 6.69671503 6.01608532\n",
      " 5.06325408 5.44160631 5.86186991 3.74243822 4.44472615 4.7676743\n",
      " 5.2552345  5.86520168 6.64548713 5.29371284 4.32408228 3.83764725\n",
      " 3.90399046 5.34628785 4.89785111 4.4159104  5.11421761 6.25614482\n",
      " 3.88607126 7.43684169 5.49727194 4.39211746 4.6819565  3.76877739\n",
      " 2.85213302 4.10700194 4.77630542 5.18255164 4.97394777 4.07793743\n",
      " 5.06617514 5.8019517  5.45516258 4.63374564 5.79354344 6.73738871\n",
      " 5.82065449 5.26004124 6.68422699 5.38758817 5.86364788 5.55942136\n",
      " 5.74447745 4.7037734  4.51430724 4.82620082 5.83       4.36104527\n",
      " 4.93825859 6.07643205 1.25894842 6.2836625  5.57076513 6.40805713\n",
      " 5.57056464 5.26645939 3.55390637 5.99051229 3.93934202 5.1117518\n",
      " 4.47153971 6.22329633 5.30696445 7.13806491 5.92051653 5.4894961\n",
      " 5.46146271 5.89442956 4.26409557 4.36656288 5.20342661 4.63275556\n",
      " 3.27380789 6.37937426 6.11665882 5.98691897 4.76269589 6.40393005\n",
      " 4.65054397 5.02371122 4.54467735 3.41368532 3.680745   4.24723708\n",
      " 4.7483655  4.67248982 4.54563615 5.00676728 5.24068888 7.48753416\n",
      " 4.31565203 3.62799515 3.95793857 5.22460158 4.20820614 4.8407234\n",
      " 4.29644323 4.52155855 5.87588572 4.56408235 6.82712841 4.06140482\n",
      " 6.30042419 6.23695067 5.10036911 5.20389932 5.32027241 3.81628473\n",
      " 5.36727549 6.14326674 5.90942846 6.03574127 5.28600819 4.34975083\n",
      " 2.61778295 5.6062001  4.93650302 5.4752158  6.28230118 4.76879533\n",
      " 5.86229615 6.22874876 3.71845154 5.56229819 2.8926661  3.61822838\n",
      " 5.52913665 5.32269617 6.14244467 5.26428223 4.99873933 4.811981\n",
      " 4.56553117 5.96263289 5.61319189 5.16972378 5.32939745 6.46916762\n",
      " 6.40652687 5.62269302 5.21751749 6.5721311  4.3051298  5.07814644\n",
      " 5.52047139 6.81981634 4.53428833 5.79409524 4.93352159 2.55992642\n",
      " 4.25835313 5.45839756 3.12815356 3.80578351 5.78753142 6.1787105\n",
      " 6.43826008 4.78366933 5.93748602 4.81964941 3.4173923  4.67353168\n",
      " 6.58383304 4.87100623 4.71458542 4.02701364 4.67148856 4.59042509\n",
      " 3.88083456 6.24939176 5.00660292 5.89656884 4.74064738 3.69173283\n",
      " 3.49496092 5.06264039 6.49242252 5.03556782 3.6207828  4.03948482\n",
      " 6.20995704 5.96179088 2.92711635 5.35651223 3.87886788 3.08862778\n",
      " 3.92579881 6.38660139 4.14571525 5.22349462 4.91149339 5.82012895\n",
      " 6.06469962 4.57588564 5.00382664 2.4810164  6.26640983 4.76627122\n",
      " 5.45929331 3.84352387 3.97792595 5.85387367 4.2977059  4.79756735\n",
      " 5.43781777 4.89224295 4.72895155 3.82754428 6.64749416 6.43761591\n",
      " 4.403927   4.11807143 6.96730419 3.4503856  5.59675193 4.87538464\n",
      " 4.2734983  5.41366527 5.13991915 4.80204778 5.64529876 3.55226491\n",
      " 5.05070227 4.85947578 4.75096137 5.3103589  5.71007303 5.7752435\n",
      " 4.79551805 6.68655644 5.74773501 7.2875289  5.34536391 5.66696452\n",
      " 4.1310499  5.10030741 5.6192467  5.36854784 3.93914936 5.7314923\n",
      " 5.90150699 3.41432517 5.17373143 5.43501635 4.90374829 5.95217182\n",
      " 6.17823256 4.73163964 3.95591289 6.42740501 2.39900281 3.87676529\n",
      " 7.92279123 4.47097056 4.25559032 3.37733787 3.93714685 4.65199055\n",
      " 3.4922935  3.27861395 3.53769301 6.35913945 3.16671077 5.45553994\n",
      " 4.8709891  4.87580493 3.40280176 6.26216458 5.12085901 3.0822165\n",
      " 6.45394103 4.47675143 5.43638972 4.30534846 4.86409395 5.59857646\n",
      " 6.04545502 4.49103312 7.29609373 4.87190031 6.70217942 4.80722888\n",
      " 4.50283226 5.22603221 6.14831967 4.72200443 4.64970982 5.54056431\n",
      " 4.21477126 6.04747629 3.88798213 4.72988616 4.88023348 5.47950481\n",
      " 4.43389874 5.45457095 4.65472028 3.98885255 3.84156795 5.24461147\n",
      " 5.21103728 5.00658199 3.81921776 5.75789954 3.9457502  4.33864878\n",
      " 3.86119215 5.13706541 6.28737258 7.27837629 4.32936581 5.09628176\n",
      " 3.38671249 5.12072332 4.23351894 6.35635185 5.48894202 5.35624724\n",
      " 5.21894559 4.71985201 5.70373815 4.31018651 4.87619269 2.55048794\n",
      " 4.9326432  4.95438221 3.78375061 5.41058747 5.85935665 5.98949218\n",
      " 5.15446205 4.95903783 4.74265226 5.15443896 5.7881648  5.43815859\n",
      " 5.70612253 4.02165072 5.66406312 5.09240547 2.62663377 4.21015596\n",
      " 5.20484728 4.44354157 6.88063782 3.46631735 4.58994789 6.62475972\n",
      " 3.81746605 4.7419716  5.32940111 5.06841393 3.040896   5.56579158\n",
      " 4.31891756 2.77693193 5.42939902 4.45698613 5.36058683 5.43398804\n",
      " 5.39459105 3.86705363 4.66908188 3.84368931 3.98605916 4.93583564\n",
      " 5.55179915 4.81003823 5.69351637 5.33666759 4.39175628 4.16678373\n",
      " 3.73240663 4.27246637 5.6450639  4.79376412 6.48537232 5.510224\n",
      " 5.10790525 5.37713709 5.05561471 5.58928259 4.68661505 5.77495155\n",
      " 5.71837453 4.80965409 6.36242837 4.82127786 4.96443534 4.83633879\n",
      " 4.50147211 3.81799778 5.56633262 5.9314262  5.60942488 4.76421491\n",
      " 6.23966959 5.34115214 4.81819194 3.29097619 3.57965769 6.34310726\n",
      " 5.0036633  4.78048902 6.779106   5.612918   4.78113047 4.63390106\n",
      " 5.22344017 5.98252019 5.33795902 7.22824473 4.90301425 5.7441076\n",
      " 5.53113358 4.60943561 4.50550196 7.0501374  4.68309426 4.62838802\n",
      " 5.44360231 3.90078176 5.10113965 6.20253513 5.7817239  5.61289836\n",
      " 4.59845249 3.50401525 6.56549307 5.22779419 5.54556677 6.39338492\n",
      " 5.27678474 6.22690181 6.7246475  6.02517386 4.15823985 6.59084839\n",
      " 4.57670929 2.1725732  4.12585312 6.34496541 5.37638076 5.3668513\n",
      " 5.15408192 2.85140809 2.46872007 3.90753578 4.09775361 4.06304878\n",
      " 5.16820217 5.84511154 4.07303705 5.75007515 3.47772422 5.28228709\n",
      " 5.7954666  4.46860611 5.7538512  6.85885693 6.45781866 7.47514795\n",
      " 5.37161717 3.93362845 4.79378679 5.20067816 5.16652881 5.22602513\n",
      " 5.01182318 7.19908166 6.20968319 4.80959959 4.86123478 5.17600047\n",
      " 5.05636735 4.0285468  4.38420906 5.36992327 3.37695663 3.02865516\n",
      " 5.79942624 3.6748132  4.11347236 4.08041017]\n"
     ]
    },
    {
     "data": {
      "image/png": "[encoded data removed]",
      "text/plain": [
       "<matplotlib.figure.Figure at 0x240657a7fd0>"
      ]
     },
     "metadata": {},
     "output_type": "display_data"
    }
   ],
   "source": [
    "mu = 5.0\n",
    "sigma = 1.0\n",
    "rndD = np.random.normal(mu,sigma,1000)\n",
    "print(rndD)\n",
    "import matplotlib.pyplot as plt\n",
    "plt.hist(rndD, 50)\n",
    "plt.show()"
   ]
  },
  {
   "cell_type": "code",
   "execution_count": null,
   "metadata": {
    "collapsed": true
   },
   "outputs": [],
   "source": []
  }
 ],
 "metadata": {
  "kernelspec": {
   "display_name": "Python 3",
   "language": "python",
   "name": "python3"
  },
  "language_info": {
   "codemirror_mode": {
    "name": "ipython",
    "version": 3
   },
   "file_extension": ".py",
   "mimetype": "text/x-python",
   "name": "python",
   "nbconvert_exporter": "python",
   "pygments_lexer": "ipython3",
   "version": "3.5.4"
  },
  "toc": {
   "base_numbering": 1,
   "nav_menu": {},
   "number_sections": true,
   "sideBar": true,
   "skip_h1_title": false,
   "title_cell": "Table of Contents",
   "title_sidebar": "Contents",
   "toc_cell": true,
   "toc_position": {},
   "toc_section_display": true,
   "toc_window_display": true
  }
 },
 "nbformat": 4,
 "nbformat_minor": 2
}
