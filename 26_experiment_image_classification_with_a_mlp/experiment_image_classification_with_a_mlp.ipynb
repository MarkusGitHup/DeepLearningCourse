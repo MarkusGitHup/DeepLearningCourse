{
 "cells": [
  {
   "cell_type": "markdown",
   "metadata": {
    "toc": true
   },
   "source": [
    "<h1>Table of Contents<span class=\"tocSkip\"></span></h1>\n",
    "<div class=\"toc\"><ul class=\"toc-item\"><li><span><a href=\"#Trying-the-impossible!\" data-toc-modified-id=\"Trying-the-impossible!-1\"><span class=\"toc-item-num\">1&nbsp;&nbsp;</span>Trying the impossible!</a></span></li><li><span><a href=\"#Are-all-libraries-that-are-needed-available?\" data-toc-modified-id=\"Are-all-libraries-that-are-needed-available?-2\"><span class=\"toc-item-num\">2&nbsp;&nbsp;</span>Are all libraries that are needed available?</a></span></li><li><span><a href=\"#Prepare-an-image-provider-class\" data-toc-modified-id=\"Prepare-an-image-provider-class-3\"><span class=\"toc-item-num\">3&nbsp;&nbsp;</span>Prepare an image provider class</a></span></li><li><span><a href=\"#Build-a-MLP-model\" data-toc-modified-id=\"Build-a-MLP-model-4\"><span class=\"toc-item-num\">4&nbsp;&nbsp;</span>Build a MLP model</a></span></li><li><span><a href=\"#Train-the-MLP-with-images\" data-toc-modified-id=\"Train-the-MLP-with-images-5\"><span class=\"toc-item-num\">5&nbsp;&nbsp;</span>Train the MLP with images</a></span></li><li><span><a href=\"#Test-the-final-MLP-on-training-data\" data-toc-modified-id=\"Test-the-final-MLP-on-training-data-6\"><span class=\"toc-item-num\">6&nbsp;&nbsp;</span>Test the final MLP on training data</a></span></li><li><span><a href=\"#Testing-the-MLP-with-new-images\" data-toc-modified-id=\"Testing-the-MLP-with-new-images-7\"><span class=\"toc-item-num\">7&nbsp;&nbsp;</span>Testing the MLP with new images</a></span></li><li><span><a href=\"#Conclusions\" data-toc-modified-id=\"Conclusions-8\"><span class=\"toc-item-num\">8&nbsp;&nbsp;</span>Conclusions</a></span></li></ul></div>"
   ]
  },
  {
   "cell_type": "markdown",
   "metadata": {},
   "source": [
    "# Trying the impossible!\n",
    "\n",
    "A Convolutional Neural Network (NN) consists of two parts. A feature hierarchy with CONV and MAX-Pooling layers and a classificator on top of this feature hierarchy, usually a Multi Layer Perceptron (MLP).\n",
    "\n",
    "But do we really need this feature hierarchy? Why not use images directly as input for a MLP? Never say never. So let's try the \"impossible\": learn to classify images without the feature hierarchy. Just using a MLP."
   ]
  },
  {
   "cell_type": "markdown",
   "metadata": {},
   "source": [
    "# Are all libraries that are needed available?"
   ]
  },
  {
   "cell_type": "code",
   "execution_count": 1,
   "metadata": {},
   "outputs": [
    {
     "name": "stderr",
     "output_type": "stream",
     "text": [
      "Using TensorFlow backend.\n"
     ]
    },
    {
     "name": "stdout",
     "output_type": "stream",
     "text": [
      "Your NumPy version is: 1.13.1\n",
      "Your TensorFlow version is: 1.5.1\n",
      "Your Keras version is: 2.2.4\n",
      "Your OpenCV version is: 4.0.1\n"
     ]
    }
   ],
   "source": [
    "import numpy as np\n",
    "import tensorflow as tf\n",
    "import keras\n",
    "import cv2\n",
    "\n",
    "print( \"Your NumPy version is: \" + np.__version__ )\n",
    "print( \"Your TensorFlow version is: \" + tf.__version__)\n",
    "print( \"Your Keras version is: \" + keras.__version__ )\n",
    "print( \"Your OpenCV version is: \" + cv2.__version__ )"
   ]
  },
  {
   "cell_type": "markdown",
   "metadata": {},
   "source": [
    "# Prepare an image provider class"
   ]
  },
  {
   "cell_type": "code",
   "execution_count": 2,
   "metadata": {
    "collapsed": true
   },
   "outputs": [],
   "source": [
    "import os\n",
    "from os import listdir\n",
    "from os.path import isdir, isfile, join\n",
    "\n",
    "IMG_SIZE = (100,100)\n",
    "    \n",
    "class image_provider:\n",
    "    \n",
    "    #\n",
    "    # Traverses all subfolders of the specified root_folder\n",
    "    # and generates a list of the form:\n",
    "    #\n",
    "    # [ [\"data/bikes/jfksdj43.jpg\", \"bikes\",\n",
    "    #   [\"data/cars/bvcnm401.jpg\", \"cars\"],\n",
    "    #   ...\n",
    "    # ]\n",
    "    #\n",
    "    def __init__(self, root_folder):\n",
    "        \n",
    "        self.all_training_items = []\n",
    "       \n",
    "        class_names = \\\n",
    "            [d for d in listdir(root_folder)\n",
    "             if isdir(os.path.join(root_folder,d))]\n",
    "\n",
    "        print(\"Under folder\", root_folder,\n",
    "              \"I found the following subfolders/classes:\")\n",
    "        print(class_names)\n",
    "        \n",
    "        nr_classes = len(class_names)\n",
    "        \n",
    "        # For each subfolder ...\n",
    "        for class_id, class_name in enumerate(class_names):\n",
    "            \n",
    "            subfolder_name = root_folder + \"/\" + class_name + \"/\"\n",
    "            \n",
    "            filenames = \\\n",
    "                [subfolder_name + f\n",
    "                 for f in listdir(subfolder_name) if isfile(join(subfolder_name, f))]\n",
    "            \n",
    "            print(\"{} files in subfolder {}\".format(len(filenames), subfolder_name) )\n",
    "            \n",
    "            # For each image filename in current subfolder ...\n",
    "            for filename in filenames:\n",
    "                \n",
    "                teacher_vec = np.zeros( nr_classes )\n",
    "                teacher_vec[class_id] = 1.0\n",
    "                \n",
    "                self.all_training_items.append(\n",
    "                    [filename, class_id, class_name, teacher_vec] )              \n",
    "        \n",
    "        self.nr_images = len(self.all_training_items)\n",
    "        print(\"There are {} images in total available.\".format(self.nr_images))\n",
    "        \n",
    "    \n",
    "    \n",
    "    #   \n",
    "    # Given an absolute filename,\n",
    "    # load the image in using OpenCV,\n",
    "    # then convert it to usual RGB color channel order\n",
    "    # and scale values to be in range [0,1]\n",
    "    #\n",
    "    def load_image(self, absolute_filename):\n",
    "        \n",
    "        image = cv2.imread(absolute_filename)\n",
    "        image = cv2.cvtColor(image, cv2.COLOR_BGR2RGB)\n",
    "        \n",
    "        # invert image\n",
    "        image = 255 - image\n",
    "        \n",
    "        image = cv2.resize(image, IMG_SIZE, interpolation=cv2.INTER_AREA)\n",
    "        image = image * (1.0 / 255.0)\n",
    "        \n",
    "        return image\n",
    "        \n",
    "        \n",
    "       \n",
    "    #\n",
    "    # Return the image from the dataset\n",
    "    # with the specified index\n",
    "    #\n",
    "    def get_specific_image(self, idx):\n",
    "        \n",
    "        image_filename  = self.all_training_items[idx][0]\n",
    "        class_id        = self.all_training_items[idx][1]\n",
    "        class_name      = self.all_training_items[idx][2]\n",
    "        teacher_vec     = self.all_training_items[idx][3]\n",
    "        \n",
    "        image = self.load_image(image_filename)\n",
    "        \n",
    "        return image, class_id, class_name, teacher_vec\n",
    "    \n",
    "    \n",
    "    #\n",
    "    # Return an OpenCV image and the class label\n",
    "    # where the image is chosen randomly from the\n",
    "    # list of all images.\n",
    "    #\n",
    "    def get_random_image(self):\n",
    "        \n",
    "        rnd_idx = np.random.randint(0, self.nr_images)\n",
    "        return self.get_specific_image( rnd_idx )\n"
   ]
  },
  {
   "cell_type": "markdown",
   "metadata": {},
   "source": [
    "Let's test the image provider class:"
   ]
  },
  {
   "cell_type": "code",
   "execution_count": 3,
   "metadata": {},
   "outputs": [
    {
     "name": "stdout",
     "output_type": "stream",
     "text": [
      "Under folder data_digits I found the following subfolders/classes:\n",
      "['1', '2']\n",
      "10 files in subfolder data_digits/1/\n",
      "10 files in subfolder data_digits/2/\n",
      "There are 20 images in total available.\n"
     ]
    }
   ],
   "source": [
    "my_image_provider = image_provider( \"data_digits\" )"
   ]
  },
  {
   "cell_type": "markdown",
   "metadata": {},
   "source": [
    "Let us retrieve randomly one of the images and display it."
   ]
  },
  {
   "cell_type": "code",
   "execution_count": 8,
   "metadata": {},
   "outputs": [
    {
     "name": "stdout",
     "output_type": "stream",
     "text": [
      "image has type <class 'numpy.ndarray'>\n",
      "image has shape (100, 100, 3)\n",
      "teacher vec: [ 0.  1.]\n"
     ]
    },
    {
     "data": {
      "image/png": "[encoded data removed]",
      "text/plain": [
       "<Figure size 432x288 with 1 Axes>"
      ]
     },
     "metadata": {},
     "output_type": "display_data"
    }
   ],
   "source": [
    "import matplotlib.pyplot as plt\n",
    "\n",
    "image, class_id, class_name, teacher_vec = \\\n",
    "    my_image_provider.get_random_image()\n",
    "print(\"image has type\", type(image))\n",
    "print(\"image has shape\", image.shape)\n",
    "print(\"teacher vec:\", teacher_vec)\n",
    "plt.imshow(image)\n",
    "plt.title(\"One of the images with label {}\".format(class_name))\n",
    "plt.show()"
   ]
  },
  {
   "cell_type": "markdown",
   "metadata": {},
   "source": [
    "# Build a MLP model"
   ]
  },
  {
   "cell_type": "code",
   "execution_count": 9,
   "metadata": {},
   "outputs": [
    {
     "name": "stdout",
     "output_type": "stream",
     "text": [
      "Input vectors for this MLP will have length 30000\n",
      "_________________________________________________________________\n",
      "Layer (type)                 Output Shape              Param #   \n",
      "=================================================================\n",
      "dense_1 (Dense)              (None, 2)                 60002     \n",
      "=================================================================\n",
      "Total params: 60,002\n",
      "Trainable params: 60,002\n",
      "Non-trainable params: 0\n",
      "_________________________________________________________________\n"
     ]
    }
   ],
   "source": [
    "from keras.models import Sequential\n",
    "from keras import layers\n",
    "from keras.layers.core import Dense\n",
    "from keras import backend as K\n",
    "\n",
    "nr_channels = 3\n",
    "input_vec_dim = IMG_SIZE[0] * IMG_SIZE[1] * nr_channels\n",
    "print(\"Input vectors for this MLP will have length\", input_vec_dim)\n",
    "\n",
    "K.clear_session()\n",
    "\n",
    "model = Sequential()\n",
    "model.add(Dense(2, activation=\"linear\", input_dim=input_vec_dim))\n",
    "\n",
    "model.summary()\n",
    "\n",
    "model.compile(loss='mean_squared_error', optimizer='sgd')"
   ]
  },
  {
   "cell_type": "markdown",
   "metadata": {},
   "source": [
    "# Train the MLP with images"
   ]
  },
  {
   "cell_type": "code",
   "execution_count": 10,
   "metadata": {},
   "outputs": [
    {
     "name": "stdout",
     "output_type": "stream",
     "text": [
      "Trained on 0 images so far...\n",
      "Trained on 100 images so far...\n",
      "Trained on 200 images so far...\n",
      "Trained on 300 images so far...\n",
      "Trained on 400 images so far...\n",
      "Trained on 500 images so far...\n",
      "Trained on 600 images so far...\n",
      "Trained on 700 images so far...\n",
      "Trained on 800 images so far...\n",
      "Trained on 900 images so far...\n",
      "Training finished!\n"
     ]
    }
   ],
   "source": [
    "NR_TRAIN_IMAGES = 1000\n",
    "\n",
    "for train_img_idx in range(0,NR_TRAIN_IMAGES):\n",
    "    \n",
    "    if train_img_idx % 100 == 0:\n",
    "        print(\"Trained on {} images so far...\".\n",
    "             format(train_img_idx))\n",
    "\n",
    "    # Get a random image from the image provider\n",
    "    image, class_id, class_name, teacher_vec = \\\n",
    "        my_image_provider.get_random_image()\n",
    "    \n",
    "    # Show the training image?\n",
    "    if False:\n",
    "        plt.imshow(image)\n",
    "        plt.title(\"Training image with label {}\".format(class_name))\n",
    "        plt.show()\n",
    "    \n",
    "    # Flatten the 3D input image to a 1D input vector\n",
    "    input_vec = image.flatten()\n",
    "        \n",
    "    #print(\"image has shape\", image.shape)\n",
    "    #print(\"input_vec has shape\", input_vec.shape)\n",
    "    #print(\"teacher_vec is\", teacher_vec)\n",
    "    #print(input_vec)\n",
    "    \n",
    "    input_vec = input_vec.reshape( (1, input_vec.shape[0]) )\n",
    "    teacher_vec = teacher_vec.reshape( (1, teacher_vec.shape[0]) )\n",
    "    #print(\"input_vec has shape\", input_vec.shape)\n",
    "    #print(\"teacher_vec has shape\", teacher_vec.shape)\n",
    "            \n",
    "    model.fit(input_vec, teacher_vec, epochs=1, verbose=0)\n",
    "    \n",
    "print(\"Training finished!\")"
   ]
  },
  {
   "cell_type": "markdown",
   "metadata": {
    "collapsed": true
   },
   "source": [
    "# Test the final MLP on training data\n",
    "\n",
    "Now let us see how good the trained MLP performs on the same data on which we trained it: the training data."
   ]
  },
  {
   "cell_type": "code",
   "execution_count": 11,
   "metadata": {},
   "outputs": [
    {
     "name": "stdout",
     "output_type": "stream",
     "text": [
      "\n",
      "Testing with training image 0\n",
      "output neuron values are: [[  9.99999881e-01   2.53319740e-07]]\n",
      "predicted: 0 vs. real: 0\n",
      "\n",
      "Testing with training image 1\n",
      "output neuron values are: [[  1.00000250e+00  -2.47731805e-06]]\n",
      "predicted: 0 vs. real: 0\n",
      "\n",
      "Testing with training image 2\n",
      "output neuron values are: [[  1.00000012e+00   4.73111868e-07]]\n",
      "predicted: 0 vs. real: 0\n",
      "\n",
      "Testing with training image 3\n",
      "output neuron values are: [[  9.99999762e-01   8.19563866e-08]]\n",
      "predicted: 0 vs. real: 0\n",
      "\n",
      "Testing with training image 4\n",
      "output neuron values are: [[  9.99999523e-01   3.24100256e-07]]\n",
      "predicted: 0 vs. real: 0\n",
      "\n",
      "Testing with training image 5\n",
      "output neuron values are: [[  9.99997616e-01   1.93342566e-06]]\n",
      "predicted: 0 vs. real: 0\n",
      "\n",
      "Testing with training image 6\n",
      "output neuron values are: [[  9.99999881e-01  -7.45058060e-09]]\n",
      "predicted: 0 vs. real: 0\n",
      "\n",
      "Testing with training image 7\n",
      "output neuron values are: [[  9.99999881e-01  -9.68575478e-07]]\n",
      "predicted: 0 vs. real: 0\n",
      "\n",
      "Testing with training image 8\n",
      "output neuron values are: [[  1.00000024e+00   1.11758709e-08]]\n",
      "predicted: 0 vs. real: 0\n",
      "\n",
      "Testing with training image 9\n",
      "output neuron values are: [[  1.00000143e+00   2.83494592e-06]]\n",
      "predicted: 0 vs. real: 0\n",
      "\n",
      "Testing with training image 10\n",
      "output neuron values are: [[ -1.34110451e-07   1.00000024e+00]]\n",
      "predicted: 1 vs. real: 1\n",
      "\n",
      "Testing with training image 11\n",
      "output neuron values are: [[  8.94069672e-08   9.99999881e-01]]\n",
      "predicted: 1 vs. real: 1\n",
      "\n",
      "Testing with training image 12\n",
      "output neuron values are: [[ -1.19209290e-07   9.99999702e-01]]\n",
      "predicted: 1 vs. real: 1\n",
      "\n",
      "Testing with training image 13\n",
      "output neuron values are: [[ -4.84287739e-07   9.99999642e-01]]\n",
      "predicted: 1 vs. real: 1\n",
      "\n",
      "Testing with training image 14\n",
      "output neuron values are: [[ -2.23517418e-08   9.99999940e-01]]\n",
      "predicted: 1 vs. real: 1\n",
      "\n",
      "Testing with training image 15\n",
      "output neuron values are: [[  2.23517418e-08   1.00000000e+00]]\n",
      "predicted: 1 vs. real: 1\n",
      "\n",
      "Testing with training image 16\n",
      "output neuron values are: [[  5.96046448e-08   1.00000000e+00]]\n",
      "predicted: 1 vs. real: 1\n",
      "\n",
      "Testing with training image 17\n",
      "output neuron values are: [[  6.70552254e-08   9.99999940e-01]]\n",
      "predicted: 1 vs. real: 1\n",
      "\n",
      "Testing with training image 18\n",
      "output neuron values are: [[ -2.23517418e-08   1.00000000e+00]]\n",
      "predicted: 1 vs. real: 1\n",
      "\n",
      "Testing with training image 19\n",
      "output neuron values are: [[ -2.23517418e-08   9.99999940e-01]]\n",
      "predicted: 1 vs. real: 1\n",
      "\n",
      "---\n",
      "Correctly classified 20 of 20 images.\n"
     ]
    }
   ],
   "source": [
    "# No images correctly classified so far\n",
    "correctly_classified = 0\n",
    "\n",
    "for img_idx in range(0, my_image_provider.nr_images):\n",
    "    \n",
    "    print(\"\\nTesting with training image {}\".\n",
    "             format(img_idx))\n",
    "\n",
    "    # Get image from image provider\n",
    "    image, gt_class_id, gt_class_name, teacher_vec = \\\n",
    "        my_image_provider.get_specific_image( img_idx )\n",
    "    \n",
    "    # Flatten the 3D input image to a 1D input vector\n",
    "    input_vec = image.flatten()\n",
    "    \n",
    "    # Inputs for predit method have to be 2D\n",
    "    input_vec = input_vec.reshape( (1, input_vec.shape[0]) )\n",
    "    teacher_vec = teacher_vec.reshape( (1, teacher_vec.shape[0]) )\n",
    "    \n",
    "    # Let the MLP predict the class!\n",
    "    neuron_outputs = model.predict(input_vec)\n",
    "    print(\"output neuron values are:\", neuron_outputs)\n",
    "    \n",
    "    # Get final prediction result:\n",
    "    # Which of the n output neurons has the largest output?\n",
    "    predicted_class_id = np.argmax(neuron_outputs.reshape(-1))\n",
    "        \n",
    "    # Show comparison of predicted vs. ground-truth label\n",
    "    print(\"predicted: {} vs. real: {}\".\n",
    "          format(predicted_class_id, gt_class_id))\n",
    "    \n",
    "    # Compute correct classification rate\n",
    "    if predicted_class_id==gt_class_id:\n",
    "        correctly_classified += 1\n",
    "        \n",
    "print(\"\\n---\\nCorrectly classified {} of {} images.\".\n",
    "      format(correctly_classified, my_image_provider.nr_images))"
   ]
  },
  {
   "cell_type": "markdown",
   "metadata": {
    "collapsed": true
   },
   "source": [
    "# Testing the MLP with new images\n",
    "\n",
    "In order to generate new test images, we just shift the digits some pixels to the right."
   ]
  },
  {
   "cell_type": "code",
   "execution_count": 13,
   "metadata": {},
   "outputs": [
    {
     "name": "stdout",
     "output_type": "stream",
     "text": [
      "Tested on 0 test images so far...\n",
      "\n",
      "Test image: 0\n"
     ]
    },
    {
     "data": {
      "image/png": "[encoded data removed]",
      "text/plain": [
       "<Figure size 432x288 with 1 Axes>"
      ]
     },
     "metadata": {},
     "output_type": "display_data"
    },
    {
     "data": {
      "image/png": "[encoded data removed]",
      "text/plain": [
       "<Figure size 432x288 with 1 Axes>"
      ]
     },
     "metadata": {},
     "output_type": "display_data"
    },
    {
     "name": "stdout",
     "output_type": "stream",
     "text": [
      "\n",
      "Test image: 1\n"
     ]
    },
    {
     "data": {
      "image/png": "[encoded data removed]",
      "text/plain": [
       "<Figure size 432x288 with 1 Axes>"
      ]
     },
     "metadata": {},
     "output_type": "display_data"
    },
    {
     "data": {
      "image/png": "[encoded data removed]",
      "text/plain": [
       "<Figure size 432x288 with 1 Axes>"
      ]
     },
     "metadata": {},
     "output_type": "display_data"
    },
    {
     "name": "stdout",
     "output_type": "stream",
     "text": [
      "\n",
      "Test image: 2\n"
     ]
    },
    {
     "data": {
      "image/png": "[encoded data removed]",
      "text/plain": [
       "<Figure size 432x288 with 1 Axes>"
      ]
     },
     "metadata": {},
     "output_type": "display_data"
    },
    {
     "data": {
      "image/png": "[encoded data removed]",
      "text/plain": [
       "<Figure size 432x288 with 1 Axes>"
      ]
     },
     "metadata": {},
     "output_type": "display_data"
    },
    {
     "name": "stdout",
     "output_type": "stream",
     "text": [
      "Tested on 100 test images so far...\n",
      "Tested on 200 test images so far...\n",
      "Tested on 300 test images so far...\n",
      "Tested on 400 test images so far...\n",
      "Tested on 500 test images so far...\n",
      "Tested on 600 test images so far...\n",
      "Tested on 700 test images so far...\n",
      "Tested on 800 test images so far...\n",
      "Tested on 900 test images so far...\n",
      "\n",
      "---\n",
      "Correctly classified 572 of 1000 images.\n"
     ]
    }
   ],
   "source": [
    "# No images correctly classified so far\n",
    "correctly_classified = 0\n",
    "\n",
    "NR_TEST_IMAGES = 1000\n",
    "\n",
    "for test_img_idx in range(0,NR_TEST_IMAGES):\n",
    "    \n",
    "    if test_img_idx % 100 == 0:\n",
    "        print(\"Tested on {} test images so far...\".\n",
    "             format(test_img_idx))\n",
    "    \n",
    "    # Get a random image from the image provider\n",
    "    image, class_id, class_name, teacher_vec = \\\n",
    "        my_image_provider.get_random_image()\n",
    "        \n",
    "    # Shift this original image a little bit to the right\n",
    "    # in order to generate a new random image\n",
    "    image2 = np.zeros( image.shape )\n",
    "    MIN_SHIFT = 1\n",
    "    MAX_SHIFT = 10\n",
    "    rnd_shift = np.random.randint(MIN_SHIFT, MAX_SHIFT)\n",
    "    nr_rows = image.shape[0]\n",
    "    nr_cols = image.shape[1]\n",
    "    for row_idx in range(0,nr_rows):\n",
    "        image2[row_idx][rnd_shift:] = image[row_idx][0:nr_cols-rnd_shift]\n",
    "        \n",
    "    # Show the original and the new image?\n",
    "    # Only for the first 3 test images, else:\n",
    "    # too much output!\n",
    "    if test_img_idx < 3:\n",
    "        print(\"\\nTest image: {}\".format(test_img_idx))\n",
    "        plt.imshow(image)\n",
    "        plt.title(\"Original image with label {}\".format(class_name))\n",
    "        plt.show()\n",
    "        plt.imshow(image2)\n",
    "        plt.title(\"Automatically generated test image with label {}\".\n",
    "                  format(class_name))\n",
    "        plt.show()\n",
    "    \n",
    "    # Prepare input for the MLP\n",
    "    input_vec = image2.flatten()    \n",
    "    input_vec = input_vec.reshape( (1, input_vec.shape[0]) )\n",
    "    teacher_vec = teacher_vec.reshape( (1, teacher_vec.shape[0]) )\n",
    "            \n",
    "    # Let the MLP predict the class!\n",
    "    neuron_outputs = model.predict(input_vec)\n",
    "    #print(\"output neuron values are:\", neuron_outputs)\n",
    "    \n",
    "    # Get final prediction result:\n",
    "    # Which of the n output neurons has the largest output?\n",
    "    predicted_class_id = \\\n",
    "        np.argmax(neuron_outputs.reshape(-1))\n",
    "        \n",
    "    # Show comparison of predicted vs. ground-truth label\n",
    "    #print(\"predicted: {} vs. real: {}\".\n",
    "    #      format(predicted_class_id, gt_class_id))\n",
    "    \n",
    "    # Compute correct classification rate\n",
    "    if predicted_class_id==gt_class_id:\n",
    "        correctly_classified += 1\n",
    "        \n",
    "print(\"\\n---\\nCorrectly classified {} of {} images.\".\n",
    "      format(correctly_classified, NR_TEST_IMAGES))"
   ]
  },
  {
   "cell_type": "markdown",
   "metadata": {},
   "source": [
    "# Conclusions\n",
    "\n",
    "The test of this MLP for image classification shows.\n",
    "\n",
    "It performs perfectly on the training data, since it used it huge sets of parameters to directly map the few input images to the desired output values.\n",
    "\n",
    "However, on new images (just translated variants of the original image), the MLP is not besser than randomly guessing the class of the image.\n",
    "\n",
    "By this we show that image classification with a MLP is not a good idea. Instead, we need another model that is able to come up with a representation of the image that is (mostly) invariant to translations (and all the other transformations, e.g. rotation).\n",
    "\n",
    "This will lead us to Convolutional Neural Networks (CNN).\n"
   ]
  },
  {
   "cell_type": "code",
   "execution_count": null,
   "metadata": {
    "collapsed": true
   },
   "outputs": [],
   "source": []
  }
 ],
 "metadata": {
  "kernelspec": {
   "display_name": "Python 3",
   "language": "python",
   "name": "python3"
  },
  "language_info": {
   "codemirror_mode": {
    "name": "ipython",
    "version": 3
   },
   "file_extension": ".py",
   "mimetype": "text/x-python",
   "name": "python",
   "nbconvert_exporter": "python",
   "pygments_lexer": "ipython3",
   "version": "3.6.2"
  },
  "toc": {
   "base_numbering": 1,
   "nav_menu": {},
   "number_sections": true,
   "sideBar": true,
   "skip_h1_title": false,
   "title_cell": "Table of Contents",
   "title_sidebar": "Contents",
   "toc_cell": true,
   "toc_position": {},
   "toc_section_display": true,
   "toc_window_display": false
  }
 },
 "nbformat": 4,
 "nbformat_minor": 2
}
